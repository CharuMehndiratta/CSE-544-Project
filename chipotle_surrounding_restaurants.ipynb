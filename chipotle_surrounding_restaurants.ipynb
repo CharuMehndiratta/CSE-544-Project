{
 "cells": [
  {
   "cell_type": "code",
   "execution_count": 20,
   "metadata": {},
   "outputs": [],
   "source": [
    "import json\n",
    "import seaborn as sns\n",
    "import pandas as  pd\n",
    "import matplotlib.pyplot as plt\n",
    "import itertools\n",
    "import numpy as np\n",
    "import pickle"
   ]
  },
  {
   "cell_type": "code",
   "execution_count": 21,
   "metadata": {},
   "outputs": [],
   "source": [
    "with open('/Users/charumehndiratta/Downloads/business_df.pickle', 'rb') as handle:\n",
    "    business_df = pickle.load(handle)"
   ]
  },
  {
   "cell_type": "code",
   "execution_count": 22,
   "metadata": {},
   "outputs": [],
   "source": [
    "with open('/Users/charumehndiratta/Downloads/review_df.pickle', 'rb') as handle:\n",
    "    reviews_df = pickle.load(handle)"
   ]
  },
  {
   "cell_type": "code",
   "execution_count": 23,
   "metadata": {},
   "outputs": [],
   "source": [
    "with open('/Users/charumehndiratta/Downloads/business_categories_df.pickle', 'rb') as handle:\n",
    "    business_categories_df = pickle.load(handle)"
   ]
  },
  {
   "cell_type": "code",
   "execution_count": 24,
   "metadata": {},
   "outputs": [],
   "source": [
    "bc_df = business_categories_df[business_categories_df['category_name'] == 'Restaurants']"
   ]
  },
  {
   "cell_type": "code",
   "execution_count": 25,
   "metadata": {},
   "outputs": [],
   "source": [
    "ans = business_df[business_df['name'] == 'Chipotle Mexican Grill']"
   ]
  },
  {
   "cell_type": "code",
   "execution_count": 26,
   "metadata": {},
   "outputs": [],
   "source": [
    "new_ans = pd.merge(business_df, ans, on='postal_code')"
   ]
  },
  {
   "cell_type": "code",
   "execution_count": 27,
   "metadata": {},
   "outputs": [],
   "source": [
    "final_ans = new_ans[new_ans['business_id_x'] != new_ans['business_id_y']]"
   ]
  },
  {
   "cell_type": "code",
   "execution_count": 28,
   "metadata": {},
   "outputs": [],
   "source": [
    "fin_ans = final_ans.rename(index=str, columns={\"business_id_x\": \"business_id\"})"
   ]
  },
  {
   "cell_type": "code",
   "execution_count": 29,
   "metadata": {},
   "outputs": [],
   "source": [
    "new_ans = pd.merge(reviews_df, fin_ans, on='business_id', how='inner')"
   ]
  },
  {
   "cell_type": "code",
   "execution_count": 30,
   "metadata": {},
   "outputs": [],
   "source": [
    "def func1(str):\n",
    "    return pd.to_datetime(str).year\n",
    "\n",
    "b_df = new_ans['date'].apply(lambda row: func1(row))\n"
   ]
  },
  {
   "cell_type": "code",
   "execution_count": 31,
   "metadata": {},
   "outputs": [],
   "source": [
    "new_ans['year'] = b_df"
   ]
  },
  {
   "cell_type": "code",
   "execution_count": 37,
   "metadata": {},
   "outputs": [],
   "source": [
    "final_new_ans = new_ans[(new_ans['year'] >= 2007 )& (new_ans['year'] <= 2009) ]"
   ]
  },
  {
   "cell_type": "code",
   "execution_count": 38,
   "metadata": {},
   "outputs": [
    {
     "data": {
      "text/html": [
       "<div>\n",
       "<style scoped>\n",
       "    .dataframe tbody tr th:only-of-type {\n",
       "        vertical-align: middle;\n",
       "    }\n",
       "\n",
       "    .dataframe tbody tr th {\n",
       "        vertical-align: top;\n",
       "    }\n",
       "\n",
       "    .dataframe thead th {\n",
       "        text-align: right;\n",
       "    }\n",
       "</style>\n",
       "<table border=\"1\" class=\"dataframe\">\n",
       "  <thead>\n",
       "    <tr style=\"text-align: right;\">\n",
       "      <th></th>\n",
       "      <th>business_id</th>\n",
       "      <th>cool</th>\n",
       "      <th>date</th>\n",
       "      <th>funny</th>\n",
       "      <th>review_id</th>\n",
       "      <th>stars</th>\n",
       "      <th>text</th>\n",
       "      <th>useful</th>\n",
       "      <th>user_id</th>\n",
       "      <th>city_x</th>\n",
       "      <th>...</th>\n",
       "      <th>business_id_y</th>\n",
       "      <th>city_y</th>\n",
       "      <th>is_open_y</th>\n",
       "      <th>latitude_y</th>\n",
       "      <th>longitude_y</th>\n",
       "      <th>name_y</th>\n",
       "      <th>review_count_y</th>\n",
       "      <th>stars_y</th>\n",
       "      <th>state_y</th>\n",
       "      <th>year</th>\n",
       "    </tr>\n",
       "  </thead>\n",
       "  <tbody>\n",
       "    <tr>\n",
       "      <th>39</th>\n",
       "      <td>pLZ9oZM8c6MNbRlg06lBPg</td>\n",
       "      <td>0</td>\n",
       "      <td>2009-07-31</td>\n",
       "      <td>0</td>\n",
       "      <td>kHW5QO84yjYFisHqqYSlHw</td>\n",
       "      <td>1</td>\n",
       "      <td>693</td>\n",
       "      <td>1</td>\n",
       "      <td>TIeFdVEQiMKrVlC-YUbMGg</td>\n",
       "      <td>Las Vegas</td>\n",
       "      <td>...</td>\n",
       "      <td>AI7zxDNVgO3pDyAP_rcA7A</td>\n",
       "      <td>Las Vegas</td>\n",
       "      <td>1</td>\n",
       "      <td>36.291499</td>\n",
       "      <td>-115.287365</td>\n",
       "      <td>Chipotle Mexican Grill</td>\n",
       "      <td>97</td>\n",
       "      <td>3.0</td>\n",
       "      <td>NV</td>\n",
       "      <td>2009</td>\n",
       "    </tr>\n",
       "  </tbody>\n",
       "</table>\n",
       "<p>1 rows × 28 columns</p>\n",
       "</div>"
      ],
      "text/plain": [
       "               business_id  cool        date  funny               review_id  \\\n",
       "39  pLZ9oZM8c6MNbRlg06lBPg     0  2009-07-31      0  kHW5QO84yjYFisHqqYSlHw   \n",
       "\n",
       "    stars  text  useful                 user_id     city_x  ...   \\\n",
       "39      1   693       1  TIeFdVEQiMKrVlC-YUbMGg  Las Vegas  ...    \n",
       "\n",
       "             business_id_y     city_y  is_open_y latitude_y longitude_y  \\\n",
       "39  AI7zxDNVgO3pDyAP_rcA7A  Las Vegas          1  36.291499 -115.287365   \n",
       "\n",
       "                    name_y  review_count_y stars_y state_y  year  \n",
       "39  Chipotle Mexican Grill              97     3.0      NV  2009  \n",
       "\n",
       "[1 rows x 28 columns]"
      ]
     },
     "execution_count": 38,
     "metadata": {},
     "output_type": "execute_result"
    }
   ],
   "source": [
    "final_new_ans.head(1)"
   ]
  },
  {
   "cell_type": "code",
   "execution_count": 39,
   "metadata": {},
   "outputs": [],
   "source": [
    "total_stars_surrounding_rest = final_new_ans[['review_count_y', 'year']]"
   ]
  },
  {
   "cell_type": "code",
   "execution_count": 40,
   "metadata": {},
   "outputs": [],
   "source": [
    "review_count = total_stars_surrounding_rest['review_count_y'].tolist()\n",
    "year = total_stars_surrounding_rest['year'].tolist()\n",
    "\n",
    "final_result = {}\n",
    "for i in range(len(review_count)):\n",
    "    if year[i] in final_result:\n",
    "        final_result[year[i]]['review_count'] = final_result[year[i]]['review_count'] + review_count[i]\n",
    "        final_result[year[i]]['count'] = final_result[year[i]]['count'] + 1\n",
    "    else:\n",
    "        final_result[year[i]] = {'review_count' : review_count[i], 'count':1}"
   ]
  },
  {
   "cell_type": "code",
   "execution_count": 41,
   "metadata": {},
   "outputs": [
    {
     "data": {
      "image/png": "[encoded data removed]",
      "text/plain": [
       "<matplotlib.figure.Figure at 0x1a138d8fd0>"
      ]
     },
     "metadata": {},
     "output_type": "display_data"
    }
   ],
   "source": [
    "# final_result\n",
    "import matplotlib.pyplot as plt\n",
    "\n",
    "plt.xlabel(\"Year\")\n",
    "plt.ylabel(\"Average Review Count\")\n",
    "plt.grid()\n",
    "\n",
    "x_label = list(final_result.keys())\n",
    "vals = list(final_result.values())\n",
    "\n",
    "y_label = []\n",
    "for val in vals:  \n",
    "    y_label.append(val['review_count']/val['count'])\n",
    "plt.scatter(\n",
    "    x_label,\n",
    "    y_label,\n",
    "    color='b')\n",
    "\n",
    "plt.xticks(x_label)\n",
    "plt.title('Restaurants surrounding Chipotle')\n",
    "plt.savefig('fun_fact_chipotle.png')"
   ]
  }
 ],
 "metadata": {
  "kernelspec": {
   "display_name": "Python 3",
   "language": "python",
   "name": "python3"
  },
  "language_info": {
   "codemirror_mode": {
    "name": "ipython",
    "version": 3
   },
   "file_extension": ".py",
   "mimetype": "text/x-python",
   "name": "python",
   "nbconvert_exporter": "python",
   "pygments_lexer": "ipython3",
   "version": "3.6.4"
  }
 },
 "nbformat": 4,
 "nbformat_minor": 2
}
