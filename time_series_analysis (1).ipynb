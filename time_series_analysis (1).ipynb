{
 "cells": [
  {
   "cell_type": "code",
   "execution_count": 1,
   "metadata": {},
   "outputs": [],
   "source": [
    "import pandas as pd\n",
    "import pickle as pkl\n",
    "import matplotlib.pyplot as plt\n",
    "import scipy"
   ]
  },
  {
   "cell_type": "code",
   "execution_count": 2,
   "metadata": {},
   "outputs": [],
   "source": [
    "def load_pickles(path):\n",
    "    pickle_file = pd.read_pickle(path)\n",
    "    return pickle_file"
   ]
  },
  {
   "cell_type": "code",
   "execution_count": 3,
   "metadata": {},
   "outputs": [],
   "source": [
    "#loading the pickle files\n",
    "\n",
    "reviews_path = \"C:/Users/tjnai/Downloads/reviews.pickle\"\n",
    "business_path = \"C:/Users/tjnai/Downloads/business.pickle\"\n",
    "bcategories_path = \"C:/Users/tjnai/Downloads/business_categories.pickle\"\n",
    "\n",
    "reviews = load_pickles(reviews_path)\n",
    "businesses = load_pickles(business_path)\n",
    "business_categories = load_pickles(bcategories_path)"
   ]
  },
  {
   "cell_type": "code",
   "execution_count": 4,
   "metadata": {},
   "outputs": [],
   "source": [
    "#Converting into dataframes\n",
    "\n",
    "bcategories_df = pd.DataFrame(data=business_categories)\n",
    "reviews_df = pd.DataFrame(data=reviews)"
   ]
  },
  {
   "cell_type": "code",
   "execution_count": 5,
   "metadata": {},
   "outputs": [],
   "source": [
    "#Selecting only restaurants from all businesses\n",
    "restaurants_df = bcategories_df[bcategories_df['category_name'] == 'Restaurants']\n",
    "\n",
    "#Finding reviews of restaurants\n",
    "restaurant_reviews = pd.merge(restaurants_df,reviews_df, on='business_id')\n",
    "\n",
    "#Select columns\n",
    "restaurant_reviews_df = restaurant_reviews[['business_id','date','review_id','stars','user_id']]"
   ]
  },
  {
   "cell_type": "code",
   "execution_count": 30,
   "metadata": {},
   "outputs": [],
   "source": [
    "#restaurant_reviews_df"
   ]
  },
  {
   "cell_type": "code",
   "execution_count": 6,
   "metadata": {},
   "outputs": [
    {
     "data": {
      "text/plain": [
       "business_id          4JNXUYY8wbaaDmk3BPzlWw\n",
       "number_of_reviews                      7362\n",
       "Name: 4529, dtype: object"
      ]
     },
     "execution_count": 6,
     "metadata": {},
     "output_type": "execute_result"
    }
   ],
   "source": [
    "#Restaurant with highest number of reviews\n",
    "\n",
    "temp_df = pd.DataFrame(data = restaurant_reviews_df.groupby('business_id').size()).reset_index()\n",
    "temp_df.columns = ['business_id', 'number_of_reviews']\n",
    "temp_df.loc[temp_df['number_of_reviews'].idxmax()]"
   ]
  },
  {
   "cell_type": "code",
   "execution_count": 21,
   "metadata": {},
   "outputs": [
    {
     "data": {
      "text/plain": [
       "business_id          4JNXUYY8wbaaDmk3BPzlWw\n",
       "number_of_reviews                      7362\n",
       "Name: 4529, dtype: object"
      ]
     },
     "execution_count": 21,
     "metadata": {},
     "output_type": "execute_result"
    }
   ],
   "source": []
  },
  {
   "cell_type": "code",
   "execution_count": 7,
   "metadata": {},
   "outputs": [],
   "source": [
    "#Creating training and testing data\n",
    "restaurant_of_interest = restaurant_reviews_df[restaurant_reviews_df['business_id']== '4JNXUYY8wbaaDmk3BPzlWw']\n",
    "\n",
    "#playing with dates\n",
    "dates = restaurant_of_interest['date']"
   ]
  },
  {
   "cell_type": "code",
   "execution_count": 34,
   "metadata": {},
   "outputs": [],
   "source": [
    "def groupby_date(restaurant_of_interest):\n",
    "    year = []\n",
    "    month = []\n",
    "    for index, row in restaurant_of_interest.iterrows():\n",
    "        split_date = row['date'].split('-')\n",
    "        if int(split_date[0])>2012:\n",
    "            year.append(split_date[0])\n",
    "            month.append(split_date[1])\n",
    "\n",
    "    year = pd.Series(year)\n",
    "    month = pd.Series(month)\n",
    "    hotel = pd.DataFrame()\n",
    "    hotel['year'] = year.values\n",
    "    hotel['month'] = month.values\n",
    "\n",
    "    ans = hotel.groupby(['year', 'month']).size().reset_index()\n",
    "    ans.columns = ['year', 'month','total_reviews']\n",
    "    \n",
    "    return ans\n",
    "\n",
    "def create_train_test(restaurant_df):\n",
    "    train_df = restaurant_df[restaurant_df['year']<'2017']\n",
    "    test_df = restaurant_df[restaurant_df['year']=='2017']\n",
    "    return train_df,test_df\n",
    "\n",
    "def concatenate(df):\n",
    "    year_month = []\n",
    "    total_reviews=[]\n",
    "    for index, row in df.iterrows():\n",
    "        year_month.append(row['year']+'_'+row['month'])\n",
    "        total_reviews.append(row['total_reviews'])\n",
    "    year_month = pd.Series(year_month)\n",
    "    total_reviews=pd.Series(total_reviews)\n",
    "    df_new = pd.DataFrame()\n",
    "    df_new['year-month']= year_month.values\n",
    "    df_new['reviews']=total_reviews.values\n",
    "    \n",
    "    return df_new"
   ]
  },
  {
   "cell_type": "code",
   "execution_count": 58,
   "metadata": {},
   "outputs": [],
   "source": [
    "def seasonal(train_df,test_df,pred_start,pred_end):\n",
    "    \n",
    "    season = 12\n",
    "    df = pd.DataFrame()\n",
    "    previous_reviews = train_df['total_reviews']\n",
    "    predicted_reviews = []\n",
    "    actual_reviews = []\n",
    "    for index,row in test_df.iterrows():\n",
    "        actual_reviews.append(row['total_reviews'])\n",
    "        \n",
    "    for index in range(pred_start,pred_end+1):\n",
    "        predicted_reviews.append(previous_reviews[index-season])\n",
    "        \n",
    "    df['predicted_reviews'] = predicted_reviews\n",
    "    df['actual_reviews'] = actual_reviews\n",
    "     \n",
    "    \n",
    "    return df"
   ]
  },
  {
   "cell_type": "code",
   "execution_count": 15,
   "metadata": {},
   "outputs": [
    {
     "data": {
      "text/plain": [
       "<matplotlib.axes._subplots.AxesSubplot at 0x1f23b263cc0>"
      ]
     },
     "execution_count": 15,
     "metadata": {},
     "output_type": "execute_result"
    },
    {
     "data": {
      "image/png": "[encoded data removed]",
      "text/plain": [
       "<Figure size 432x288 with 1 Axes>"
      ]
     },
     "metadata": {},
     "output_type": "display_data"
    }
   ],
   "source": [
    "hotel_new.plot(x='year-month', y='reviews')"
   ]
  },
  {
   "cell_type": "code",
   "execution_count": 82,
   "metadata": {},
   "outputs": [
    {
     "data": {
      "text/html": [
       "<div>\n",
       "<style scoped>\n",
       "    .dataframe tbody tr th:only-of-type {\n",
       "        vertical-align: middle;\n",
       "    }\n",
       "\n",
       "    .dataframe tbody tr th {\n",
       "        vertical-align: top;\n",
       "    }\n",
       "\n",
       "    .dataframe thead th {\n",
       "        text-align: right;\n",
       "    }\n",
       "</style>\n",
       "<table border=\"1\" class=\"dataframe\">\n",
       "  <thead>\n",
       "    <tr style=\"text-align: right;\">\n",
       "      <th></th>\n",
       "      <th>months</th>\n",
       "      <th>predicted_reviews</th>\n",
       "      <th>actual_Reviews</th>\n",
       "    </tr>\n",
       "  </thead>\n",
       "  <tbody>\n",
       "    <tr>\n",
       "      <th>0</th>\n",
       "      <td>0</td>\n",
       "      <td>100</td>\n",
       "      <td>96</td>\n",
       "    </tr>\n",
       "    <tr>\n",
       "      <th>1</th>\n",
       "      <td>1</td>\n",
       "      <td>89</td>\n",
       "      <td>70</td>\n",
       "    </tr>\n",
       "    <tr>\n",
       "      <th>2</th>\n",
       "      <td>2</td>\n",
       "      <td>88</td>\n",
       "      <td>77</td>\n",
       "    </tr>\n",
       "    <tr>\n",
       "      <th>3</th>\n",
       "      <td>3</td>\n",
       "      <td>96</td>\n",
       "      <td>94</td>\n",
       "    </tr>\n",
       "    <tr>\n",
       "      <th>4</th>\n",
       "      <td>4</td>\n",
       "      <td>86</td>\n",
       "      <td>74</td>\n",
       "    </tr>\n",
       "    <tr>\n",
       "      <th>5</th>\n",
       "      <td>5</td>\n",
       "      <td>91</td>\n",
       "      <td>81</td>\n",
       "    </tr>\n",
       "  </tbody>\n",
       "</table>\n",
       "</div>"
      ],
      "text/plain": [
       "   months  predicted_reviews  actual_Reviews\n",
       "0       0                100              96\n",
       "1       1                 89              70\n",
       "2       2                 88              77\n",
       "3       3                 96              94\n",
       "4       4                 86              74\n",
       "5       5                 91              81"
      ]
     },
     "execution_count": 82,
     "metadata": {},
     "output_type": "execute_result"
    }
   ],
   "source": [
    "ans = groupby_date(restaurant_of_interest)\n",
    "train_df,test_df = create_train_test(ans)\n",
    "train_df_concat = concatenate(train_df)\n",
    "\n",
    "df = seasonal(train_df,test_df,48,59).reset_index()\n",
    "df.columns = ['months','predicted_reviews','actual_Reviews']\n",
    "df_temp = df.iloc[0:6]\n",
    "df_temp"
   ]
  },
  {
   "cell_type": "code",
   "execution_count": 76,
   "metadata": {},
   "outputs": [
    {
     "name": "stderr",
     "output_type": "stream",
     "text": [
      "C:\\Users\\tjnai\\Anaconda2\\envs\\py36\\lib\\site-packages\\pandas\\plotting\\_core.py:1716: UserWarning: Pandas doesn't allow columns to be created via a new attribute name - see https://pandas.pydata.org/pandas-docs/stable/indexing.html#attribute-access\n",
      "  series.name = label\n"
     ]
    },
    {
     "data": {
      "text/plain": [
       "<matplotlib.axes._subplots.AxesSubplot at 0x1f23b6a8940>"
      ]
     },
     "execution_count": 76,
     "metadata": {},
     "output_type": "execute_result"
    },
    {
     "data": {
      "image/png": "[encoded data removed]",
      "text/plain": [
       "<Figure size 432x288 with 1 Axes>"
      ]
     },
     "metadata": {},
     "output_type": "display_data"
    }
   ],
   "source": [
    "df.plot(x='months',y=['predicted_reviews','actual_Reviews'])"
   ]
  },
  {
   "cell_type": "code",
   "execution_count": 83,
   "metadata": {},
   "outputs": [
    {
     "name": "stderr",
     "output_type": "stream",
     "text": [
      "C:\\Users\\tjnai\\Anaconda2\\envs\\py36\\lib\\site-packages\\pandas\\plotting\\_core.py:1716: UserWarning: Pandas doesn't allow columns to be created via a new attribute name - see https://pandas.pydata.org/pandas-docs/stable/indexing.html#attribute-access\n",
      "  series.name = label\n"
     ]
    },
    {
     "data": {
      "text/plain": [
       "<matplotlib.axes._subplots.AxesSubplot at 0x1f23b79e160>"
      ]
     },
     "execution_count": 83,
     "metadata": {},
     "output_type": "execute_result"
    },
    {
     "data": {
      "image/png": "[encoded data removed]",
      "text/plain": [
       "<Figure size 432x288 with 1 Axes>"
      ]
     },
     "metadata": {},
     "output_type": "display_data"
    }
   ],
   "source": [
    "df_temp.plot(x='months',y=['predicted_reviews','actual_Reviews'])"
   ]
  }
 ],
 "metadata": {
  "kernelspec": {
   "display_name": "Python 3",
   "language": "python",
   "name": "python3"
  },
  "language_info": {
   "codemirror_mode": {
    "name": "ipython",
    "version": 3
   },
   "file_extension": ".py",
   "mimetype": "text/x-python",
   "name": "python",
   "nbconvert_exporter": "python",
   "pygments_lexer": "ipython3",
   "version": "3.6.5"
  }
 },
 "nbformat": 4,
 "nbformat_minor": 2
}
