{
 "cells": [
  {
   "cell_type": "code",
   "execution_count": 2,
   "metadata": {},
   "outputs": [],
   "source": [
    "import  json\n",
    "import seaborn as sns\n",
    "import  pandas as  pd\n",
    "import matplotlib.pyplot as plt\n",
    "\n",
    "user_data = open('dataset/user.json')\n",
    "\n",
    "users = []\n",
    "\n",
    "for line in user_data:\n",
    "    users.append(json.loads(line))\n",
    "    \n"
   ]
  },
  {
   "cell_type": "code",
   "execution_count": 4,
   "metadata": {},
   "outputs": [],
   "source": [
    "user_friends = []\n",
    "elite_years = []\n",
    "for user in users:\n",
    "    for friend in user['friends']:\n",
    "        user_friends.append({'user_id': user['user_id'], 'friend_id': friend})\n",
    "    for elite_year in user['elite']:\n",
    "        elite_years.append({'user_id': user['user_id'], 'year': elite_year})\n"
   ]
  },
  {
   "cell_type": "code",
   "execution_count": 5,
   "metadata": {},
   "outputs": [
    {
     "data": {
      "text/plain": [
       "[{'user_id': 'fV8Yr0c5tFQTQ2SRRJHXHw', 'year': 2009},\n",
       " {'user_id': 'aw973Pm1nrTbRjP4zY9B9g', 'year': 2014},\n",
       " {'user_id': 'aw973Pm1nrTbRjP4zY9B9g', 'year': 2016},\n",
       " {'user_id': 'aw973Pm1nrTbRjP4zY9B9g', 'year': 2013},\n",
       " {'user_id': 'aw973Pm1nrTbRjP4zY9B9g', 'year': 2015},\n",
       " {'user_id': 'aw973Pm1nrTbRjP4zY9B9g', 'year': 2010},\n",
       " {'user_id': 'aw973Pm1nrTbRjP4zY9B9g', 'year': 2012},\n",
       " {'user_id': 'aw973Pm1nrTbRjP4zY9B9g', 'year': 2011},\n",
       " {'user_id': 'iWMxMUWNXfdvVl9oXSaltA', 'year': 2017},\n",
       " {'user_id': 'i5jSTSpXJtvM-ExWRttglw', 'year': 2016}]"
      ]
     },
     "execution_count": 5,
     "metadata": {},
     "output_type": "execute_result"
    }
   ],
   "source": [
    "elite_years[:10]"
   ]
  },
  {
   "cell_type": "code",
   "execution_count": 6,
   "metadata": {},
   "outputs": [],
   "source": [
    "import pickle\n",
    "with open(\"user_friends.pickle\", \"wb\") as handle:\n",
    "    pickle.dump(user_friends, handle, protocol=pickle.HIGHEST_PROTOCOL)\n"
   ]
  },
  {
   "cell_type": "code",
   "execution_count": 7,
   "metadata": {},
   "outputs": [],
   "source": [
    "with open(\"elite_years.pickle\", \"wb\") as handle:\n",
    "    pickle.dump(elite_years, handle, protocol=pickle.HIGHEST_PROTOCOL)"
   ]
  },
  {
   "cell_type": "code",
   "execution_count": 8,
   "metadata": {},
   "outputs": [],
   "source": [
    "for user in users:\n",
    "    user.pop('elite')\n",
    "    user.pop('friends')"
   ]
  },
  {
   "cell_type": "code",
   "execution_count": 9,
   "metadata": {},
   "outputs": [],
   "source": [
    "with open(\"users.pickle\", \"wb\") as handle:\n",
    "    pickle.dump(users, handle, protocol=pickle.HIGHEST_PROTOCOL)"
   ]
  },
  {
   "cell_type": "code",
   "execution_count": null,
   "metadata": {},
   "outputs": [],
   "source": []
  }
 ],
 "metadata": {
  "kernelspec": {
   "display_name": "Python 3",
   "language": "python",
   "name": "python3"
  },
  "language_info": {
   "codemirror_mode": {
    "name": "ipython",
    "version": 3
   },
   "file_extension": ".py",
   "mimetype": "text/x-python",
   "name": "python",
   "nbconvert_exporter": "python",
   "pygments_lexer": "ipython3",
   "version": "3.6.4"
  }
 },
 "nbformat": 4,
 "nbformat_minor": 2
}
