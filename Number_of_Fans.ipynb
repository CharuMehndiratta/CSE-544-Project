{
 "cells": [
  {
   "cell_type": "code",
   "execution_count": 37,
   "metadata": {},
   "outputs": [],
   "source": [
    "import json\n",
    "import seaborn as sns\n",
    "import pandas as pd\n",
    "import matplotlib.pyplot as plt\n",
    "import numpy as np\n",
    "import pickle\n",
    "import math\n",
    "import pickle\n",
    "from scipy import stats"
   ]
  },
  {
   "cell_type": "code",
   "execution_count": 9,
   "metadata": {},
   "outputs": [],
   "source": [
    "user_data = open('dataset/user.json')\n",
    "\n",
    "users = []\n",
    "\n",
    "for line in user_data:\n",
    "    users.append(json.loads(line))"
   ]
  },
  {
   "cell_type": "code",
   "execution_count": 56,
   "metadata": {},
   "outputs": [
    {
     "name": "stdout",
     "output_type": "stream",
     "text": [
      "1326101\n"
     ]
    }
   ],
   "source": [
    "friend_counts = []\n",
    "for user in users:\n",
    "    friend_counts.append(user[\"fans\"])\n",
    "\n",
    "print(len(friend_counts))"
   ]
  },
  {
   "cell_type": "code",
   "execution_count": 57,
   "metadata": {},
   "outputs": [
    {
     "name": "stdout",
     "output_type": "stream",
     "text": [
      "291824\n"
     ]
    }
   ],
   "source": [
    "nonzero_friend_counts = [c for c in friend_counts if (c > 0 and c < 12000)]\n",
    "print(len(nonzero_friend_counts))"
   ]
  },
  {
   "cell_type": "code",
   "execution_count": 58,
   "metadata": {},
   "outputs": [],
   "source": [
    "nonzero_friend_counts.sort()"
   ]
  },
  {
   "cell_type": "code",
   "execution_count": 59,
   "metadata": {},
   "outputs": [
    {
     "name": "stdout",
     "output_type": "stream",
     "text": [
      "1\n",
      "4\n",
      "0\n",
      "9\n",
      "255445\n"
     ]
    }
   ],
   "source": [
    "n = len(nonzero_friend_counts)\n",
    "q1 = nonzero_friend_counts[math.ceil(0.25 * n)]\n",
    "q3 = nonzero_friend_counts[math.ceil(0.75 * n)]\n",
    "print(q1)\n",
    "print(q3)\n",
    "IQR = q3 - q1\n",
    "q1 = q1 - math.ceil(IQR*1.5)\n",
    "if (q1 < 0):\n",
    "    q1 = 0\n",
    "q3 = q3 + math.ceil(IQR*1.5)\n",
    "print(q1)\n",
    "print(q3)\n",
    "\n",
    "friend_count = []\n",
    "\n",
    "for f in nonzero_friend_counts:\n",
    "    if (f >= q1 and f <= q3):\n",
    "        friend_count.append(f)\n",
    "        \n",
    "print(len(friend_count))"
   ]
  },
  {
   "cell_type": "code",
   "execution_count": 61,
   "metadata": {},
   "outputs": [
    {
     "name": "stdout",
     "output_type": "stream",
     "text": [
      "686810\n",
      "2.197768599894302\n",
      "1.859996217962335\n"
     ]
    },
    {
     "data": {
      "image/png": "[encoded data removed]",
      "text/plain": [
       "<matplotlib.figure.Figure at 0x1df154a9b38>"
      ]
     },
     "metadata": {},
     "output_type": "display_data"
    },
    {
     "data": {
      "text/plain": [
       "Ks_2sampResult(statistic=1.0, pvalue=1.5817216801977507e-45)"
      ]
     },
     "execution_count": 61,
     "metadata": {},
     "output_type": "execute_result"
    }
   ],
   "source": [
    "import seaborn as sns\n",
    "n = len(review_star)\n",
    "print(n)\n",
    "data = [x for x in friend_count]\n",
    "\n",
    "final_result = {}\n",
    "\n",
    "for x in friend_count:\n",
    "    if not x in final_result:\n",
    "        final_result[x] = 0\n",
    "    final_result[x] = final_result[x] + 1\n",
    "\n",
    "X = []\n",
    "E = []\n",
    "\n",
    "def draw_graph(lam):\n",
    "    z = 3\n",
    "    X = range(0, 50)\n",
    "    for i in X:\n",
    "        E.append(lam*np.exp(-lam*i))\n",
    "\n",
    "    s = \"lambda = %.4f\" % (lam)\n",
    "    plt.step(X, E, label=s, color='r')\n",
    "    plt.grid()\n",
    "    plt.legend(bbox_to_anchor=(0, 1), loc=2, borderaxespad=0.1)\n",
    "\n",
    "\n",
    "x_label = list(final_result.keys())\n",
    "y_label=[]\n",
    "\n",
    "for x in list(final_result.values()):\n",
    "    y_label.append(float(x)/n)\n",
    "\n",
    "plt.xlabel('Review Rating')\n",
    "plt.ylabel('Distribution')\n",
    "\n",
    "plt.bar(x_label, y_label, color='g')\n",
    "\n",
    "arr = np.array(data)\n",
    "mean = arr.mean()\n",
    "std = arr.std()\n",
    "print(mean)\n",
    "print(std)\n",
    "\n",
    "lam = 1.0/float(mean)\n",
    "#print(l)\n",
    "\n",
    "#S = np.arange(0, 10, 0.1)\n",
    "\n",
    "draw_graph(lam)\n",
    "plt.savefig('elite_user_normal_distribution.png')\n",
    "plt.xlim([0, 30])\n",
    "plt.show()\n",
    "\n",
    "stats.ks_2samp(E, data)"
   ]
  },
  {
   "cell_type": "code",
   "execution_count": null,
   "metadata": {},
   "outputs": [],
   "source": []
  },
  {
   "cell_type": "code",
   "execution_count": null,
   "metadata": {},
   "outputs": [],
   "source": []
  }
 ],
 "metadata": {
  "kernelspec": {
   "display_name": "Python 3",
   "language": "python",
   "name": "python3"
  },
  "language_info": {
   "codemirror_mode": {
    "name": "ipython",
    "version": 3
   },
   "file_extension": ".py",
   "mimetype": "text/x-python",
   "name": "python",
   "nbconvert_exporter": "python",
   "pygments_lexer": "ipython3",
   "version": "3.6.4"
  }
 },
 "nbformat": 4,
 "nbformat_minor": 2
}
