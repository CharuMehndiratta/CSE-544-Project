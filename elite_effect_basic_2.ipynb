{
 "cells": [
  {
   "cell_type": "code",
   "execution_count": 167,
   "metadata": {},
   "outputs": [],
   "source": [
    "import json\n",
    "import seaborn as sns\n",
    "import pandas as  pd\n",
    "import matplotlib.pyplot as plt\n",
    "import pickle\n",
    "import itertools\n",
    "import numpy as np"
   ]
  },
  {
   "cell_type": "code",
   "execution_count": 3,
   "metadata": {},
   "outputs": [],
   "source": [
    "with open('users_df.pickle', 'rb') as handle:\n",
    "    users_df = pickle.load(handle)"
   ]
  },
  {
   "cell_type": "code",
   "execution_count": 77,
   "metadata": {},
   "outputs": [],
   "source": [
    "with open('elite_years_df.pickle', 'rb') as handle:\n",
    "    elite_years_df = pickle.load(handle)"
   ]
  },
  {
   "cell_type": "code",
   "execution_count": 333,
   "metadata": {},
   "outputs": [
    {
     "data": {
      "text/html": [
       "<div>\n",
       "<style scoped>\n",
       "    .dataframe tbody tr th:only-of-type {\n",
       "        vertical-align: middle;\n",
       "    }\n",
       "\n",
       "    .dataframe tbody tr th {\n",
       "        vertical-align: top;\n",
       "    }\n",
       "\n",
       "    .dataframe thead th {\n",
       "        text-align: right;\n",
       "    }\n",
       "</style>\n",
       "<table border=\"1\" class=\"dataframe\">\n",
       "  <thead>\n",
       "    <tr style=\"text-align: right;\">\n",
       "      <th></th>\n",
       "      <th>user_id</th>\n",
       "      <th>counts</th>\n",
       "    </tr>\n",
       "  </thead>\n",
       "  <tbody>\n",
       "    <tr>\n",
       "      <th>684</th>\n",
       "      <td>-eVlHbM2KRZQnBqfTXtDvw</td>\n",
       "      <td>13</td>\n",
       "    </tr>\n",
       "    <tr>\n",
       "      <th>2922</th>\n",
       "      <td>23J4vG9_xxxdnmi8CBX7Ng</td>\n",
       "      <td>13</td>\n",
       "    </tr>\n",
       "  </tbody>\n",
       "</table>\n",
       "</div>"
      ],
      "text/plain": [
       "                     user_id  counts\n",
       "684   -eVlHbM2KRZQnBqfTXtDvw      13\n",
       "2922  23J4vG9_xxxdnmi8CBX7Ng      13"
      ]
     },
     "execution_count": 333,
     "metadata": {},
     "output_type": "execute_result"
    }
   ],
   "source": [
    "top_elite_users_df = elite_years_df.groupby('user_id').size().reset_index()\n",
    "top_elite_users_df.columns = ['user_id', 'counts']\n",
    "top_elite_users_df = top_elite_users_df.nlargest(15, 'counts')\n",
    "top_elite_users_df.head(2)"
   ]
  },
  {
   "cell_type": "code",
   "execution_count": 334,
   "metadata": {},
   "outputs": [
    {
     "data": {
      "text/plain": [
       "5261669"
      ]
     },
     "execution_count": 334,
     "metadata": {},
     "output_type": "execute_result"
    }
   ],
   "source": [
    "with open('review_df.pickle', 'rb') as handle:\n",
    "    review_df = pickle.load(handle)\n",
    "len(review_df)"
   ]
  },
  {
   "cell_type": "code",
   "execution_count": 130,
   "metadata": {},
   "outputs": [],
   "source": [
    "elite_user_review_df = pd.DataFrame(pd.merge(review_df, top_elite_users_df, on='user_id'))"
   ]
  },
  {
   "cell_type": "code",
   "execution_count": 335,
   "metadata": {},
   "outputs": [
    {
     "data": {
      "text/plain": [
       "623"
      ]
     },
     "execution_count": 335,
     "metadata": {},
     "output_type": "execute_result"
    }
   ],
   "source": [
    "#elite_user_review_df.head(5)\n",
    "len(elite_user_review_df)"
   ]
  },
  {
   "cell_type": "code",
   "execution_count": 336,
   "metadata": {},
   "outputs": [
    {
     "data": {
      "text/plain": [
       "149"
      ]
     },
     "execution_count": 336,
     "metadata": {},
     "output_type": "execute_result"
    }
   ],
   "source": [
    "elite_user_review5_df = pd.DataFrame(elite_user_review_df[elite_user_review_df['stars'] == 5])\n",
    "len(elite_user_review5_df)"
   ]
  },
  {
   "cell_type": "code",
   "execution_count": 338,
   "metadata": {},
   "outputs": [
    {
     "data": {
      "text/html": [
       "<div>\n",
       "<style scoped>\n",
       "    .dataframe tbody tr th:only-of-type {\n",
       "        vertical-align: middle;\n",
       "    }\n",
       "\n",
       "    .dataframe tbody tr th {\n",
       "        vertical-align: top;\n",
       "    }\n",
       "\n",
       "    .dataframe thead th {\n",
       "        text-align: right;\n",
       "    }\n",
       "</style>\n",
       "<table border=\"1\" class=\"dataframe\">\n",
       "  <thead>\n",
       "    <tr style=\"text-align: right;\">\n",
       "      <th></th>\n",
       "      <th>business_id</th>\n",
       "      <th>cool</th>\n",
       "      <th>date</th>\n",
       "      <th>funny</th>\n",
       "      <th>review_id</th>\n",
       "      <th>stars</th>\n",
       "      <th>text</th>\n",
       "      <th>useful</th>\n",
       "      <th>user_id</th>\n",
       "      <th>counts</th>\n",
       "    </tr>\n",
       "  </thead>\n",
       "  <tbody>\n",
       "    <tr>\n",
       "      <th>0</th>\n",
       "      <td>VbOwWJKLC6k3urXIBWIDJA</td>\n",
       "      <td>16</td>\n",
       "      <td>2007-09-22</td>\n",
       "      <td>7</td>\n",
       "      <td>CE1YPdhhZxQ2yJ_UApprcg</td>\n",
       "      <td>5</td>\n",
       "      <td>1742</td>\n",
       "      <td>8</td>\n",
       "      <td>23J4vG9_xxxdnmi8CBX7Ng</td>\n",
       "      <td>13</td>\n",
       "    </tr>\n",
       "    <tr>\n",
       "      <th>2</th>\n",
       "      <td>ikubvyZFO0kxhA56RETzIg</td>\n",
       "      <td>0</td>\n",
       "      <td>2004-12-24</td>\n",
       "      <td>1</td>\n",
       "      <td>mNNTXbRPA6xKsWAFEJekdA</td>\n",
       "      <td>5</td>\n",
       "      <td>283</td>\n",
       "      <td>1</td>\n",
       "      <td>23J4vG9_xxxdnmi8CBX7Ng</td>\n",
       "      <td>13</td>\n",
       "    </tr>\n",
       "  </tbody>\n",
       "</table>\n",
       "</div>"
      ],
      "text/plain": [
       "              business_id  cool        date  funny               review_id  \\\n",
       "0  VbOwWJKLC6k3urXIBWIDJA    16  2007-09-22      7  CE1YPdhhZxQ2yJ_UApprcg   \n",
       "2  ikubvyZFO0kxhA56RETzIg     0  2004-12-24      1  mNNTXbRPA6xKsWAFEJekdA   \n",
       "\n",
       "   stars  text  useful                 user_id  counts  \n",
       "0      5  1742       8  23J4vG9_xxxdnmi8CBX7Ng      13  \n",
       "2      5   283       1  23J4vG9_xxxdnmi8CBX7Ng      13  "
      ]
     },
     "execution_count": 338,
     "metadata": {},
     "output_type": "execute_result"
    }
   ],
   "source": [
    "elite_user_review5_df.head(2)"
   ]
  },
  {
   "cell_type": "code",
   "execution_count": 339,
   "metadata": {},
   "outputs": [
    {
     "data": {
      "text/html": [
       "<div>\n",
       "<style scoped>\n",
       "    .dataframe tbody tr th:only-of-type {\n",
       "        vertical-align: middle;\n",
       "    }\n",
       "\n",
       "    .dataframe tbody tr th {\n",
       "        vertical-align: top;\n",
       "    }\n",
       "\n",
       "    .dataframe thead th {\n",
       "        text-align: right;\n",
       "    }\n",
       "</style>\n",
       "<table border=\"1\" class=\"dataframe\">\n",
       "  <thead>\n",
       "    <tr style=\"text-align: right;\">\n",
       "      <th></th>\n",
       "      <th>business_id</th>\n",
       "      <th>year</th>\n",
       "    </tr>\n",
       "  </thead>\n",
       "  <tbody>\n",
       "    <tr>\n",
       "      <th>0</th>\n",
       "      <td>VbOwWJKLC6k3urXIBWIDJA</td>\n",
       "      <td>2007</td>\n",
       "    </tr>\n",
       "    <tr>\n",
       "      <th>2</th>\n",
       "      <td>ikubvyZFO0kxhA56RETzIg</td>\n",
       "      <td>2004</td>\n",
       "    </tr>\n",
       "  </tbody>\n",
       "</table>\n",
       "</div>"
      ],
      "text/plain": [
       "              business_id  year\n",
       "0  VbOwWJKLC6k3urXIBWIDJA  2007\n",
       "2  ikubvyZFO0kxhA56RETzIg  2004"
      ]
     },
     "execution_count": 339,
     "metadata": {},
     "output_type": "execute_result"
    }
   ],
   "source": [
    "year = elite_user_review5_df['date'].apply(lambda row: pd.to_datetime(row).year)\n",
    "business_year_df = pd.DataFrame()\n",
    "business_year_df['business_id'] = elite_user_review5_df['business_id']\n",
    "business_year_df['year'] = year\n",
    "business_year_df.head(2)"
   ]
  },
  {
   "cell_type": "code",
   "execution_count": 340,
   "metadata": {},
   "outputs": [
    {
     "data": {
      "text/html": [
       "<div>\n",
       "<style scoped>\n",
       "    .dataframe tbody tr th:only-of-type {\n",
       "        vertical-align: middle;\n",
       "    }\n",
       "\n",
       "    .dataframe tbody tr th {\n",
       "        vertical-align: top;\n",
       "    }\n",
       "\n",
       "    .dataframe thead th {\n",
       "        text-align: right;\n",
       "    }\n",
       "</style>\n",
       "<table border=\"1\" class=\"dataframe\">\n",
       "  <thead>\n",
       "    <tr style=\"text-align: right;\">\n",
       "      <th></th>\n",
       "      <th>business_id</th>\n",
       "      <th>year</th>\n",
       "      <th>cool</th>\n",
       "      <th>date</th>\n",
       "      <th>funny</th>\n",
       "      <th>review_id</th>\n",
       "      <th>stars</th>\n",
       "      <th>text</th>\n",
       "      <th>useful</th>\n",
       "      <th>user_id</th>\n",
       "      <th>year_p</th>\n",
       "      <th>year_n</th>\n",
       "    </tr>\n",
       "  </thead>\n",
       "  <tbody>\n",
       "    <tr>\n",
       "      <th>0</th>\n",
       "      <td>VbOwWJKLC6k3urXIBWIDJA</td>\n",
       "      <td>2007</td>\n",
       "      <td>16</td>\n",
       "      <td>2007-09-22</td>\n",
       "      <td>7</td>\n",
       "      <td>CE1YPdhhZxQ2yJ_UApprcg</td>\n",
       "      <td>5</td>\n",
       "      <td>1742</td>\n",
       "      <td>8</td>\n",
       "      <td>23J4vG9_xxxdnmi8CBX7Ng</td>\n",
       "      <td>2006</td>\n",
       "      <td>2008</td>\n",
       "    </tr>\n",
       "    <tr>\n",
       "      <th>1</th>\n",
       "      <td>VbOwWJKLC6k3urXIBWIDJA</td>\n",
       "      <td>2007</td>\n",
       "      <td>4</td>\n",
       "      <td>2011-01-27</td>\n",
       "      <td>3</td>\n",
       "      <td>T5taDRkLIr2lA_A2IvU1IA</td>\n",
       "      <td>5</td>\n",
       "      <td>732</td>\n",
       "      <td>4</td>\n",
       "      <td>KbVt_z98dP7O1Khkw56AhA</td>\n",
       "      <td>2010</td>\n",
       "      <td>2012</td>\n",
       "    </tr>\n",
       "  </tbody>\n",
       "</table>\n",
       "</div>"
      ],
      "text/plain": [
       "              business_id  year  cool        date  funny  \\\n",
       "0  VbOwWJKLC6k3urXIBWIDJA  2007    16  2007-09-22      7   \n",
       "1  VbOwWJKLC6k3urXIBWIDJA  2007     4  2011-01-27      3   \n",
       "\n",
       "                review_id  stars  text  useful                 user_id  \\\n",
       "0  CE1YPdhhZxQ2yJ_UApprcg      5  1742       8  23J4vG9_xxxdnmi8CBX7Ng   \n",
       "1  T5taDRkLIr2lA_A2IvU1IA      5   732       4  KbVt_z98dP7O1Khkw56AhA   \n",
       "\n",
       "   year_p  year_n  \n",
       "0    2006    2008  \n",
       "1    2010    2012  "
      ]
     },
     "execution_count": 340,
     "metadata": {},
     "output_type": "execute_result"
    }
   ],
   "source": [
    "br_df = pd.DataFrame(pd.merge(business_year_df, review_df, on=['business_id']))\n",
    "year_prv = br_df['date'].apply(lambda row: pd.to_datetime(row).year - 1)\n",
    "year_nxt = br_df['date'].apply(lambda row: pd.to_datetime(row).year + 1)\n",
    "br_df['year_p'] = year_prv\n",
    "br_df['year_n'] = year_nxt\n",
    "br_df.head(2)"
   ]
  },
  {
   "cell_type": "code",
   "execution_count": 341,
   "metadata": {},
   "outputs": [],
   "source": [
    "br_yp_df = pd.DataFrame(br_df[br_df['year'] == br_df['year_p']])\n",
    "br_yn_df = pd.DataFrame(br_df[br_df['year'] == br_df['year_n']])"
   ]
  },
  {
   "cell_type": "code",
   "execution_count": 342,
   "metadata": {},
   "outputs": [
    {
     "name": "stdout",
     "output_type": "stream",
     "text": [
      "7819\n",
      "8170\n"
     ]
    },
    {
     "data": {
      "text/html": [
       "<div>\n",
       "<style scoped>\n",
       "    .dataframe tbody tr th:only-of-type {\n",
       "        vertical-align: middle;\n",
       "    }\n",
       "\n",
       "    .dataframe tbody tr th {\n",
       "        vertical-align: top;\n",
       "    }\n",
       "\n",
       "    .dataframe thead th {\n",
       "        text-align: right;\n",
       "    }\n",
       "</style>\n",
       "<table border=\"1\" class=\"dataframe\">\n",
       "  <thead>\n",
       "    <tr style=\"text-align: right;\">\n",
       "      <th></th>\n",
       "      <th>business_id</th>\n",
       "      <th>year</th>\n",
       "      <th>cool</th>\n",
       "      <th>date</th>\n",
       "      <th>funny</th>\n",
       "      <th>review_id</th>\n",
       "      <th>stars</th>\n",
       "      <th>text</th>\n",
       "      <th>useful</th>\n",
       "      <th>user_id</th>\n",
       "      <th>year_p</th>\n",
       "      <th>year_n</th>\n",
       "    </tr>\n",
       "  </thead>\n",
       "  <tbody>\n",
       "    <tr>\n",
       "      <th>812</th>\n",
       "      <td>uGupeWqih0yIcCg8anM1PA</td>\n",
       "      <td>2008</td>\n",
       "      <td>0</td>\n",
       "      <td>2007-12-10</td>\n",
       "      <td>1</td>\n",
       "      <td>AvtpSzKL3yjWB4uy3mzYQQ</td>\n",
       "      <td>2</td>\n",
       "      <td>941</td>\n",
       "      <td>0</td>\n",
       "      <td>zD1T8JFx3O1Rf9aNu49rpQ</td>\n",
       "      <td>2006</td>\n",
       "      <td>2008</td>\n",
       "    </tr>\n",
       "  </tbody>\n",
       "</table>\n",
       "</div>"
      ],
      "text/plain": [
       "                business_id  year  cool        date  funny  \\\n",
       "812  uGupeWqih0yIcCg8anM1PA  2008     0  2007-12-10      1   \n",
       "\n",
       "                  review_id  stars  text  useful                 user_id  \\\n",
       "812  AvtpSzKL3yjWB4uy3mzYQQ      2   941       0  zD1T8JFx3O1Rf9aNu49rpQ   \n",
       "\n",
       "     year_p  year_n  \n",
       "812    2006    2008  "
      ]
     },
     "execution_count": 342,
     "metadata": {},
     "output_type": "execute_result"
    }
   ],
   "source": [
    "print(len(br_yp_df))\n",
    "print(len(br_yn_df))\n",
    "br_yn_df.head(1)"
   ]
  },
  {
   "cell_type": "code",
   "execution_count": 343,
   "metadata": {},
   "outputs": [],
   "source": [
    "br_yp_df = br_yp_df.groupby('business_id').agg({'stars' : np.mean}).reset_index()\n",
    "br_yp_df = br_yp_df[br_yp_df['stars'] <= 3.5]\n",
    "\n",
    "br_yn_df = br_yn_df.groupby('business_id').agg({'stars' : np.mean}).reset_index()"
   ]
  },
  {
   "cell_type": "code",
   "execution_count": 344,
   "metadata": {},
   "outputs": [
    {
     "name": "stdout",
     "output_type": "stream",
     "text": [
      "20\n",
      "91\n"
     ]
    },
    {
     "data": {
      "text/html": [
       "<div>\n",
       "<style scoped>\n",
       "    .dataframe tbody tr th:only-of-type {\n",
       "        vertical-align: middle;\n",
       "    }\n",
       "\n",
       "    .dataframe tbody tr th {\n",
       "        vertical-align: top;\n",
       "    }\n",
       "\n",
       "    .dataframe thead th {\n",
       "        text-align: right;\n",
       "    }\n",
       "</style>\n",
       "<table border=\"1\" class=\"dataframe\">\n",
       "  <thead>\n",
       "    <tr style=\"text-align: right;\">\n",
       "      <th></th>\n",
       "      <th>business_id</th>\n",
       "      <th>stars</th>\n",
       "    </tr>\n",
       "  </thead>\n",
       "  <tbody>\n",
       "    <tr>\n",
       "      <th>9</th>\n",
       "      <td>4zqoILJLZ-3F8VVNr2hg1w</td>\n",
       "      <td>3.0</td>\n",
       "    </tr>\n",
       "    <tr>\n",
       "      <th>15</th>\n",
       "      <td>79V8osIXJft6FIixcnFRww</td>\n",
       "      <td>1.0</td>\n",
       "    </tr>\n",
       "  </tbody>\n",
       "</table>\n",
       "</div>"
      ],
      "text/plain": [
       "               business_id  stars\n",
       "9   4zqoILJLZ-3F8VVNr2hg1w    3.0\n",
       "15  79V8osIXJft6FIixcnFRww    1.0"
      ]
     },
     "execution_count": 344,
     "metadata": {},
     "output_type": "execute_result"
    }
   ],
   "source": [
    "print(len(br_yp_df))\n",
    "print(len(br_yn_df))\n",
    "br_yp_df.head(2)"
   ]
  },
  {
   "cell_type": "code",
   "execution_count": 345,
   "metadata": {},
   "outputs": [
    {
     "data": {
      "text/html": [
       "<div>\n",
       "<style scoped>\n",
       "    .dataframe tbody tr th:only-of-type {\n",
       "        vertical-align: middle;\n",
       "    }\n",
       "\n",
       "    .dataframe tbody tr th {\n",
       "        vertical-align: top;\n",
       "    }\n",
       "\n",
       "    .dataframe thead th {\n",
       "        text-align: right;\n",
       "    }\n",
       "</style>\n",
       "<table border=\"1\" class=\"dataframe\">\n",
       "  <thead>\n",
       "    <tr style=\"text-align: right;\">\n",
       "      <th></th>\n",
       "      <th>business_id</th>\n",
       "      <th>stars</th>\n",
       "    </tr>\n",
       "  </thead>\n",
       "  <tbody>\n",
       "    <tr>\n",
       "      <th>0</th>\n",
       "      <td>-F-hHAOj55_KGCh4-ZfnCg</td>\n",
       "      <td>3.800000</td>\n",
       "    </tr>\n",
       "    <tr>\n",
       "      <th>1</th>\n",
       "      <td>-sAr-LA9TsIdl37UjwBlvg</td>\n",
       "      <td>4.163043</td>\n",
       "    </tr>\n",
       "  </tbody>\n",
       "</table>\n",
       "</div>"
      ],
      "text/plain": [
       "              business_id     stars\n",
       "0  -F-hHAOj55_KGCh4-ZfnCg  3.800000\n",
       "1  -sAr-LA9TsIdl37UjwBlvg  4.163043"
      ]
     },
     "execution_count": 345,
     "metadata": {},
     "output_type": "execute_result"
    }
   ],
   "source": [
    "br_yn_df.head(2)"
   ]
  },
  {
   "cell_type": "code",
   "execution_count": 346,
   "metadata": {},
   "outputs": [
    {
     "data": {
      "text/html": [
       "<div>\n",
       "<style scoped>\n",
       "    .dataframe tbody tr th:only-of-type {\n",
       "        vertical-align: middle;\n",
       "    }\n",
       "\n",
       "    .dataframe tbody tr th {\n",
       "        vertical-align: top;\n",
       "    }\n",
       "\n",
       "    .dataframe thead th {\n",
       "        text-align: right;\n",
       "    }\n",
       "</style>\n",
       "<table border=\"1\" class=\"dataframe\">\n",
       "  <thead>\n",
       "    <tr style=\"text-align: right;\">\n",
       "      <th></th>\n",
       "      <th>business_id</th>\n",
       "      <th>stars_x</th>\n",
       "      <th>stars_y</th>\n",
       "    </tr>\n",
       "  </thead>\n",
       "  <tbody>\n",
       "    <tr>\n",
       "      <th>0</th>\n",
       "      <td>79V8osIXJft6FIixcnFRww</td>\n",
       "      <td>1.000000</td>\n",
       "      <td>3.636364</td>\n",
       "    </tr>\n",
       "    <tr>\n",
       "      <th>1</th>\n",
       "      <td>GJ_bXUPv672YwNg4TneJog</td>\n",
       "      <td>2.883495</td>\n",
       "      <td>3.166667</td>\n",
       "    </tr>\n",
       "    <tr>\n",
       "      <th>2</th>\n",
       "      <td>L-zHt7gZITG1z8l7TZ4dUg</td>\n",
       "      <td>3.500000</td>\n",
       "      <td>1.000000</td>\n",
       "    </tr>\n",
       "    <tr>\n",
       "      <th>3</th>\n",
       "      <td>R6jpwPBe9edy0P64uyaLKA</td>\n",
       "      <td>3.353535</td>\n",
       "      <td>2.768421</td>\n",
       "    </tr>\n",
       "    <tr>\n",
       "      <th>4</th>\n",
       "      <td>WUq8HJHIZU4uteB154XN7w</td>\n",
       "      <td>3.374126</td>\n",
       "      <td>3.695988</td>\n",
       "    </tr>\n",
       "    <tr>\n",
       "      <th>5</th>\n",
       "      <td>ahG8XQK5Aj4kMtOrC8zfTA</td>\n",
       "      <td>3.333333</td>\n",
       "      <td>4.250000</td>\n",
       "    </tr>\n",
       "    <tr>\n",
       "      <th>6</th>\n",
       "      <td>dc3uoAmNo5STqKV6mlD_aA</td>\n",
       "      <td>3.250000</td>\n",
       "      <td>4.000000</td>\n",
       "    </tr>\n",
       "    <tr>\n",
       "      <th>7</th>\n",
       "      <td>lKom12WnYEjH5FFemK3M1Q</td>\n",
       "      <td>3.200000</td>\n",
       "      <td>5.000000</td>\n",
       "    </tr>\n",
       "    <tr>\n",
       "      <th>8</th>\n",
       "      <td>makqSKZaz1aUipoWBW0BsA</td>\n",
       "      <td>3.066667</td>\n",
       "      <td>2.888889</td>\n",
       "    </tr>\n",
       "    <tr>\n",
       "      <th>9</th>\n",
       "      <td>n9JeKS94hJRvnyZLqUbO6w</td>\n",
       "      <td>3.125000</td>\n",
       "      <td>3.600000</td>\n",
       "    </tr>\n",
       "    <tr>\n",
       "      <th>10</th>\n",
       "      <td>o99TYf1ZOVM1j9gWw9vclA</td>\n",
       "      <td>3.444444</td>\n",
       "      <td>4.142857</td>\n",
       "    </tr>\n",
       "    <tr>\n",
       "      <th>11</th>\n",
       "      <td>qEJjv2k8nDhOiYpmi_aVOw</td>\n",
       "      <td>3.367089</td>\n",
       "      <td>3.500000</td>\n",
       "    </tr>\n",
       "    <tr>\n",
       "      <th>12</th>\n",
       "      <td>rkWOw7_yxu_1pjjHBDawMA</td>\n",
       "      <td>2.000000</td>\n",
       "      <td>4.000000</td>\n",
       "    </tr>\n",
       "    <tr>\n",
       "      <th>13</th>\n",
       "      <td>yz5hvi8ca-czBqrks577Xg</td>\n",
       "      <td>3.500000</td>\n",
       "      <td>4.000000</td>\n",
       "    </tr>\n",
       "  </tbody>\n",
       "</table>\n",
       "</div>"
      ],
      "text/plain": [
       "               business_id   stars_x   stars_y\n",
       "0   79V8osIXJft6FIixcnFRww  1.000000  3.636364\n",
       "1   GJ_bXUPv672YwNg4TneJog  2.883495  3.166667\n",
       "2   L-zHt7gZITG1z8l7TZ4dUg  3.500000  1.000000\n",
       "3   R6jpwPBe9edy0P64uyaLKA  3.353535  2.768421\n",
       "4   WUq8HJHIZU4uteB154XN7w  3.374126  3.695988\n",
       "5   ahG8XQK5Aj4kMtOrC8zfTA  3.333333  4.250000\n",
       "6   dc3uoAmNo5STqKV6mlD_aA  3.250000  4.000000\n",
       "7   lKom12WnYEjH5FFemK3M1Q  3.200000  5.000000\n",
       "8   makqSKZaz1aUipoWBW0BsA  3.066667  2.888889\n",
       "9   n9JeKS94hJRvnyZLqUbO6w  3.125000  3.600000\n",
       "10  o99TYf1ZOVM1j9gWw9vclA  3.444444  4.142857\n",
       "11  qEJjv2k8nDhOiYpmi_aVOw  3.367089  3.500000\n",
       "12  rkWOw7_yxu_1pjjHBDawMA  2.000000  4.000000\n",
       "13  yz5hvi8ca-czBqrks577Xg  3.500000  4.000000"
      ]
     },
     "execution_count": 346,
     "metadata": {},
     "output_type": "execute_result"
    }
   ],
   "source": [
    "pd.DataFrame(pd.merge(br_yp_df, br_yn_df, on='business_id'))"
   ]
  },
  {
   "cell_type": "code",
   "execution_count": null,
   "metadata": {},
   "outputs": [],
   "source": []
  }
 ],
 "metadata": {
  "kernelspec": {
   "display_name": "Python 3",
   "language": "python",
   "name": "python3"
  },
  "language_info": {
   "codemirror_mode": {
    "name": "ipython",
    "version": 3
   },
   "file_extension": ".py",
   "mimetype": "text/x-python",
   "name": "python",
   "nbconvert_exporter": "python",
   "pygments_lexer": "ipython3",
   "version": "3.6.4"
  }
 },
 "nbformat": 4,
 "nbformat_minor": 2
}
