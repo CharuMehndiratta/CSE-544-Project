{
 "cells": [
  {
   "cell_type": "code",
   "execution_count": 1,
   "metadata": {},
   "outputs": [],
   "source": [
    "import json\n",
    "\n",
    "business_data = open('/Users/charumehndiratta/Downloads/dataset/business.json')\n",
    "restaurants = []\n",
    "\n",
    "for line in business_data:\n",
    "    business = json.loads(line)\n",
    "    if 'Restaurants' in business['categories'] and 'Chipotle' in business['name']:\n",
    "        restaurants.append({'business_id': business['business_id'], 'state': business['state'], 'name': business['name']})\n"
   ]
  },
  {
   "cell_type": "code",
   "execution_count": 2,
   "metadata": {},
   "outputs": [],
   "source": [
    "review_dict = {}\n",
    "\n",
    "review_data = open('/Users/charumehndiratta/Downloads/dataset/review.json')\n",
    "\n",
    "for line in review_data:\n",
    "    review = json.loads(line)\n",
    "    if review.get('business_id') in review_dict:\n",
    "        for data in review_dict[review['business_id']]:\n",
    "            if review['date'][:4]+\"_stars\" in data:\n",
    "                data[review['date'][:4]+\"_stars\"] = data[review['date'][:4]+\"_stars\"] + review['stars']\n",
    "                data[review['date'][:4]+\"_count\"] = data[review['date'][:4]+\"_count\"] + 1\n",
    "            else:\n",
    "                data[review['date'][:4]+\"_stars\"] = review['stars']\n",
    "                data[review['date'][:4]+\"_count\"] = 1\n",
    "    else:\n",
    "        review_dict[review['business_id']] = [{review['date'][:4]+\"_stars\" : review['stars'], review['date'][:4]+\"_count\" : 1}]\n",
    "\n",
    "reviews1 = []"
   ]
  },
  {
   "cell_type": "code",
   "execution_count": 3,
   "metadata": {},
   "outputs": [],
   "source": [
    "import copy\n",
    "new_review_dict = copy.deepcopy(review_dict)\n",
    "\n",
    "for key, val in new_review_dict.items():\n",
    "    for key_val, val_val in val[0].items():\n",
    "        new_key = key_val[:4]\n",
    "        star_key = key_val[:4]+\"_stars\"\n",
    "        count_key = key_val[:4]+\"_count\"\n",
    "        if star_key in val[0] and count_key in val[0]:\n",
    "            new_key_val = float(val[0][star_key])/val[0][count_key]\n",
    "            new_review_dict[key][0].update({new_key: new_key_val})\n",
    "        if key_val in new_review_dict[key][0]:\n",
    "            new_review_dict[key][0].pop(key_val)"
   ]
  },
  {
   "cell_type": "code",
   "execution_count": 4,
   "metadata": {},
   "outputs": [
    {
     "name": "stdout",
     "output_type": "stream",
     "text": [
      "[{u'2015': 3.1904761904761907, u'2014': 3.875, u'2017': 2.8181818181818183, u'2016': 3.6, u'2011': 3.5555555555555554, u'2010': 3.6666666666666665, u'2013': 3.4, u'2012': 3.888888888888889, u'2007': 4.0, u'2005': 5.0, u'2008': 4.0, u'2009': 3.0}]\n"
     ]
    }
   ],
   "source": [
    "reviews3 = {}\n",
    "import copy\n",
    "\n",
    "new_review_dict1 = copy.deepcopy(new_review_dict)\n",
    "for key, val in new_review_dict1.items():\n",
    "    for value in val:\n",
    "        new_review_dict1[key] = value\n",
    "\n",
    "print (new_review_dict['-FNquqGseSCVMWo7KbK-Tg'])"
   ]
  },
  {
   "cell_type": "code",
   "execution_count": 5,
   "metadata": {},
   "outputs": [],
   "source": [
    "for restaurant in restaurants:\n",
    "    if restaurant['business_id'] in new_review_dict1:\n",
    "        reviews3[restaurant['business_id']] = new_review_dict1[restaurant['business_id']]\n"
   ]
  },
  {
   "cell_type": "code",
   "execution_count": 6,
   "metadata": {},
   "outputs": [],
   "source": [
    "import matplotlib.pyplot as plt\n",
    "\n",
    "reviews = {'2005': [0,0], '2006': [0,0], '2007': [0,0], '2008': [0,0], '2009': [0,0], '2010': [0,0], '2011': [0,0], '2012': [0,0], '2013': [0,0], '2014': [0,0], '2015': [0,0], '2016': [0,0], '2017':[0,0]}\n",
    "\n",
    "# count, stars\n",
    "plt.xlabel(\"Year\")\n",
    "plt.ylabel(\"Scores\")\n",
    "plt.grid()\n",
    "\n",
    "\n",
    "for key, val in reviews3.items():\n",
    "    x = val.keys()\n",
    "    y = val.values()\n",
    "        \n",
    "    for i in range(len(x)):\n",
    "        reviews[x[i]][0] = reviews[x[i]][0] + 1\n",
    "        reviews[x[i]][1] = reviews[x[i]][1] + int(y[i])\n",
    "\n",
    "\n",
    "new_reviews = {}\n",
    "for key, val in reviews.items():\n",
    "    new_reviews[key] = float(val[1])/float(val[0])\n"
   ]
  },
  {
   "cell_type": "code",
   "execution_count": 7,
   "metadata": {},
   "outputs": [
    {
     "name": "stdout",
     "output_type": "stream",
     "text": [
      "{'2009': 3.7142857142857144, '2010': 3.676056338028169, '2006': 3.6666666666666665, '2007': 4.0, '2005': 3.3333333333333335, '2015': 2.4838709677419355, '2014': 2.6194029850746268, '2017': 2.2906976744186047, '2016': 2.402439024390244, '2011': 3.5, '2008': 3.4482758620689653, '2013': 2.9210526315789473, '2012': 3.2475247524752477}\n"
     ]
    },
    {
     "data": {
      "image/png": "[encoded data removed]",
      "text/plain": [
       "<matplotlib.figure.Figure at 0x11a669ed0>"
      ]
     },
     "metadata": {},
     "output_type": "display_data"
    }
   ],
   "source": [
    "print(new_reviews)\n",
    "y_label = new_reviews.values()\n",
    "x_label = new_reviews.keys()\n",
    "    \n",
    "plt.scatter(\n",
    "    x_label,\n",
    "    y_label,\n",
    "    color='b',\n",
    "    label=key)\n",
    "plt.show()"
   ]
  },
  {
   "cell_type": "code",
   "execution_count": null,
   "metadata": {},
   "outputs": [],
   "source": []
  }
 ],
 "metadata": {
  "kernelspec": {
   "display_name": "Python 2",
   "language": "python",
   "name": "python2"
  },
  "language_info": {
   "codemirror_mode": {
    "name": "ipython",
    "version": 2
   },
   "file_extension": ".py",
   "mimetype": "text/x-python",
   "name": "python",
   "nbconvert_exporter": "python",
   "pygments_lexer": "ipython2",
   "version": "2.7.14"
  }
 },
 "nbformat": 4,
 "nbformat_minor": 2
}
