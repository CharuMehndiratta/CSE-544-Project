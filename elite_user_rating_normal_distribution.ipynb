{
 "cells": [
  {
   "cell_type": "code",
   "execution_count": 12,
   "metadata": {},
   "outputs": [],
   "source": [
    "import json\n",
    "import seaborn as sns\n",
    "import pandas as pd\n",
    "import matplotlib.pyplot as plt\n",
    "import numpy as np\n",
    "import pickle\n",
    "import math"
   ]
  },
  {
   "cell_type": "code",
   "execution_count": 13,
   "metadata": {},
   "outputs": [
    {
     "data": {
      "text/plain": [
       "187125"
      ]
     },
     "execution_count": 13,
     "metadata": {},
     "output_type": "execute_result"
    }
   ],
   "source": [
    "with open('elite_years_df.pickle', 'rb') as handle:\n",
    "    elite_years_df = pickle.load(handle)\n",
    "len(elite_years_df)"
   ]
  },
  {
   "cell_type": "code",
   "execution_count": 14,
   "metadata": {},
   "outputs": [
    {
     "data": {
      "text/plain": [
       "5261669"
      ]
     },
     "execution_count": 14,
     "metadata": {},
     "output_type": "execute_result"
    }
   ],
   "source": [
    "with open('review_df.pickle', 'rb') as handle:\n",
    "    review_df = pickle.load(handle)\n",
    "len(review_df)"
   ]
  },
  {
   "cell_type": "code",
   "execution_count": 15,
   "metadata": {},
   "outputs": [],
   "source": [
    "elite_user_review_df = pd.DataFrame(pd.merge(review_df, elite_years_df, on='user_id'))"
   ]
  },
  {
   "cell_type": "code",
   "execution_count": 17,
   "metadata": {},
   "outputs": [
    {
     "data": {
      "text/plain": [
       "4780910"
      ]
     },
     "execution_count": 17,
     "metadata": {},
     "output_type": "execute_result"
    }
   ],
   "source": [
    "review_star = elite_user_review_df['stars']\n",
    "len(review_star)"
   ]
  },
  {
   "cell_type": "code",
   "execution_count": 18,
   "metadata": {},
   "outputs": [
    {
     "name": "stdout",
     "output_type": "stream",
     "text": [
      "4780910\n",
      "{1: 193445, 1.5: 0, 2: 414168, 2.5: 0, 3: 1055440, 3.5: 0, 4: 1856888, 4.5: 0, 5: 1260969}\n",
      "3.748344562018528\n",
      "1.0638879104142045\n"
     ]
    },
    {
     "data": {
      "image/png": "[encoded data removed]",
      "text/plain": [
       "<matplotlib.figure.Figure at 0x22bfbedf9b0>"
      ]
     },
     "metadata": {},
     "output_type": "display_data"
    }
   ],
   "source": [
    "import seaborn as sns\n",
    "n = len(review_star)\n",
    "print(n)\n",
    "data = [x for x in review_star]\n",
    "final_result = {1:0, 1.5:0, 2:0, 2.5:0, 3:0, 3.5:0, 4:0, 4.5:0, 5:0}\n",
    "for x in review_star:\n",
    "    final_result[x] = final_result[x] + 1\n",
    "\n",
    "print(final_result)\n",
    "\n",
    "X = []\n",
    "P = []\n",
    "\n",
    "def draw_graph(mu, sig2):\n",
    "    z = 3\n",
    "    X = np.arange(mu-z*np.sqrt(sig2), mu+z*np.sqrt(sig2), 0.001)\n",
    "    for i in X:\n",
    "        P.append(np.exp(-(i - mu)**2 / (2*sig2) ) / np.sqrt(2*np.pi*sig2))\n",
    "    s = \"mu = %.4f var = %.4f\" % (mu, sig2)\n",
    "    plt.step(X, P, label=s, color='r')\n",
    "    plt.grid()\n",
    "    plt.legend(bbox_to_anchor=(0,1),loc=2,borderaxespad=0.1)\n",
    "\n",
    "\n",
    "x_label = list(final_result.keys())\n",
    "y_label=[]\n",
    "\n",
    "for x in list(final_result.values()):\n",
    "    y_label.append(float(x)/n)\n",
    "\n",
    "\n",
    "plt.xlabel('Review Rating')\n",
    "plt.ylabel('Distribution')\n",
    "\n",
    "plt.bar(x_label, y_label, color='g')\n",
    "\n",
    "arr = np.array(review_star)\n",
    "mean = np.mean(arr)\n",
    "std = np.std(arr)\n",
    "print(mean)\n",
    "print(std)\n",
    "\n",
    "\n",
    "\n",
    "draw_graph(mean, std)\n",
    "plt.savefig('elite_user_normal_distribution.png')\n",
    "\n",
    "plt.show()\n",
    "\n",
    "# y, bins, patches = plt.hist(data, 10, log=False, facecolor='#6699cc', alpha=0.45)\n",
    "# print(y)\n",
    "\n",
    "# #draw_graph(mean, std)"
   ]
  },
  {
   "cell_type": "code",
   "execution_count": 11,
   "metadata": {},
   "outputs": [
    {
     "data": {
      "text/plain": [
       "0.23343113460311796"
      ]
     },
     "execution_count": 11,
     "metadata": {},
     "output_type": "execute_result"
    }
   ],
   "source": [
    "(mean - 3.5)/std"
   ]
  }
 ],
 "metadata": {
  "kernelspec": {
   "display_name": "Python 3",
   "language": "python",
   "name": "python3"
  },
  "language_info": {
   "codemirror_mode": {
    "name": "ipython",
    "version": 3
   },
   "file_extension": ".py",
   "mimetype": "text/x-python",
   "name": "python",
   "nbconvert_exporter": "python",
   "pygments_lexer": "ipython3",
   "version": "3.6.4"
  }
 },
 "nbformat": 4,
 "nbformat_minor": 2
}
