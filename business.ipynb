{
 "cells": [
  {
   "cell_type": "code",
   "execution_count": 2,
   "metadata": {},
   "outputs": [],
   "source": [
    "import  json\n",
    "import seaborn as sns\n",
    "import  pandas as  pd\n",
    "import matplotlib.pyplot as plt"
   ]
  },
  {
   "cell_type": "code",
   "execution_count": 3,
   "metadata": {},
   "outputs": [],
   "source": [
    "business_data = open('dataset/business.json')\n",
    "\n",
    "business = []\n",
    "\n",
    "for line in business_data:\n",
    "    business.append(json.loads(line))"
   ]
  },
  {
   "cell_type": "code",
   "execution_count": 9,
   "metadata": {},
   "outputs": [
    {
     "name": "stdout",
     "output_type": "stream",
     "text": [
      "174567\n"
     ]
    }
   ],
   "source": [
    "print(len(business))"
   ]
  },
  {
   "cell_type": "code",
   "execution_count": 4,
   "metadata": {},
   "outputs": [],
   "source": [
    "# popped useless attributes\n",
    "for val in business:\n",
    "    val.pop('address')\n",
    "    val.pop('neighborhood')"
   ]
  },
  {
   "cell_type": "code",
   "execution_count": 5,
   "metadata": {},
   "outputs": [
    {
     "name": "stdout",
     "output_type": "stream",
     "text": [
      "['DogsAllowed', 'ByAppointmentOnly', 'HasTV', 'RestaurantsGoodForGroups', 'sunday', 'gluten-free', 'CoatCheck', 'thursday', 'AgesAllowed', 'street', 'Alcohol', 'upscale', 'curly', 'background_music', 'GoodForKids', 'latenight', 'HappyHour', 'dinner', 'RestaurantsPriceRange2', 'karaoke', 'halal', 'AcceptsInsurance', 'perms', 'straightperms', 'dj', 'GoodForDancing', 'breakfast', 'kosher', 'BYOBCorkage', 'RestaurantsTableService', 'africanamerican', 'romantic', 'tuesday', 'RestaurantsAttire', 'lunch', 'Smoking', 'soy-free', 'live', 'intimate', 'classy', 'casual', 'dessert', 'OutdoorSeating', 'BusinessAcceptsBitcoin', 'lot', 'NoiseLevel', 'RestaurantsCounterService', 'vegetarian', 'brunch', 'valet', 'validated', 'touristy', 'kids', 'WheelchairAccessible', 'extensions', 'jukebox', 'Caters', 'garage', 'trendy', 'RestaurantsTakeOut', 'asian', 'RestaurantsDelivery', 'monday', 'DriveThru', 'video', 'RestaurantsReservations', 'wednesday', 'Open24Hours', 'coloring', 'no_music', 'hipster', 'Corkage', 'divey', 'WiFi', 'saturday', 'dairy-free', 'friday', 'BYOB', 'BikeParking', 'vegan', 'BusinessAcceptsCreditCards']\n",
      "81\n"
     ]
    }
   ],
   "source": [
    "all_attr = set()\n",
    "\n",
    "def rec_attr(d):\n",
    "  for k, v in d.items():\n",
    "    if isinstance(v, dict):\n",
    "          rec_attr(v)\n",
    "    else:\n",
    "        all_attr.add(k)\n",
    "    \n",
    "for b in business:\n",
    "    attr = b['attributes']\n",
    "    rec_attr(attr)\n",
    "        \n",
    "all_attr = list(all_attr)\n",
    "print(all_attr)\n",
    "print(len(all_attr))"
   ]
  },
  {
   "cell_type": "code",
   "execution_count": 6,
   "metadata": {},
   "outputs": [],
   "source": [
    "all_attr_list = list(all_attr)"
   ]
  },
  {
   "cell_type": "code",
   "execution_count": 7,
   "metadata": {},
   "outputs": [
    {
     "name": "stdout",
     "output_type": "stream",
     "text": [
      "174567\n"
     ]
    }
   ],
   "source": [
    "def rec_attr_main(d, l):\n",
    "  for k, v in d.items():\n",
    "    if isinstance(v, dict):\n",
    "          rec_attr_main(v, l)\n",
    "    else:\n",
    "        l[k] = v\n",
    "\n",
    "business_attribute = []\n",
    "\n",
    "for b in business:\n",
    "    all_attr_list = ['business_id'] + all_attr_list\n",
    "    t = {k : False for k in all_attr_list}\n",
    "    t['business_id'] = b['business_id']\n",
    "    rec_attr_main(b['attributes'], t)\n",
    "    business_attribute.append(t)\n",
    "\n",
    "print(len(business_attribute))"
   ]
  },
  {
   "cell_type": "code",
   "execution_count": 8,
   "metadata": {},
   "outputs": [
    {
     "name": "stdout",
     "output_type": "stream",
     "text": [
      "[{'business_id': 'FYWN1wneV18bWNgQjJ2GNg', 'category_name': 'Dentists'}, {'business_id': 'FYWN1wneV18bWNgQjJ2GNg', 'category_name': 'General Dentistry'}, {'business_id': 'FYWN1wneV18bWNgQjJ2GNg', 'category_name': 'Health & Medical'}, {'business_id': 'FYWN1wneV18bWNgQjJ2GNg', 'category_name': 'Oral Surgeons'}, {'business_id': 'FYWN1wneV18bWNgQjJ2GNg', 'category_name': 'Cosmetic Dentists'}, {'business_id': 'FYWN1wneV18bWNgQjJ2GNg', 'category_name': 'Orthodontists'}, {'business_id': 'He-G7vWjzVUysIKrfNbPUQ', 'category_name': 'Hair Stylists'}, {'business_id': 'He-G7vWjzVUysIKrfNbPUQ', 'category_name': 'Hair Salons'}, {'business_id': 'He-G7vWjzVUysIKrfNbPUQ', 'category_name': \"Men's Hair Salons\"}, {'business_id': 'He-G7vWjzVUysIKrfNbPUQ', 'category_name': 'Blow Dry/Out Services'}]\n"
     ]
    }
   ],
   "source": [
    "business_categories = []\n",
    "for b in business:\n",
    "    categories = b['categories']\n",
    "    for cat in categories:\n",
    "        t = {'business_id': b['business_id'], 'category_name': cat}\n",
    "        business_categories.append(t)\n",
    "\n",
    "print(business_categories[:10])"
   ]
  },
  {
   "cell_type": "code",
   "execution_count": 27,
   "metadata": {},
   "outputs": [
    {
     "name": "stdout",
     "output_type": "stream",
     "text": [
      "[{'business_id': 'FYWN1wneV18bWNgQjJ2GNg', 'Monday': 10, 'Tuesday': 10, 'Wednesday': 10, 'Thursday': 10, 'Friday': 10, 'Saturday': 0, 'Sunday': 0}, {'business_id': 'He-G7vWjzVUysIKrfNbPUQ', 'Monday': 11, 'Tuesday': 11, 'Wednesday': 11, 'Thursday': 11, 'Friday': 7, 'Saturday': 8, 'Sunday': 0}, {'business_id': 'KQPW8lFf1y5BT2MxiSZ3QA', 'Monday': 0, 'Tuesday': 0, 'Wednesday': 0, 'Thursday': 0, 'Friday': 0, 'Saturday': 0, 'Sunday': 0}, {'business_id': '8DShNS-LuFqpEWIp0HxijA', 'Monday': 11, 'Tuesday': 11, 'Wednesday': 11, 'Thursday': 11, 'Friday': 11, 'Saturday': 11, 'Sunday': 8}, {'business_id': 'PfOCPjBrlQAnz__NXj9h_w', 'Monday': 10, 'Tuesday': 10, 'Wednesday': 10, 'Thursday': 10, 'Friday': 10, 'Saturday': 9, 'Sunday': 13}, {'business_id': 'o9eMRCWt5PkpLDE0gOPtcQ', 'Monday': 6, 'Tuesday': 6, 'Wednesday': 6, 'Thursday': 6, 'Friday': 6, 'Saturday': 6, 'Sunday': 0}, {'business_id': 'kCoE3jvEtg6UVz5SOD3GVw', 'Monday': 9, 'Tuesday': 9, 'Wednesday': 9, 'Thursday': 9, 'Friday': 9, 'Saturday': 0, 'Sunday': 0}, {'business_id': 'OD2hnuuTJI9uotcKycxg1A', 'Monday': 8, 'Tuesday': 8, 'Wednesday': 8, 'Thursday': 8, 'Friday': 8, 'Saturday': 8, 'Sunday': 5}, {'business_id': 'EsMcGiZaQuG1OOvL9iUFug', 'Monday': 0, 'Tuesday': 0, 'Wednesday': 0, 'Thursday': 0, 'Friday': 0, 'Saturday': 0, 'Sunday': 0}, {'business_id': 'TGWhGNusxyMaA4kQVBNeew', 'Monday': 9, 'Tuesday': 9, 'Wednesday': 9, 'Thursday': 9, 'Friday': 9, 'Saturday': 9, 'Sunday': 9}]\n"
     ]
    }
   ],
   "source": [
    "business_hours = []\n",
    "# data cleaning\n",
    "days = ['Monday', 'Tuesday', 'Wednesday', 'Thursday', 'Friday', 'Saturday', 'Sunday']\n",
    "for b in business:\n",
    "    hours = {'Monday': 0, 'Tuesday': 0, 'Wednesday': 0, 'Thursday': 0, 'Friday': 0, 'Saturday': 0, 'Sunday': 0}\n",
    "    for day in days:\n",
    "        total_time = 0\n",
    "        if day in b['hours']:\n",
    "            time = b['hours'][day].split('-')\n",
    "            start = time[0].split(':')[0]\n",
    "            if start == '0':\n",
    "                start = 24\n",
    "            end = time[1].split(':')[0]\n",
    "            if end == '0':\n",
    "                end = 24\n",
    "            total_time = abs(int(end) -  int(start))\n",
    "        hours[day] = total_time\n",
    "    business_hours.append({'business_id': b['business_id'], 'Monday':  hours['Monday'], 'Tuesday':  hours['Tuesday'],\n",
    "                          'Wednesday':  hours['Wednesday'], 'Thursday':  hours['Thursday'], 'Friday':  hours['Friday'],\n",
    "                          'Saturday':  hours['Saturday'], 'Sunday':  hours['Sunday']})\n",
    "\n",
    "print(business_hours[100:110])"
   ]
  },
  {
   "cell_type": "code",
   "execution_count": 28,
   "metadata": {},
   "outputs": [
    {
     "name": "stdout",
     "output_type": "stream",
     "text": [
      "[{'business_id': 'zdC6e26U7tS1XtWcJPKCcA', 'Monday': 11, 'Tuesday': 11, 'Wednesday': 11, 'Thursday': 11, 'Friday': 6, 'Saturday': 0, 'Sunday': 0}, {'business_id': 'VdlPZg2NAu8t8GkdbPLecg', 'Monday': 0, 'Tuesday': 5, 'Wednesday': 5, 'Thursday': 5, 'Friday': 5, 'Saturday': 5, 'Sunday': 5}, {'business_id': 'c6Q3HP4cmWZbD9GX8kr4IA', 'Monday': 12, 'Tuesday': 12, 'Wednesday': 12, 'Thursday': 12, 'Friday': 12, 'Saturday': 11, 'Sunday': 7}, {'business_id': 'c7X2SdKxVJMaOnFROO8WEg', 'Monday': 10, 'Tuesday': 10, 'Wednesday': 10, 'Thursday': 10, 'Friday': 10, 'Saturday': 10, 'Sunday': 0}, {'business_id': '1nhf9BPXOBFBkbRkpsFaxA', 'Monday': 6, 'Tuesday': 6, 'Wednesday': 6, 'Thursday': 6, 'Friday': 15, 'Saturday': 9, 'Sunday': 12}, {'business_id': 'strJsTvTHqWS18GVJQEHoA', 'Monday': 13, 'Tuesday': 12, 'Wednesday': 13, 'Thursday': 12, 'Friday': 13, 'Saturday': 0, 'Sunday': 0}, {'business_id': 'e3rNvRnupvSMu6BABlDUuQ', 'Monday': 13, 'Tuesday': 13, 'Wednesday': 13, 'Thursday': 13, 'Friday': 13, 'Saturday': 13, 'Sunday': 13}, {'business_id': 'QkG3KUXwqZBW18A9k1xqCA', 'Monday': 11, 'Tuesday': 11, 'Wednesday': 11, 'Thursday': 11, 'Friday': 12, 'Saturday': 12, 'Sunday': 11}, {'business_id': 'd2HSFutxpaYsCPglJPRe1Q', 'Monday': 0, 'Tuesday': 0, 'Wednesday': 0, 'Thursday': 0, 'Friday': 0, 'Saturday': 0, 'Sunday': 0}, {'business_id': 'shNBn6mTKxZ124yPC_H02Q', 'Monday': 0, 'Tuesday': 0, 'Wednesday': 0, 'Thursday': 0, 'Friday': 0, 'Saturday': 0, 'Sunday': 0}]\n"
     ]
    }
   ],
   "source": [
    "print(business_hours[100:110])"
   ]
  },
  {
   "cell_type": "code",
   "execution_count": 29,
   "metadata": {},
   "outputs": [],
   "source": [
    "# popped useless attributes\n",
    "for val in business:\n",
    "    val.pop('attributes')\n",
    "    val.pop('categories')\n",
    "    val.pop('hours')"
   ]
  },
  {
   "cell_type": "code",
   "execution_count": 36,
   "metadata": {},
   "outputs": [],
   "source": [
    "import pickle\n",
    "\n",
    "with open('business_attribute.pickle', 'wb') as handle:\n",
    "    pickle.dump(business_attribute, handle, protocol=pickle.HIGHEST_PROTOCOL)"
   ]
  },
  {
   "cell_type": "code",
   "execution_count": 37,
   "metadata": {},
   "outputs": [],
   "source": [
    "with open('business_categories.pickle', 'wb') as handle:\n",
    "    pickle.dump(business_categories, handle, protocol=pickle.HIGHEST_PROTOCOL)\n"
   ]
  },
  {
   "cell_type": "code",
   "execution_count": 38,
   "metadata": {},
   "outputs": [],
   "source": [
    "with open('business.pickle', 'wb') as handle:\n",
    "    pickle.dump(business, handle, protocol=pickle.HIGHEST_PROTOCOL)"
   ]
  },
  {
   "cell_type": "code",
   "execution_count": null,
   "metadata": {},
   "outputs": [],
   "source": []
  }
 ],
 "metadata": {
  "kernelspec": {
   "display_name": "Python 3",
   "language": "python",
   "name": "python3"
  },
  "language_info": {
   "codemirror_mode": {
    "name": "ipython",
    "version": 3
   },
   "file_extension": ".py",
   "mimetype": "text/x-python",
   "name": "python",
   "nbconvert_exporter": "python",
   "pygments_lexer": "ipython3",
   "version": "3.6.4"
  }
 },
 "nbformat": 4,
 "nbformat_minor": 2
}
