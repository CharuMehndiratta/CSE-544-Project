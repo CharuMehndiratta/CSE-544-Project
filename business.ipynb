{
 "cells": [
  {
   "cell_type": "code",
   "execution_count": 1,
   "metadata": {},
   "outputs": [],
   "source": [
    "import  json\n",
    "import seaborn as sns\n",
    "import  pandas as  pd\n",
    "import matplotlib.pyplot as plt"
   ]
  },
  {
   "cell_type": "code",
   "execution_count": 2,
   "metadata": {},
   "outputs": [],
   "source": [
    "business_data = open('/Users/charumehndiratta/Downloads/dataset/business.json')\n",
    "\n",
    "business = []\n",
    "\n",
    "for line in business_data:\n",
    "    business.append(json.loads(line))"
   ]
  },
  {
   "cell_type": "code",
   "execution_count": 3,
   "metadata": {},
   "outputs": [],
   "source": [
    "user_data = open('/Users/charumehndiratta/Downloads/dataset/user.json')\n",
    "\n",
    "users = []\n",
    "\n",
    "for line in user_data:\n",
    "    users.append(json.loads(line))"
   ]
  },
  {
   "cell_type": "code",
   "execution_count": 13,
   "metadata": {},
   "outputs": [],
   "source": [
    "# popped useless attributes\n",
    "for val in business:\n",
    "    val.pop('address')\n",
    "    val.pop('neighborhood')"
   ]
  },
  {
   "cell_type": "code",
   "execution_count": 20,
   "metadata": {},
   "outputs": [
    {
     "name": "stdout",
     "output_type": "stream",
     "text": [
      "[u'saturday', u'Alcohol', u'HasTV', u'perms', u'no_music', u'NoiseLevel', u'RestaurantsDelivery', u'RestaurantsAttire', u'latenight', u'BusinessAcceptsCreditCards', u'street', u'video', u'asian', u'divey', u'trendy', u'DogsAllowed', u'tuesday', u'validated', u'RestaurantsGoodForGroups', u'casual', u'BYOBCorkage', u'coloring', u'curly', u'vegetarian', u'WiFi', u'sunday', u'RestaurantsReservations', u'valet', u'BYOB', u'background_music', u'live', u'BusinessAcceptsBitcoin', u'hipster', u'BikeParking', u'touristy', u'soy-free', u'AcceptsInsurance', u'GoodForKids', u'jukebox', u'WheelchairAccessible', u'Open24Hours', u'DriveThru', u'friday', u'dj', u'africanamerican', u'monday', u'intimate', u'dessert', u'Caters', u'gluten-free', u'vegan', u'OutdoorSeating', u'lunch', u'RestaurantsPriceRange2', u'lot', u'Corkage', u'straightperms', u'RestaurantsTakeOut', u'halal', u'brunch', u'ByAppointmentOnly', u'kids', u'romantic', u'Smoking', u'CoatCheck', u'thursday', u'wednesday', u'breakfast', u'HappyHour', u'kosher', u'garage', u'dinner', u'AgesAllowed', u'extensions', u'GoodForDancing', u'karaoke', u'classy', u'upscale', u'dairy-free', u'RestaurantsCounterService', u'RestaurantsTableService']\n",
      "81\n"
     ]
    }
   ],
   "source": [
    "all_attr = set()\n",
    "\n",
    "def rec_attr(d):\n",
    "  for k, v in d.items():\n",
    "    if isinstance(v, dict):\n",
    "          rec_attr(v)\n",
    "    else:\n",
    "        all_attr.add(k)\n",
    "    \n",
    "for b in business:\n",
    "    attr = b['attributes']\n",
    "    rec_attr(attr)\n",
    "        \n",
    "all_attr = list(all_attr)\n",
    "print(all_attr)\n",
    "print(len(all_attr))"
   ]
  },
  {
   "cell_type": "code",
   "execution_count": 23,
   "metadata": {},
   "outputs": [
    {
     "name": "stdout",
     "output_type": "stream",
     "text": [
      "{u'GoodForDancing': False, u'dairy-free': False, u'Alcohol': False, u'HasTV': False, u'perms': False, u'no_music': False, u'NoiseLevel': False, u'RestaurantsAttire': False, u'latenight': False, u'BusinessAcceptsCreditCards': False, u'street': False, u'video': False, u'asian': False, u'divey': False, u'trendy': False, u'Open24Hours': False, u'breakfast': False, u'validated': False, u'RestaurantsGoodForGroups': False, u'casual': False, u'BYOBCorkage': False, u'dj': False, u'coloring': False, u'monday': False, u'curly': False, u'HappyHour': False, u'WiFi': False, u'wednesday': False, u'live': False, u'RestaurantsReservations': False, u'saturday': False, u'BYOB': False, u'background_music': False, u'sunday': False, u'BusinessAcceptsBitcoin': False, u'hipster': False, u'BikeParking': False, u'touristy': False, u'AcceptsInsurance': False, u'GoodForKids': False, u'tuesday': False, u'WheelchairAccessible': False, u'RestaurantsTableService': False, u'DogsAllowed': False, u'africanamerican': False, u'soy-free': False, u'intimate': False, u'dessert': False, u'friday': False, u'valet': False, u'vegan': False, u'gluten-free': False, u'lunch': False, u'RestaurantsPriceRange2': False, u'lot': False, u'Corkage': False, u'straightperms': False, u'RestaurantsDelivery': False, u'brunch': False, u'OutdoorSeating': False, u'ByAppointmentOnly': False, u'romantic': False, u'kids': False, u'Caters': False, u'RestaurantsTakeOut': False, u'vegetarian': False, u'thursday': False, u'Smoking': False, u'jukebox': False, u'kosher': False, u'garage': False, u'dinner': False, u'AgesAllowed': False, u'extensions': False, u'DriveThru': False, u'karaoke': False, u'classy': False, u'upscale': False, u'CoatCheck': False, u'RestaurantsCounterService': False, u'halal': False}\n"
     ]
    }
   ],
   "source": [
    "all_attr_list = list(all_attr)"
   ]
  },
  {
   "cell_type": "code",
   "execution_count": null,
   "metadata": {},
   "outputs": [],
   "source": [
    "def rec_attr_main(d, l):\n",
    "  for k, v in d.items():\n",
    "    if isinstance(v, dict):\n",
    "          rec_attr_main(v, l)\n",
    "    else:\n",
    "        l[k] = v\n",
    "\n",
    "business_attribute = []\n",
    "\n",
    "for b in business:\n",
    "    all_attr_list = ['business_id'] + all_attr_list\n",
    "    t = {k : False for k in all_attr_list}\n",
    "    t['business_id'] = b['business_id']\n",
    "    rec_attr_main(b['attributes'], t)\n",
    "    business_attribute.append(t)\n",
    "\n",
    "print(len(business_attribute))"
   ]
  },
  {
   "cell_type": "code",
   "execution_count": null,
   "metadata": {},
   "outputs": [],
   "source": [
    "business_categories = []\n",
    "for b in business:\n",
    "    categories = b['categories']\n",
    "    for cat in categories:\n",
    "        t = {'business_id': b['business_id'], 'category_name': cat}\n",
    "        business_categories.append(t)\n",
    "\n",
    "print(business_categories[:10])"
   ]
  },
  {
   "cell_type": "code",
   "execution_count": null,
   "metadata": {},
   "outputs": [],
   "source": [
    "business_hours = []\n",
    "days = ['Monday', 'Tuesday', 'Wednesday', 'Thursday', 'Friday', 'Saturday', 'Sunday']\n",
    "for b in business:\n",
    "    hours = b['hours']\n",
    "    for day in days:\n",
    "        total_time = int(hours[day][6:7]) -  int(hours[day][0:1])\n",
    "        hours[day] = total_time\n",
    "    business_hours.append({'business_id': b['business_id'], 'Monday':  hours['Monday'], 'Tuesday':  hours['Tuesday'],\n",
    "                          'Wednesday':  hours['Wednesday'], 'Thursday':  hours['Thursday'], 'Friday':  hours['Friday'],\n",
    "                          'Saturday':  hours['Saturday'], 'Sunday':  hours['Sunday']})\n",
    "\n",
    "print(business_hours[:10])"
   ]
  },
  {
   "cell_type": "code",
   "execution_count": null,
   "metadata": {},
   "outputs": [],
   "source": []
  },
  {
   "cell_type": "code",
   "execution_count": null,
   "metadata": {},
   "outputs": [],
   "source": []
  }
 ],
 "metadata": {
  "kernelspec": {
   "display_name": "Python 2",
   "language": "python",
   "name": "python2"
  },
  "language_info": {
   "codemirror_mode": {
    "name": "ipython",
    "version": 2
   },
   "file_extension": ".py",
   "mimetype": "text/x-python",
   "name": "python",
   "nbconvert_exporter": "python",
   "pygments_lexer": "ipython2",
   "version": "2.7.14"
  }
 },
 "nbformat": 4,
 "nbformat_minor": 2
}
