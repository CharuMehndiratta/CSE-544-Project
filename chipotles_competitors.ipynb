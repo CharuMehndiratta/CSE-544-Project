{
 "cells": [
  {
   "cell_type": "code",
   "execution_count": 226,
   "metadata": {},
   "outputs": [],
   "source": [
    "import json\n",
    "import seaborn as sns\n",
    "import pandas as  pd\n",
    "import matplotlib.pyplot as plt\n",
    "import itertools\n",
    "import numpy as np\n",
    "import pickle"
   ]
  },
  {
   "cell_type": "code",
   "execution_count": 227,
   "metadata": {},
   "outputs": [],
   "source": [
    "with open('/Users/charumehndiratta/Downloads/business_df.pickle', 'rb') as handle:\n",
    "    business_df = pickle.load(handle)"
   ]
  },
  {
   "cell_type": "code",
   "execution_count": 228,
   "metadata": {},
   "outputs": [],
   "source": [
    "with open('/Users/charumehndiratta/Downloads/review_df.pickle', 'rb') as handle:\n",
    "    reviews_df = pickle.load(handle)"
   ]
  },
  {
   "cell_type": "code",
   "execution_count": 229,
   "metadata": {},
   "outputs": [],
   "source": [
    "fin_ans_moe = business_df[business_df['name'] == \"Moe's Southwest Grill\"]\n",
    "fin_ans_burger = business_df[business_df['name'] == \"Burger King\"]\n",
    "fin_ans_taco = business_df[business_df['name'] == \"Taco Bell\"]"
   ]
  },
  {
   "cell_type": "code",
   "execution_count": 230,
   "metadata": {},
   "outputs": [],
   "source": [
    "new_ans_moe = pd.merge(reviews_df, fin_ans_moe, on='business_id', how='inner')\n",
    "new_ans_burger = pd.merge(reviews_df, fin_ans_burger, on='business_id', how='inner')\n",
    "new_ans_taco = pd.merge(reviews_df, fin_ans_taco, on='business_id', how='inner')"
   ]
  },
  {
   "cell_type": "code",
   "execution_count": 231,
   "metadata": {},
   "outputs": [],
   "source": [
    "def func1(str):\n",
    "    return pd.to_datetime(str).year\n",
    "\n",
    "b_df_moe = new_ans_moe['date'].apply(lambda row: func1(row))\n",
    "b_df_burger = new_ans_burger['date'].apply(lambda row: func1(row))\n",
    "b_df_taco = new_ans_taco['date'].apply(lambda row: func1(row))"
   ]
  },
  {
   "cell_type": "code",
   "execution_count": 232,
   "metadata": {},
   "outputs": [],
   "source": [
    "new_ans_moe['year'] = b_df_moe\n",
    "new_ans_burger['year'] = b_df_burger\n",
    "new_ans_taco['year'] = b_df_taco"
   ]
  },
  {
   "cell_type": "code",
   "execution_count": 233,
   "metadata": {},
   "outputs": [],
   "source": [
    "final_new_ans_moe = new_ans_moe[(new_ans_moe['year'] >= 2007 )& (new_ans_moe['year'] <= 2009) ]\n",
    "final_new_ans_burger = new_ans_burger[(new_ans_burger['year'] >= 2007 )& (new_ans_burger['year'] <= 2009) ]\n",
    "final_new_ans_taco = new_ans_taco[(new_ans_taco['year'] >= 2007 )& (new_ans_taco['year'] <= 2009) ]"
   ]
  },
  {
   "cell_type": "code",
   "execution_count": 234,
   "metadata": {},
   "outputs": [],
   "source": [
    "total_stars_surrounding_rest_moe = final_new_ans_moe[['review_count', 'year']]\n",
    "total_stars_surrounding_rest_burger = final_new_ans_burger[['review_count', 'year']]\n",
    "total_stars_surrounding_rest_taco = final_new_ans_taco[['review_count', 'year']]"
   ]
  },
  {
   "cell_type": "code",
   "execution_count": 235,
   "metadata": {},
   "outputs": [],
   "source": [
    "review_count_moe = total_stars_surrounding_rest_moe['review_count'].tolist()\n",
    "year = total_stars_surrounding_rest_moe['year'].tolist()\n",
    "\n",
    "final_result_moe = {}\n",
    "for i in range(len(review_count_moe)):\n",
    "    if year[i] in final_result_moe:\n",
    "        final_result_moe[year[i]]['review_count'] = final_result_moe[year[i]]['review_count'] + review_count_moe[i]\n",
    "        final_result_moe[year[i]]['count'] = final_result_moe[year[i]]['count'] + 1\n",
    "    else:\n",
    "        final_result_moe[year[i]] = {'review_count' : review_count[i], 'count':1}\n",
    "        "
   ]
  },
  {
   "cell_type": "code",
   "execution_count": 236,
   "metadata": {},
   "outputs": [],
   "source": [
    "review_count_burger = total_stars_surrounding_rest_burger['review_count'].tolist()\n",
    "year = total_stars_surrounding_rest_burger['year'].tolist() \n",
    "\n",
    "final_result_burger = {}\n",
    "for i in range(len(review_count_burger)):\n",
    "    if year[i] in final_result_burger:\n",
    "        final_result_burger[year[i]]['review_count'] = final_result_burger[year[i]]['review_count'] + review_count_burger[i]\n",
    "        final_result_burger[year[i]]['count'] = final_result_burger[year[i]]['count'] + 1\n",
    "    else:\n",
    "        final_result_burger[year[i]] = {'review_count' : review_count_burger[i], 'count':1}\n"
   ]
  },
  {
   "cell_type": "code",
   "execution_count": 237,
   "metadata": {},
   "outputs": [],
   "source": [
    "review_count_taco = total_stars_surrounding_rest_taco['review_count'].tolist()\n",
    "year = total_stars_surrounding_rest_taco['year'].tolist()   \n",
    "\n",
    "final_result_taco = {}\n",
    "for i in range(len(review_count_taco)):\n",
    "    if year[i] in final_result_taco:\n",
    "        final_result_taco[year[i]]['review_count'] = final_result_taco[year[i]]['review_count'] + review_count_taco[i]\n",
    "        final_result_taco[year[i]]['count'] = final_result_taco[year[i]]['count'] + 1\n",
    "    else:\n",
    "        final_result_taco[year[i]] = {'review_count' : review_count_taco[i], 'count':1}\n"
   ]
  },
  {
   "cell_type": "code",
   "execution_count": 245,
   "metadata": {},
   "outputs": [],
   "source": [
    "review_count_kitchen = total_stars_surrounding_rest_kitchen['review_count'].tolist()\n",
    "year = total_stars_surrounding_rest_kitchen['year'].tolist()\n",
    "\n",
    "final_result_kitchen = {}\n",
    "for i in range(len(review_count_kitchen)):\n",
    "    if year[i] in final_result_kitchen:\n",
    "        final_result_kitchen[year[i]]['review_count'] = final_result_kitchen[year[i]]['review_count'] + review_count_kitchen[i]\n",
    "        final_result_kitchen[year[i]]['count'] = final_result_kitchen[year[i]]['count'] + 1\n",
    "    else:\n",
    "        final_result_kitchen[year[i]] = {'review_count' : review_count_kitchen[i], 'count':1}\n",
    "        "
   ]
  },
  {
   "cell_type": "code",
   "execution_count": 250,
   "metadata": {},
   "outputs": [
    {
     "data": {
      "image/png": "[encoded data removed]",
      "text/plain": [
       "<matplotlib.figure.Figure at 0x1a7795f320>"
      ]
     },
     "metadata": {},
     "output_type": "display_data"
    }
   ],
   "source": [
    "# final_result\n",
    "import matplotlib.pyplot as plt\n",
    "\n",
    "\n",
    "x_label_moe = list(final_result_moe.keys())\n",
    "vals_moe = list(final_result_moe.values())\n",
    "\n",
    "y_label_moe = []\n",
    "for val in vals_moe:  \n",
    "    y_label_moe.append(val['review_count']/val['count'])\n",
    "plt.scatter(\n",
    "    x_label_moe,\n",
    "    y_label_moe,\n",
    "    color='b', label=\"Moe's Southwest Grill\")\n",
    "\n",
    "x_label_burger = list(final_result_burger.keys())\n",
    "vals_burger = list(final_result_burger.values())\n",
    "\n",
    "y_label_burger = []\n",
    "for val in vals_burger:  \n",
    "    y_label_burger.append(val['review_count']/val['count'])\n",
    "plt.scatter(\n",
    "    x_label_burger,\n",
    "    y_label_burger,\n",
    "    color='r', label=\"Burger king\")\n",
    "\n",
    "x_label_taco = list(final_result_taco.keys())\n",
    "vals_taco = list(final_result_taco.values())\n",
    "\n",
    "y_label_taco = []\n",
    "for val in vals_taco:  \n",
    "    y_label_taco.append(val['review_count']/val['count'])\n",
    "plt.scatter(\n",
    "    x_label_taco,\n",
    "    y_label_taco,\n",
    "    color='g', label=\"Taco Bell\")\n",
    "\n",
    "plt.xlabel(\"Year\")\n",
    "plt.ylabel(\"Average Review Count\")\n",
    "plt.grid()\n",
    "plt.legend()\n",
    "plt.xticks(x_label_taco)\n",
    "plt.title(\"Chipotle's competitors\")\n",
    "plt.savefig('chipotle_competitor.png')"
   ]
  }
 ],
 "metadata": {
  "kernelspec": {
   "display_name": "Python 3",
   "language": "python",
   "name": "python3"
  },
  "language_info": {
   "codemirror_mode": {
    "name": "ipython",
    "version": 3
   },
   "file_extension": ".py",
   "mimetype": "text/x-python",
   "name": "python",
   "nbconvert_exporter": "python",
   "pygments_lexer": "ipython3",
   "version": "3.6.4"
  }
 },
 "nbformat": 4,
 "nbformat_minor": 2
}
