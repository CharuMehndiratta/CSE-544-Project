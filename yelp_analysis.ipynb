{
 "cells": [
  {
   "cell_type": "code",
   "execution_count": 63,
   "metadata": {},
   "outputs": [
    {
     "name": "stdout",
     "output_type": "stream",
     "text": [
      "Review done\n"
     ]
    }
   ],
   "source": [
    "import json\n",
    "\n",
    "business_data = open('dataset/business.json')\n",
    "restaurants = []\n",
    "\n",
    "restaurant_stars = {}\n",
    "\n",
    "for line in business_data:\n",
    "    business = json.loads(line)\n",
    "    if 'Restaurants' in business['categories']:\n",
    "        restaurants.append(business['business_id'])\n",
    "        restaurant_stars[business['business_id']] = business['review_count']\n",
    "        \n",
    "review_data = open('dataset/review.json')\n",
    "reviews = []\n",
    "\n",
    "review_dict = {}\n",
    "\n",
    "for line in review_data:\n",
    "    review = json.loads(line)\n",
    "    review_dict[review['business_id']] = {'date' : review['date'], 'stars': review['stars'], 'text': review['text'], }\n",
    "\n",
    "# print(review_dict)\n",
    "reviews = []\n",
    "\n",
    "print 'Review done'\n",
    "\n",
    "for restaurant in restaurants:\n",
    "    if restaurant in review_dict:\n",
    "        reviews.append(review_dict[restaurant])"
   ]
  },
  {
   "cell_type": "code",
   "execution_count": 64,
   "metadata": {},
   "outputs": [
    {
     "name": "stdout",
     "output_type": "stream",
     "text": [
      "IZivKqtHyz4-ts8KsnvMrA\n",
      "52087\n"
     ]
    }
   ],
   "source": [
    "# Read checkin data\n",
    "\n",
    "checkin_data = open('dataset/checkin.json')\n",
    "checkins = {}\n",
    "\n",
    "for line in checkin_data:\n",
    "    checkin = json.loads(line)    \n",
    "    for key1, value1 in checkin['time'].items():\n",
    "        for key2, value2 in value1.items():\n",
    "            if not checkin['business_id'] in checkins:\n",
    "                checkins[checkin['business_id']] = 0\n",
    "            checkins[checkin['business_id']] = checkins[checkin['business_id']] + value2\n",
    "\n",
    "checkin_ratings = []\n",
    "for restaurant in restaurants:\n",
    "    if restaurant in checkins:\n",
    "        checkin_ratings.append({'id' : restaurant, 'checkins' : checkins[restaurant], 'stars' : restaurant_stars[restaurant]})\n",
    "        \n",
    "print(len(checkin_ratings))"
   ]
  },
  {
   "cell_type": "code",
   "execution_count": 93,
   "metadata": {},
   "outputs": [
    {
     "data": {
      "text/plain": [
       "Text(0,0.5,u'checkins')"
      ]
     },
     "execution_count": 93,
     "metadata": {},
     "output_type": "execute_result"
    },
    {
     "data": {
      "image/png": "[encoded data removed]",
      "text/plain": [
       "<matplotlib.figure.Figure at 0x1b71948110>"
      ]
     },
     "metadata": {},
     "output_type": "display_data"
    }
   ],
   "source": [
    "import pandas as pd\n",
    "import matplotlib.pyplot as plt\n",
    "import seaborn as sns\n",
    "\n",
    "df = pd.DataFrame(checkin_ratings)\n",
    "\n",
    "# df.head()\n",
    "\n",
    "df.plot(x='stars', y='checkins', style='o')  \n",
    "plt.title('stars vs checkins')  \n",
    "plt.xlabel('stars')  \n",
    "plt.ylabel('checkins')\n",
    "# plt.savefig('results/ext4/fileserver/plot_1.png')\n",
    "\n",
    "# fig, ax = plt.subplots()\n",
    "# sns.boxplot(x = \"stars\", y = \"checkins\", data=df.reset_index())\n",
    "# plt.savefig('results/ext4/' + excel_sheets[index] + '/boxplot_' + str(idx) +'.png')\n",
    "# df.iplot(kind='box', filename='cufflinks/box-plots')\n",
    "# plt.show()\n",
    "\n",
    "# plt.scatter(df['stars'], df['checkins'],  color='black')\n",
    "# plt.plot(diabetes_X_test, diabetes_y_pred, color='blue', linewidth=3)\n",
    "\n",
    "# plt.xticks(())\n",
    "# plt.yticks(())\n",
    "\n",
    "# plt.show()"
   ]
  },
  {
   "cell_type": "code",
   "execution_count": 39,
   "metadata": {},
   "outputs": [
    {
     "data": {
      "text/plain": [
       "checkins    1.000000\n",
       "stars       0.048651\n",
       "Name: checkins, dtype: float64"
      ]
     },
     "execution_count": 39,
     "metadata": {},
     "output_type": "execute_result"
    }
   ],
   "source": [
    "df.corr()[\"checkins\"]"
   ]
  },
  {
   "cell_type": "code",
   "execution_count": 80,
   "metadata": {},
   "outputs": [],
   "source": [
    "users = open('dataset/user.json')\n",
    "review_friends = []\n",
    "\n",
    "for line in users:\n",
    "    user = json.loads(line)\n",
    "    review_friends.append({\n",
    "        'reviews': user['review_count'],\n",
    "        'friends': len(user['friends']),\n",
    "        'fans' : user['fans'],\n",
    "        'elite' : len(user['elite'])\n",
    "    })\n",
    "    \n",
    "#     if 'Restaurants' in business['categories']:\n",
    "#         restaurants.append(business['business_id'])\n",
    "#         restaurant_stars[business['business_id']] = business['review_count']"
   ]
  },
  {
   "cell_type": "code",
   "execution_count": 2,
   "metadata": {},
   "outputs": [
    {
     "ename": "NameError",
     "evalue": "name 'pd' is not defined",
     "output_type": "error",
     "traceback": [
      "\u001b[0;31m---------------------------------------------------------------------------\u001b[0m",
      "\u001b[0;31mNameError\u001b[0m                                 Traceback (most recent call last)",
      "\u001b[0;32m<ipython-input-2-62d77d86ee26>\u001b[0m in \u001b[0;36m<module>\u001b[0;34m()\u001b[0m\n\u001b[0;32m----> 1\u001b[0;31m \u001b[0mreview_friends_df\u001b[0m \u001b[0;34m=\u001b[0m \u001b[0mpd\u001b[0m\u001b[0;34m.\u001b[0m\u001b[0mDataFrame\u001b[0m\u001b[0;34m(\u001b[0m\u001b[0mreview_friends\u001b[0m\u001b[0;34m)\u001b[0m\u001b[0;34m\u001b[0m\u001b[0m\n\u001b[0m\u001b[1;32m      2\u001b[0m \u001b[0;34m\u001b[0m\u001b[0m\n\u001b[1;32m      3\u001b[0m \u001b[0;31m# review_friends_df.plot(x='reviews', y='friends', style='o')\u001b[0m\u001b[0;34m\u001b[0m\u001b[0;34m\u001b[0m\u001b[0m\n\u001b[1;32m      4\u001b[0m \u001b[0;31m# plt.title('friends vs reviews')\u001b[0m\u001b[0;34m\u001b[0m\u001b[0;34m\u001b[0m\u001b[0m\n\u001b[1;32m      5\u001b[0m \u001b[0;31m# plt.xlabel('reviews')\u001b[0m\u001b[0;34m\u001b[0m\u001b[0;34m\u001b[0m\u001b[0m\n",
      "\u001b[0;31mNameError\u001b[0m: name 'pd' is not defined"
     ]
    }
   ],
   "source": [
    "review_friends_df = pd.DataFrame(review_friends)\n",
    "\n",
    "# review_friends_df.plot(x='reviews', y='friends', style='o')  \n",
    "# plt.title('friends vs reviews')  \n",
    "# plt.xlabel('reviews')  \n",
    "# plt.ylabel('friends')\n",
    "# plt.show()\n",
    "\n",
    "# review_friends_df.columns\n"
   ]
  },
  {
   "cell_type": "code",
   "execution_count": 91,
   "metadata": {},
   "outputs": [
    {
     "data": {
      "text/plain": [
       "elite      0.387956\n",
       "fans       0.608819\n",
       "friends    1.000000\n",
       "reviews    0.468669\n",
       "Name: friends, dtype: float64"
      ]
     },
     "execution_count": 91,
     "metadata": {},
     "output_type": "execute_result"
    }
   ],
   "source": [
    "review_friends_df.corr()[\"friends\"]"
   ]
  },
  {
   "cell_type": "code",
   "execution_count": 89,
   "metadata": {},
   "outputs": [
    {
     "data": {
      "image/png": "[encoded data removed]",
      "text/plain": [
       "<matplotlib.figure.Figure at 0x125b54cd0>"
      ]
     },
     "metadata": {},
     "output_type": "display_data"
    }
   ],
   "source": [
    "# review_friends_df = pd.DataFrame(review_friends)\n",
    "\n",
    "review_friends_df.plot(x='fans', y='friends', style='o')  \n",
    "plt.title('elite vs fans') \n",
    "plt.xlabel('elite')  \n",
    "plt.ylabel('fans')\n",
    "plt.show()"
   ]
  },
  {
   "cell_type": "code",
   "execution_count": 1,
   "metadata": {},
   "outputs": [
    {
     "ename": "NameError",
     "evalue": "name 'review_friends_df' is not defined",
     "output_type": "error",
     "traceback": [
      "\u001b[0;31m---------------------------------------------------------------------------\u001b[0m",
      "\u001b[0;31mNameError\u001b[0m                                 Traceback (most recent call last)",
      "\u001b[0;32m<ipython-input-1-1767a31b1ccb>\u001b[0m in \u001b[0;36m<module>\u001b[0;34m()\u001b[0m\n\u001b[0;32m----> 1\u001b[0;31m \u001b[0mreview_friends_df\u001b[0m\u001b[0;34m.\u001b[0m\u001b[0mcorr\u001b[0m\u001b[0;34m(\u001b[0m\u001b[0;34m)\u001b[0m\u001b[0;34m[\u001b[0m\u001b[0;34m\"fans\"\u001b[0m\u001b[0;34m]\u001b[0m\u001b[0;34m\u001b[0m\u001b[0m\n\u001b[0m",
      "\u001b[0;31mNameError\u001b[0m: name 'review_friends_df' is not defined"
     ]
    }
   ],
   "source": [
    "review_friends_df.corr()[\"fans\"]"
   ]
  },
  {
   "cell_type": "code",
   "execution_count": 3,
   "metadata": {},
   "outputs": [
    {
     "name": "stdout",
     "output_type": "stream",
     "text": [
      "Hello\n"
     ]
    }
   ],
   "source": [
    "import json\n",
    "import seaborn as sns\n",
    "\n",
    "business_data = open('dataset/business.json')\n",
    "restaurants = []\n",
    "\n",
    "stars = []\n",
    "\n",
    "for line in business_data:\n",
    "    business = json.loads(line)\n",
    "    if 'Restaurants' in business['categories']:\n",
    "        stars.append(business['stars'])\n",
    "        \n",
    "print(\"Hello\")"
   ]
  },
  {
   "cell_type": "code",
   "execution_count": 4,
   "metadata": {},
   "outputs": [
    {
     "data": {
      "text/plain": [
       "<matplotlib.axes._subplots.AxesSubplot at 0x10c95c2d0>"
      ]
     },
     "execution_count": 4,
     "metadata": {},
     "output_type": "execute_result"
    },
    {
     "data": {
      "image/png": "[encoded data removed]",
      "text/plain": [
       "<matplotlib.figure.Figure at 0x1082cae50>"
      ]
     },
     "metadata": {},
     "output_type": "display_data"
    }
   ],
   "source": [
    "sns.distplot(stars)"
   ]
  },
  {
   "cell_type": "code",
   "execution_count": 7,
   "metadata": {},
   "outputs": [
    {
     "data": {
      "text/plain": [
       "<matplotlib.axes._subplots.AxesSubplot at 0x1a1e515990>"
      ]
     },
     "execution_count": 7,
     "metadata": {},
     "output_type": "execute_result"
    },
    {
     "data": {
      "image/png": "[encoded data removed]",
      "text/plain": [
       "<matplotlib.figure.Figure at 0x1a1e3c3590>"
      ]
     },
     "metadata": {},
     "output_type": "display_data"
    }
   ],
   "source": [
    "# \n",
    "# sns.distplot(stars)\n",
    "sns.distplot(stars, bins=20, kde=False, rug=True)"
   ]
  },
  {
   "cell_type": "code",
   "execution_count": 8,
   "metadata": {},
   "outputs": [
    {
     "data": {
      "text/plain": [
       "<matplotlib.axes._subplots.AxesSubplot at 0x1a4ed6c710>"
      ]
     },
     "execution_count": 8,
     "metadata": {},
     "output_type": "execute_result"
    },
    {
     "data": {
      "image/png": "[encoded data removed]",
      "text/plain": [
       "<matplotlib.figure.Figure at 0x1a1e612ed0>"
      ]
     },
     "metadata": {},
     "output_type": "display_data"
    }
   ],
   "source": [
    "sns.distplot(stars, hist=False, rug=True)"
   ]
  },
  {
   "cell_type": "code",
   "execution_count": null,
   "metadata": {},
   "outputs": [],
   "source": []
  }
 ],
 "metadata": {
  "kernelspec": {
   "display_name": "Python 2",
   "language": "python",
   "name": "python2"
  },
  "language_info": {
   "codemirror_mode": {
    "name": "ipython",
    "version": 2
   },
   "file_extension": ".py",
   "mimetype": "text/x-python",
   "name": "python",
   "nbconvert_exporter": "python",
   "pygments_lexer": "ipython2",
   "version": "2.7.14"
  }
 },
 "nbformat": 4,
 "nbformat_minor": 2
}
