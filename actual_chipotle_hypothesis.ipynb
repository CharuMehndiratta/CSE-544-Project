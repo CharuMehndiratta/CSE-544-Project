{
 "cells": [
  {
   "cell_type": "code",
   "execution_count": 1,
   "metadata": {},
   "outputs": [],
   "source": [
    "import json\n",
    "import seaborn as sns\n",
    "import pandas as  pd\n",
    "import matplotlib.pyplot as plt\n",
    "import itertools\n",
    "import numpy as np\n",
    "import pickle"
   ]
  },
  {
   "cell_type": "code",
   "execution_count": 2,
   "metadata": {},
   "outputs": [],
   "source": [
    "with open('/Users/charumehndiratta/Downloads/business_df.pickle', 'rb') as handle:\n",
    "    business_df = pickle.load(handle)"
   ]
  },
  {
   "cell_type": "code",
   "execution_count": 3,
   "metadata": {},
   "outputs": [],
   "source": [
    "with open('/Users/charumehndiratta/Downloads/review_df.pickle', 'rb') as handle:\n",
    "    reviews_df = pickle.load(handle)"
   ]
  },
  {
   "cell_type": "code",
   "execution_count": 4,
   "metadata": {},
   "outputs": [],
   "source": [
    "fin_ans = business_df[business_df['name'] == 'Chipotle Mexican Grill']"
   ]
  },
  {
   "cell_type": "code",
   "execution_count": 5,
   "metadata": {},
   "outputs": [],
   "source": [
    "new_ans = pd.merge(reviews_df, fin_ans, on='business_id', how='inner')"
   ]
  },
  {
   "cell_type": "code",
   "execution_count": 6,
   "metadata": {},
   "outputs": [],
   "source": [
    "def func1(str):\n",
    "    return pd.to_datetime(str).year\n",
    "\n",
    "b_df = new_ans['date'].apply(lambda row: func1(row))"
   ]
  },
  {
   "cell_type": "code",
   "execution_count": 7,
   "metadata": {},
   "outputs": [],
   "source": [
    "new_ans['year'] = b_df"
   ]
  },
  {
   "cell_type": "code",
   "execution_count": 12,
   "metadata": {},
   "outputs": [],
   "source": [
    "final_new_ans = new_ans[(new_ans['year'] >= 2006 )& (new_ans['year'] <= 2009) ]"
   ]
  },
  {
   "cell_type": "code",
   "execution_count": 13,
   "metadata": {},
   "outputs": [],
   "source": [
    "total_stars_surrounding_rest = final_new_ans[['stars_x', 'year']]"
   ]
  },
  {
   "cell_type": "code",
   "execution_count": 14,
   "metadata": {},
   "outputs": [
    {
     "name": "stdout",
     "output_type": "stream",
     "text": [
      "245\n",
      "245\n"
     ]
    }
   ],
   "source": [
    "review_count = total_stars_surrounding_rest['stars_x'].tolist()\n",
    "year = total_stars_surrounding_rest['year'].tolist()\n",
    "\n",
    "print (len(review_count))\n",
    "print (len(year))\n",
    "\n",
    "# total_ans = {2004:0, 2016:0, 2015:0, 2013:0, 2008:0, 2010:0, 2017:0, 2014:0, 2011:0, 2012:0, 2009:0, 2007:0, 2005:0, 2006:0}\n",
    "# for key, val in final_ans.items():\n",
    "#     total_ans[key] = sum(final_ans[key])/float(len(final_ans[key]))\n",
    "        \n",
    "\n",
    "final_result = {}\n",
    "for i in range(len(review_count)):\n",
    "    if year[i] in final_result:\n",
    "        final_result[year[i]]['review_count'] = final_result[year[i]]['review_count'] + review_count[i]\n",
    "        final_result[year[i]]['count'] = final_result[year[i]]['count'] + 1\n",
    "    else:\n",
    "        final_result[year[i]] = {'review_count' : review_count[i], 'count':1}"
   ]
  },
  {
   "cell_type": "code",
   "execution_count": 18,
   "metadata": {},
   "outputs": [
    {
     "data": {
      "image/png": "[encoded data removed]",
      "text/plain": [
       "<matplotlib.figure.Figure at 0x1a96c6deb8>"
      ]
     },
     "metadata": {},
     "output_type": "display_data"
    }
   ],
   "source": [
    "# final_result\n",
    "import matplotlib.pyplot as plt\n",
    "\n",
    "plt.xlabel(\"Year\")\n",
    "plt.ylabel(\"Average review rating\")\n",
    "plt.grid()\n",
    "\n",
    "x_label = list(final_result.keys())\n",
    "vals = list(final_result.values())\n",
    "\n",
    "y_label = []\n",
    "for val in vals:  \n",
    "    y_label.append(val['review_count']/val['count'])\n",
    "plt.scatter(\n",
    "    x_label,\n",
    "    y_label,\n",
    "    color='b')\n",
    "\n",
    "plt.xticks(x_label)\n",
    "plt.title('Chipotle')\n",
    "plt.savefig('fun_fact_chipotle.png')"
   ]
  }
 ],
 "metadata": {
  "kernelspec": {
   "display_name": "Python 3",
   "language": "python",
   "name": "python3"
  },
  "language_info": {
   "codemirror_mode": {
    "name": "ipython",
    "version": 3
   },
   "file_extension": ".py",
   "mimetype": "text/x-python",
   "name": "python",
   "nbconvert_exporter": "python",
   "pygments_lexer": "ipython3",
   "version": "3.6.4"
  }
 },
 "nbformat": 4,
 "nbformat_minor": 2
}
