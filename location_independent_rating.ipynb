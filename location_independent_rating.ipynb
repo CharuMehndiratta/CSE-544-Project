{
 "cells": [
  {
   "cell_type": "code",
   "execution_count": 77,
   "metadata": {},
   "outputs": [],
   "source": [
    "import json\n",
    "import seaborn as sns\n",
    "import pandas as pd\n",
    "import matplotlib.pyplot as plt\n",
    "import numpy as np\n",
    "import pickle\n",
    "import math"
   ]
  },
  {
   "cell_type": "code",
   "execution_count": 78,
   "metadata": {},
   "outputs": [
    {
     "data": {
      "text/plain": [
       "174567"
      ]
     },
     "execution_count": 78,
     "metadata": {},
     "output_type": "execute_result"
    }
   ],
   "source": [
    "with open('business_df.pickle', 'rb') as handle:\n",
    "    business_df = pickle.load(handle)\n",
    "len(business_df)"
   ]
  },
  {
   "cell_type": "code",
   "execution_count": 80,
   "metadata": {},
   "outputs": [],
   "source": [
    "business_new_df = pd.DataFrame(business_df.groupby('name').size()).reset_index()\n",
    "business_new_df.columns = ['name', 'counts']\n",
    "business_new_df = business_new_df.nlargest(10, 'counts')"
   ]
  },
  {
   "cell_type": "code",
   "execution_count": 81,
   "metadata": {},
   "outputs": [
    {
     "data": {
      "text/html": [
       "<div>\n",
       "<style scoped>\n",
       "    .dataframe tbody tr th:only-of-type {\n",
       "        vertical-align: middle;\n",
       "    }\n",
       "\n",
       "    .dataframe tbody tr th {\n",
       "        vertical-align: top;\n",
       "    }\n",
       "\n",
       "    .dataframe thead th {\n",
       "        text-align: right;\n",
       "    }\n",
       "</style>\n",
       "<table border=\"1\" class=\"dataframe\">\n",
       "  <thead>\n",
       "    <tr style=\"text-align: right;\">\n",
       "      <th></th>\n",
       "      <th>name</th>\n",
       "      <th>counts</th>\n",
       "    </tr>\n",
       "  </thead>\n",
       "  <tbody>\n",
       "    <tr>\n",
       "      <th>108096</th>\n",
       "      <td>Starbucks</td>\n",
       "      <td>936</td>\n",
       "    </tr>\n",
       "    <tr>\n",
       "      <th>73895</th>\n",
       "      <td>McDonald's</td>\n",
       "      <td>695</td>\n",
       "    </tr>\n",
       "    <tr>\n",
       "      <th>109570</th>\n",
       "      <td>Subway</td>\n",
       "      <td>686</td>\n",
       "    </tr>\n",
       "    <tr>\n",
       "      <th>89709</th>\n",
       "      <td>Pizza Hut</td>\n",
       "      <td>301</td>\n",
       "    </tr>\n",
       "    <tr>\n",
       "      <th>112202</th>\n",
       "      <td>Taco Bell</td>\n",
       "      <td>293</td>\n",
       "    </tr>\n",
       "    <tr>\n",
       "      <th>19554</th>\n",
       "      <td>Burger King</td>\n",
       "      <td>289</td>\n",
       "    </tr>\n",
       "    <tr>\n",
       "      <th>127423</th>\n",
       "      <td>Walgreens</td>\n",
       "      <td>287</td>\n",
       "    </tr>\n",
       "    <tr>\n",
       "      <th>128250</th>\n",
       "      <td>Wendy's</td>\n",
       "      <td>256</td>\n",
       "    </tr>\n",
       "    <tr>\n",
       "      <th>119227</th>\n",
       "      <td>The UPS Store</td>\n",
       "      <td>242</td>\n",
       "    </tr>\n",
       "    <tr>\n",
       "      <th>120282</th>\n",
       "      <td>Tim Hortons</td>\n",
       "      <td>235</td>\n",
       "    </tr>\n",
       "  </tbody>\n",
       "</table>\n",
       "</div>"
      ],
      "text/plain": [
       "                 name  counts\n",
       "108096      Starbucks     936\n",
       "73895      McDonald's     695\n",
       "109570         Subway     686\n",
       "89709       Pizza Hut     301\n",
       "112202      Taco Bell     293\n",
       "19554     Burger King     289\n",
       "127423      Walgreens     287\n",
       "128250        Wendy's     256\n",
       "119227  The UPS Store     242\n",
       "120282    Tim Hortons     235"
      ]
     },
     "execution_count": 81,
     "metadata": {},
     "output_type": "execute_result"
    }
   ],
   "source": [
    "business_new_df"
   ]
  },
  {
   "cell_type": "code",
   "execution_count": 90,
   "metadata": {},
   "outputs": [],
   "source": [
    "mcd_df = business_df[business_df['name'] == 'Starbucks']"
   ]
  },
  {
   "cell_type": "code",
   "execution_count": 91,
   "metadata": {},
   "outputs": [
    {
     "data": {
      "text/html": [
       "<div>\n",
       "<style scoped>\n",
       "    .dataframe tbody tr th:only-of-type {\n",
       "        vertical-align: middle;\n",
       "    }\n",
       "\n",
       "    .dataframe tbody tr th {\n",
       "        vertical-align: top;\n",
       "    }\n",
       "\n",
       "    .dataframe thead th {\n",
       "        text-align: right;\n",
       "    }\n",
       "</style>\n",
       "<table border=\"1\" class=\"dataframe\">\n",
       "  <thead>\n",
       "    <tr style=\"text-align: right;\">\n",
       "      <th></th>\n",
       "      <th>business_id</th>\n",
       "      <th>city</th>\n",
       "      <th>is_open</th>\n",
       "      <th>latitude</th>\n",
       "      <th>longitude</th>\n",
       "      <th>name</th>\n",
       "      <th>postal_code</th>\n",
       "      <th>review_count</th>\n",
       "      <th>stars</th>\n",
       "      <th>state</th>\n",
       "    </tr>\n",
       "  </thead>\n",
       "  <tbody>\n",
       "    <tr>\n",
       "      <th>20</th>\n",
       "      <td>lHYiCS-y8AFjUitv6MGpxg</td>\n",
       "      <td>Toronto</td>\n",
       "      <td>1</td>\n",
       "      <td>43.639863</td>\n",
       "      <td>-79.419533</td>\n",
       "      <td>Starbucks</td>\n",
       "      <td>M6K 3S3</td>\n",
       "      <td>21</td>\n",
       "      <td>4.0</td>\n",
       "      <td>ON</td>\n",
       "    </tr>\n",
       "  </tbody>\n",
       "</table>\n",
       "</div>"
      ],
      "text/plain": [
       "               business_id     city  is_open   latitude  longitude       name  \\\n",
       "20  lHYiCS-y8AFjUitv6MGpxg  Toronto        1  43.639863 -79.419533  Starbucks   \n",
       "\n",
       "   postal_code  review_count  stars state  \n",
       "20     M6K 3S3            21    4.0    ON  "
      ]
     },
     "execution_count": 91,
     "metadata": {},
     "output_type": "execute_result"
    }
   ],
   "source": [
    "mcd_df.head(1)"
   ]
  },
  {
   "cell_type": "code",
   "execution_count": 92,
   "metadata": {},
   "outputs": [
    {
     "name": "stdout",
     "output_type": "stream",
     "text": [
      "936\n"
     ]
    }
   ],
   "source": [
    "review_stars = mcd_df['stars']\n",
    "print(len(review_stars))"
   ]
  },
  {
   "cell_type": "code",
   "execution_count": 93,
   "metadata": {},
   "outputs": [
    {
     "name": "stdout",
     "output_type": "stream",
     "text": [
      "3.25\n",
      "0.6785794614266523\n"
     ]
    }
   ],
   "source": [
    "rs = np.array(review_stars)\n",
    "print(rs.mean())\n",
    "print(rs.std())"
   ]
  },
  {
   "cell_type": "code",
   "execution_count": 113,
   "metadata": {},
   "outputs": [
    {
     "name": "stdout",
     "output_type": "stream",
     "text": [
      "936\n",
      "{1: 4, 1.5: 11, 2: 52, 2.5: 141, 3: 243, 3.5: 267, 4: 165, 4.5: 47, 5: 6}\n",
      "0\n",
      "3.25\n",
      "0.6785794614266523\n"
     ]
    },
    {
     "data": {
      "image/png": "[encoded data removed]",
      "text/plain": [
       "<matplotlib.figure.Figure at 0x13455d2d400>"
      ]
     },
     "metadata": {},
     "output_type": "display_data"
    }
   ],
   "source": [
    "import seaborn as sns\n",
    "review_star = review_stars\n",
    "n = len(review_star)\n",
    "print(n)\n",
    "data = [x for x in review_star]\n",
    "final_result = {1:0, 1.5:0, 2:0, 2.5:0, 3:0, 3.5:0, 4:0, 4.5:0, 5:0}\n",
    "for x in review_star:\n",
    "    final_result[x] = final_result[x] + 1\n",
    "\n",
    "print(final_result)\n",
    "\n",
    "X = []\n",
    "P = []\n",
    "\n",
    "def draw_graph(mu, sig2):\n",
    "    z = 3\n",
    "    X = np.arange(mu-z*np.sqrt(sig2), mu+z*np.sqrt(sig2), 0.001)\n",
    "    for i in X:\n",
    "        P.append(np.exp(-(i - mu)**2 / (2*sig2) ) / np.sqrt(2*np.pi*sig2))\n",
    "    s = \"mu = %.4f var = %.4f\" % (mu, sig2)\n",
    "    plt.step(X, P, label=s, color='r')\n",
    "    plt.grid()\n",
    "    plt.legend(bbox_to_anchor=(0,1),loc=2,borderaxespad=0.1)\n",
    "\n",
    "x_label = list(final_result.keys())\n",
    "y_label=[]\n",
    "\n",
    "for x in list(final_result.values()):\n",
    "    y_label.append(float(x)/n)\n",
    "\n",
    "\n",
    "plt.xlabel('Review Rating')\n",
    "plt.ylabel('Distribution')\n",
    "\n",
    "plt.bar(x_label, y_label, color='g')\n",
    "\n",
    "arr = np.array(review_star)\n",
    "mean = np.mean(arr)\n",
    "std = np.std(arr)\n",
    "print(mean)\n",
    "print(std)\n",
    "\n",
    "\n",
    "\n",
    "draw_graph(mean, std)\n",
    "plt.savefig('elite_user_normal_distribution.png')\n",
    "\n",
    "plt.show()"
   ]
  },
  {
   "cell_type": "code",
   "execution_count": 116,
   "metadata": {},
   "outputs": [
    {
     "data": {
      "text/plain": [
       "Ks_2sampResult(statistic=0.3429091644750152, pvalue=0.19259877577564505)"
      ]
     },
     "execution_count": 116,
     "metadata": {},
     "output_type": "execute_result"
    }
   ],
   "source": [
    "from scipy import stats\n",
    "stats.ks_2samp(P, y_label)"
   ]
  },
  {
   "cell_type": "code",
   "execution_count": null,
   "metadata": {},
   "outputs": [],
   "source": []
  }
 ],
 "metadata": {
  "kernelspec": {
   "display_name": "Python 3",
   "language": "python",
   "name": "python3"
  },
  "language_info": {
   "codemirror_mode": {
    "name": "ipython",
    "version": 3
   },
   "file_extension": ".py",
   "mimetype": "text/x-python",
   "name": "python",
   "nbconvert_exporter": "python",
   "pygments_lexer": "ipython3",
   "version": "3.6.4"
  }
 },
 "nbformat": 4,
 "nbformat_minor": 2
}
