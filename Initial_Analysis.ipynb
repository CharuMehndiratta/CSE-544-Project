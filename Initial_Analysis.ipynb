{
 "cells": [
  {
   "cell_type": "code",
   "execution_count": 192,
   "metadata": {},
   "outputs": [],
   "source": [
    "import json\n",
    "import seaborn as sns\n",
    "import pandas as pd\n",
    "import matplotlib.pyplot as plt"
   ]
  },
  {
   "cell_type": "code",
   "execution_count": 193,
   "metadata": {},
   "outputs": [],
   "source": [
    "business_data = open('dataset/business.json')\n",
    "\n",
    "business = []\n",
    "\n",
    "for line in business_data:\n",
    "    business.append(json.loads(line))"
   ]
  },
  {
   "cell_type": "code",
   "execution_count": 3,
   "metadata": {},
   "outputs": [],
   "source": [
    "user_data = open('dataset/user.json')\n",
    "\n",
    "users = []\n",
    "\n",
    "for line in user_data:\n",
    "    users.append(json.loads(line))"
   ]
  },
  {
   "cell_type": "code",
   "execution_count": 29,
   "metadata": {},
   "outputs": [],
   "source": [
    "review_data = open('dataset/review.json', encoding=\"utf8\")\n",
    "\n",
    "review = []\n",
    "\n",
    "for line in review_data:\n",
    "    review.append(json.loads(line))"
   ]
  },
  {
   "cell_type": "code",
   "execution_count": 12,
   "metadata": {},
   "outputs": [
    {
     "name": "stdout",
     "output_type": "stream",
     "text": [
      "54618\n"
     ]
    }
   ],
   "source": [
    "restaurants = []\n",
    "for b in business:\n",
    "    if 'Restaurants' in b ['categories']:\n",
    "        restaurants.append(b)\n",
    "print(len(restaurants))"
   ]
  },
  {
   "cell_type": "code",
   "execution_count": 13,
   "metadata": {},
   "outputs": [],
   "source": [
    "cat = []\n",
    "for b in business:\n",
    "    cat += b['categories']\n",
    "\n",
    "#print(set(cat))\n",
    "#print(cat)\n",
    "#print(len(set(cat)))"
   ]
  },
  {
   "cell_type": "code",
   "execution_count": 14,
   "metadata": {},
   "outputs": [],
   "source": [
    "filter_cat = [u'Buffets', u'Rotisserie Chicken', u'Creperies', u'Canadian (New)', u'Teppanyaki', u'Fischbroetchen', u'Ukrainian', \n",
    " u'Juice Bars & Smoothies', u'Restaurants', u'Halal', u'Cantonese', u'Herbs & Spices', u'Noodles', u'Curry Sausage', \n",
    " u'Milkshake Bars', u'Chicken Wings', u'Food Stands', u'Pop-Up Restaurants', u'Japanese Curry', u'Lounges', \n",
    " u'Persian/Iranian', u'Cajun/Creole', u'Bar Crawl', u'Greek', u'Pretzels', u'Dinner Theater', u'Chinese', \n",
    " u'Food Trucks', u'Alsatian',u'Hookah Bars', u'Middle Eastern',  u'Shanghainese', u'Restaurant Supplies', \n",
    " u'Hungarian', u'Donairs',  u'Diners', u'Sports Bars', u'Vegetarian', u'Chicken Shop', u'Brewing Supplies', u'Pita', \n",
    " u'Wine Tours', u'Honduran', u'Haitian', u'Laotian', u'Kombucha', u'Vietnamese', u'Pizza', u'Poke', u'Venezuelan', \n",
    " u'Wine Tasting Room', u'Tiki Bars', u'Falafel', u'Food Court', u'Beer Garden', u'Seafood', u'British', \n",
    " u'Beer Gardens', u'Japanese', u'Pub Food', u'Hot Dogs', u'Whiskey Bars', u'Salvadoran', u'Sandwiches', \n",
    " u'Swiss Food', u'Shaved Ice', u'Dim Sum', u'Bistros', u'Patisserie/Cake Shop', u'Cocktail Bars', u'Dive Bars', \n",
    " u'Parent Cafes', u'Latin American', u'Airport Lounges', u'Soba', u'Coffee & Tea',  u'Cheesesteaks', \n",
    " u'Wine & Spirits', u'Tapas Bars', u'Szechuan', u'Barbeque', u'Cuban', u'Minho', u'Burgers', u'Bavarian', \n",
    " u'Wraps', u'Cupcakes', u'Personal Chefs', u'Food Tours', u'Indian', u'Ranches',  u'New Mexican Cuisine', \n",
    " u'Party & Event Planning', u'Bartenders', u'Smokehouse', u'Beach Bars', u'Peruvian', u'Wine Tasting Classes', \n",
    " u'Vape Shops', u'Waffles', u'Delicatessen', u'Piano Bars', u'Food', u'Moroccan', u'Ethnic Food', u'Reflexology', \n",
    " u'Comfort Food', u'Portuguese', u'Arcades', u'Cafeteria', u'Soul Food', u'Gluten-Free', u'Supper Clubs', \n",
    " u'Sushi Bars', u'Tea Rooms', u'Food Delivery Services', u'Friterie', u'Italian',  u'Mediterranean', u'Tex-Mex', \n",
    " u'Caribbean',  u'Caterers', u'Pan Asian', u'Breakfast & Brunch', u'Do-It-Yourself Food', u'Indonesian', \n",
    " u'Themed Cafes', u'Hawaiian', u'Irish Pub', u'Iberian', u'Thai', u'Fish & Chips', u'Uzbek', u'Food Banks', \n",
    " u'Burmese', u'Scandinavian', u'Beer Bar', u'Singaporean', u'Turkish', u'African', u'Live/Raw Food', u'Gay Bars', \n",
    " u'Swabian', u'Tacos', u'Mulled Wine', u'Cheese Tasting Classes', u'Popcorn Shops', u'Ramen', u'Flatbread', \n",
    " u'Oxygen Bars', u'Casinos', u'Champagne Bars', u'Pawn Shops', u'Candy Stores', u'Kebab', u'Karaoke', u'Wine Bars', \n",
    " u'Hotels', u'Fondue', u'Cambodian', u'Donuts', u'Bagels', u'Himalayan/Nepalese', u'Hotels & Travel', u'Lebanese', \n",
    " u'Tai Chi',  u'Cideries', u'Soup', u'Pumpkin Patches', u'Coffeeshops', u'Sri Lankan', u'Beer Tours', \n",
    " u'Chimney Sweeps', u'Street Vendors', u'Tapas/Small Plates', u'Arabian', u'Belgian', u'Hotel bar', u'Pasta Shops', \n",
    " u'Senegalese', u'Party Supplies', u'Carousels', u'Salad', u'Marinas', u'Imported Food', u'Steakhouses', u'Hakka', \n",
    " u'Gelato', u'Beverage Store', u'Desserts', u'Puerto Rican', u'Polish', u'Fruits & Veggies', u'Beer', \n",
    " u'Beer Hall', u'Bubble Tea', u'Ethiopian', u'Honey', u'Cafes', u'Wineries', u'Kitchen & Bath', \n",
    " u'Island Pub', u'Ice Cream & Frozen Yogurt', u'Bars', u'Ice Delivery', u'Tempura', u'Korean', \n",
    " u'Pakistani', u'Pubs', u'Gastropubs', u'Bakeries', u'Breweries', u'Malaysian', u'Custom Cakes', \n",
    " u'Junkyards', u'Irish', u'Czech', u'Palatine', u'Drive-Thru Bars', u'Guamanian', u'Cheese Shops', \n",
    " u'Trinidadian', u'Fast Food', u'Colombian', u'Sports Clubs', u'Coffee & Tea Supplies', u'Olive Oil', \n",
    " u'Kitchen Incubators', u'Coffee Roasteries', u'Hainan', u'Kiosk', u'Mexican', u'Meat Shops', u'Specialty Food', \n",
    " u'Spanish', u'Tonkatsu']"
   ]
  },
  {
   "cell_type": "code",
   "execution_count": 15,
   "metadata": {},
   "outputs": [],
   "source": [
    "attributes = ['GoodForMeal', 'HappyHour', 'GoodForKids', 'Alcohol', 'Ambience', 'AgesAllowed', 'WiFi', 'DogsAllowed', 'RestaurantsTakeOut', 'WheelchairAccessible', 'DriveThru', 'BestNights', 'DietaryRestrictions', 'AcceptsInsurance', 'NoiseLevel', 'BusinessParking', 'GoodForDancing', 'HasTV', 'CoatCheck', 'Corkage', 'BusinessAcceptsCreditCards', 'Music', 'RestaurantsGoodForGroups', 'HairSpecializesIn', 'RestaurantsPriceRange2', 'Caters', 'RestaurantsAttire', 'RestaurantsDelivery', 'BusinessAcceptsBitcoin', 'RestaurantsTableService', 'RestaurantsReservations', 'Open24Hours', 'OutdoorSeating', 'Smoking', 'BYOB', 'RestaurantsCounterService', 'BYOBCorkage', 'ByAppointmentOnly', 'BikeParking']"
   ]
  },
  {
   "cell_type": "code",
   "execution_count": 16,
   "metadata": {},
   "outputs": [
    {
     "name": "stdout",
     "output_type": "stream",
     "text": [
      "['GoodForMeal', 'HappyHour', 'GoodForKids', 'Alcohol', 'Ambience', 'AgesAllowed', 'WiFi', 'DogsAllowed', 'RestaurantsTakeOut', 'WheelchairAccessible', 'DriveThru', 'BestNights', 'DietaryRestrictions', 'AcceptsInsurance', 'NoiseLevel', 'BusinessParking', 'GoodForDancing', 'HasTV', 'CoatCheck', 'Corkage', 'BusinessAcceptsCreditCards', 'Music', 'RestaurantsGoodForGroups', 'HairSpecializesIn', 'RestaurantsPriceRange2', 'Caters', 'RestaurantsAttire', 'RestaurantsDelivery', 'BusinessAcceptsBitcoin', 'RestaurantsTableService', 'RestaurantsReservations', 'Open24Hours', 'OutdoorSeating', 'Smoking', 'BYOB', 'RestaurantsCounterService', 'BYOBCorkage', 'ByAppointmentOnly', 'BikeParking']\n"
     ]
    }
   ],
   "source": [
    "print(attributes)"
   ]
  },
  {
   "cell_type": "code",
   "execution_count": 17,
   "metadata": {
    "scrolled": true
   },
   "outputs": [
    {
     "name": "stdout",
     "output_type": "stream",
     "text": [
      "54618\n",
      "81122\n"
     ]
    }
   ],
   "source": [
    "food_places = []\n",
    "print(len(restaurants))\n",
    "\n",
    "for b in business:\n",
    "    attr = b['categories']\n",
    "    if [i for i in attr if i in filter_cat]:\n",
    "        food_places.append(b)\n",
    "\n",
    "\n",
    "print(len(food_places))"
   ]
  },
  {
   "cell_type": "code",
   "execution_count": 149,
   "metadata": {},
   "outputs": [
    {
     "name": "stdout",
     "output_type": "stream",
     "text": [
      "81122\n"
     ]
    }
   ],
   "source": [
    "def get_out_level(NL):\n",
    "    if (NL == True):\n",
    "        return 1\n",
    "    if (NL == False):\n",
    "        return 0\n",
    "    print(NL)\n",
    "    return 0\n",
    "\n",
    "def get_group_level(AC):\n",
    "    if (AC == True):\n",
    "        return 1\n",
    "    if (AC == False):\n",
    "        return 0\n",
    "    print(AC)\n",
    "    return 0\n",
    "\n",
    "business_categories = []\n",
    "\n",
    "for b in food_places:\n",
    "        attr = b['attributes']\n",
    "        if 'RestaurantsGoodForGroups' in attr:\n",
    "            g_lvl = attr['RestaurantsGoodForGroups']\n",
    "        else:\n",
    "            g_lvl = False\n",
    "            \n",
    "        if 'OutdoorSeating' in attr:\n",
    "            o_lvl = attr['OutdoorSeating']\n",
    "        else:\n",
    "            o_lvl = False\n",
    "\n",
    "        business_categories.append({\n",
    "            'Group': g_lvl,\n",
    "            'Outdoor': o_lvl\n",
    "        })\n",
    "\n",
    "print(len(business_categories))"
   ]
  },
  {
   "cell_type": "code",
   "execution_count": 151,
   "metadata": {},
   "outputs": [
    {
     "data": {
      "text/html": [
       "<div>\n",
       "<style scoped>\n",
       "    .dataframe tbody tr th:only-of-type {\n",
       "        vertical-align: middle;\n",
       "    }\n",
       "\n",
       "    .dataframe tbody tr th {\n",
       "        vertical-align: top;\n",
       "    }\n",
       "\n",
       "    .dataframe thead th {\n",
       "        text-align: right;\n",
       "    }\n",
       "</style>\n",
       "<table border=\"1\" class=\"dataframe\">\n",
       "  <thead>\n",
       "    <tr style=\"text-align: right;\">\n",
       "      <th></th>\n",
       "      <th>Group</th>\n",
       "      <th>Outdoor</th>\n",
       "    </tr>\n",
       "  </thead>\n",
       "  <tbody>\n",
       "    <tr>\n",
       "      <th>Group</th>\n",
       "      <td>1.000000</td>\n",
       "      <td>0.321242</td>\n",
       "    </tr>\n",
       "    <tr>\n",
       "      <th>Outdoor</th>\n",
       "      <td>0.321242</td>\n",
       "      <td>1.000000</td>\n",
       "    </tr>\n",
       "  </tbody>\n",
       "</table>\n",
       "</div>"
      ],
      "text/plain": [
       "            Group   Outdoor\n",
       "Group    1.000000  0.321242\n",
       "Outdoor  0.321242  1.000000"
      ]
     },
     "execution_count": 151,
     "metadata": {},
     "output_type": "execute_result"
    }
   ],
   "source": [
    "business_categories_df = pd.DataFrame(business_categories)\n",
    "business_categories_df.corr()"
   ]
  },
  {
   "cell_type": "code",
   "execution_count": 123,
   "metadata": {},
   "outputs": [
    {
     "name": "stdout",
     "output_type": "stream",
     "text": [
      "['vegetarian', 'hipster', 'asian', 'validated', 'touristy', 'quiet', 'HasTV', 'vegan', 'yes_free', 'GoodForKids', 'halal', 'coloring', 'monday', 'ByAppointmentOnly', 'latenight', 'CoatCheck', 'RestaurantsTableService', 'none', 'BYOB', 'paid', 'upscale', 'DogsAllowed', 'formal', 'sunday', 'yes_corkage', 'dressy', 'soy-free', 'beer_and_wine', 'straightperms', 'jukebox', 'loud', 'BikeParking', 'no_music', 'RestaurantsPriceRange2', 'saturday', 'WheelchairAccessible', '18plus', 'RestaurantsCounterService', 'BusinessAcceptsBitcoin', 'valet', 'GoodForDancing', 'Corkage', 'dinner', 'africanamerican', 'dairy-free', 'full_bar', 'brunch', 'street', 'tuesday', 'lot', 'intimate', 'garage', 'Caters', 'breakfast', 'friday', 'kosher', 'background_music', 'curly', 'dessert', 'Open24Hours', 'wednesday', 'free', 'gluten-free', 'OutdoorSeating', '19plus', 'RestaurantsTakeOut', 'video', 'romantic', 'yes', 'perms', 'karaoke', 'live', 'HappyHour', 'trendy', 'lunch', 'thursday', 'casual', 'RestaurantsGoodForGroups', 'outdoor', 'allages', 'extensions', 'RestaurantsReservations', '21plus', 'very_loud', 'DriveThru', 'classy', 'divey', 'dj', 'BusinessAcceptsCreditCards', 'RestaurantsDelivery', 'AcceptsInsurance', 'average', 'kids', 'no']\n",
      "94\n"
     ]
    }
   ],
   "source": [
    "all_attr = set()\n",
    "\n",
    "def rec_attr(d):\n",
    "  for k, v in d.items():\n",
    "    if isinstance(v, dict):\n",
    "          rec_attr(v)\n",
    "    else:\n",
    "            #print(\"{0} : {1}\".format(k, v))\n",
    "            if (v != True and v != False and not isinstance(v, int)):\n",
    "                all_attr.add(v)\n",
    "            else :\n",
    "                all_attr.add(k)\n",
    "    \n",
    "for b in food_places:\n",
    "        attr = b['attributes']\n",
    "        rec_attr(attr)\n",
    "        \n",
    "all_attr = list(all_attr)\n",
    "print(all_attr)\n",
    "print(len(all_attr))"
   ]
  },
  {
   "cell_type": "code",
   "execution_count": 145,
   "metadata": {},
   "outputs": [
    {
     "name": "stdout",
     "output_type": "stream",
     "text": [
      "{'vegetarian': False, 'hipster': False, 'asian': False, 'validated': False, 'touristy': False, 'quiet': False, 'HasTV': False, 'vegan': False, 'yes_free': False, 'GoodForKids': False, 'halal': False, 'coloring': False, 'monday': False, 'ByAppointmentOnly': False, 'latenight': False, 'CoatCheck': False, 'RestaurantsTableService': False, 'none': False, 'BYOB': False, 'paid': False, 'upscale': False, 'DogsAllowed': False, 'formal': False, 'sunday': False, 'yes_corkage': False, 'dressy': False, 'soy-free': False, 'beer_and_wine': False, 'straightperms': False, 'jukebox': False, 'loud': False, 'BikeParking': False, 'no_music': False, 'RestaurantsPriceRange2': False, 'saturday': False, 'WheelchairAccessible': False, '18plus': False, 'RestaurantsCounterService': False, 'BusinessAcceptsBitcoin': False, 'valet': False, 'GoodForDancing': False, 'Corkage': False, 'dinner': False, 'africanamerican': False, 'dairy-free': False, 'full_bar': False, 'brunch': False, 'street': False, 'tuesday': False, 'lot': False, 'intimate': False, 'garage': False, 'Caters': False, 'breakfast': False, 'friday': False, 'kosher': False, 'background_music': False, 'curly': False, 'dessert': False, 'Open24Hours': False, 'wednesday': False, 'free': False, 'gluten-free': False, 'OutdoorSeating': False, '19plus': False, 'RestaurantsTakeOut': False, 'video': False, 'romantic': False, 'yes': False, 'perms': False, 'karaoke': False, 'live': False, 'HappyHour': False, 'trendy': False, 'lunch': False, 'thursday': False, 'casual': False, 'RestaurantsGoodForGroups': False, 'outdoor': False, 'allages': False, 'extensions': False, 'RestaurantsReservations': False, '21plus': False, 'very_loud': False, 'DriveThru': False, 'classy': False, 'divey': False, 'dj': False, 'BusinessAcceptsCreditCards': False, 'RestaurantsDelivery': False, 'AcceptsInsurance': False, 'average': False, 'kids': False, 'no': False}\n"
     ]
    }
   ],
   "source": [
    "all_attr_list = list(all_attr)\n",
    "all_attr_tuple = {k : False for k in all_attr_list}\n",
    "print(all_attr_tuple)"
   ]
  },
  {
   "cell_type": "code",
   "execution_count": 165,
   "metadata": {},
   "outputs": [
    {
     "name": "stdout",
     "output_type": "stream",
     "text": [
      "81122\n"
     ]
    }
   ],
   "source": [
    "def rec_attr_main(d, l):\n",
    "  for k, v in d.items():\n",
    "    if isinstance(v, dict):\n",
    "          rec_attr_main(v, l)\n",
    "    else:\n",
    "            #print(\"{0} : {1}\".format(k, v))\n",
    "            if (k == 'RestaurantsPriceRange2'):\n",
    "                l[k] = True\n",
    "            elif (v != True and v != False and not isinstance(v, int)):\n",
    "                l[v] = True\n",
    "                #print(v)\n",
    "            else :\n",
    "                #print(\"{0} : {1}\".format(k, v))\n",
    "                l[k] = v\n",
    "att_mat = []\n",
    "attr = []\n",
    "\n",
    "for fp in food_places:\n",
    "    t = {k : False for k in all_attr_list}\n",
    "    attr = fp['attributes']\n",
    "    #print(attr)\n",
    "    rec_attr_main(attr, t)\n",
    "    #print(t['RestaurantsPriceRange2'])\n",
    "    att_mat.append(t)\n",
    "\n",
    "print(len(att_mat))"
   ]
  },
  {
   "cell_type": "code",
   "execution_count": 162,
   "metadata": {},
   "outputs": [],
   "source": [
    "#for item in food_places[:5]:\n",
    "#    print(item)"
   ]
  },
  {
   "cell_type": "code",
   "execution_count": 163,
   "metadata": {},
   "outputs": [],
   "source": [
    "#for item in att_mat[:5]:\n",
    "#    print(item)"
   ]
  },
  {
   "cell_type": "code",
   "execution_count": 208,
   "metadata": {},
   "outputs": [],
   "source": [
    "corr_mat_df = pd.DataFrame(att_mat)\n",
    "corr_mat_df['Noise'] = corr_mat_df['very_loud'] | corr_mat_df['loud'] | corr_mat_df['average'] | corr_mat_df['dj'] | corr_mat_df['jukebox']| corr_mat_df['live'] | corr_mat_df['video'] | corr_mat_df['karaoke'] | corr_mat_df['18plus']\n",
    "corr_mat_df['Alcohol'] = corr_mat_df['beer_and_wine'] | corr_mat_df['full_bar']\n",
    "corr_mat_df['Smoking'] = corr_mat_df['yes'] | corr_mat_df['outdoor']\n"
   ]
  },
  {
   "cell_type": "code",
   "execution_count": 209,
   "metadata": {},
   "outputs": [],
   "source": [
    "a = corr_mat_df.corr(method = \"pearson\")\n"
   ]
  },
  {
   "cell_type": "code",
   "execution_count": 210,
   "metadata": {},
   "outputs": [
    {
     "name": "stdout",
     "output_type": "stream",
     "text": [
      "0.4818010208731377\n",
      "0.3306841538015215\n",
      "0.12827651202368465\n"
     ]
    }
   ],
   "source": [
    "print(a['Noise']['Alcohol'])\n",
    "print(a['Smoking']['Alcohol'])\n",
    "print(a['Alcohol']['latenight'])\n"
   ]
  },
  {
   "cell_type": "code",
   "execution_count": 190,
   "metadata": {},
   "outputs": [
    {
     "data": {
      "text/html": [
       "<div>\n",
       "<style scoped>\n",
       "    .dataframe tbody tr th:only-of-type {\n",
       "        vertical-align: middle;\n",
       "    }\n",
       "\n",
       "    .dataframe tbody tr th {\n",
       "        vertical-align: top;\n",
       "    }\n",
       "\n",
       "    .dataframe thead th {\n",
       "        text-align: right;\n",
       "    }\n",
       "</style>\n",
       "<table border=\"1\" class=\"dataframe\">\n",
       "  <thead>\n",
       "    <tr style=\"text-align: right;\">\n",
       "      <th></th>\n",
       "      <th>18plus</th>\n",
       "      <th>19plus</th>\n",
       "      <th>21plus</th>\n",
       "      <th>AcceptsInsurance</th>\n",
       "      <th>BYOB</th>\n",
       "      <th>BikeParking</th>\n",
       "      <th>BusinessAcceptsBitcoin</th>\n",
       "      <th>BusinessAcceptsCreditCards</th>\n",
       "      <th>ByAppointmentOnly</th>\n",
       "      <th>Caters</th>\n",
       "      <th>...</th>\n",
       "      <th>vegan</th>\n",
       "      <th>vegetarian</th>\n",
       "      <th>very_loud</th>\n",
       "      <th>video</th>\n",
       "      <th>wednesday</th>\n",
       "      <th>yes</th>\n",
       "      <th>yes_corkage</th>\n",
       "      <th>yes_free</th>\n",
       "      <th>Noise</th>\n",
       "      <th>Alcohol</th>\n",
       "    </tr>\n",
       "  </thead>\n",
       "  <tbody>\n",
       "    <tr>\n",
       "      <th>0</th>\n",
       "      <td>False</td>\n",
       "      <td>False</td>\n",
       "      <td>False</td>\n",
       "      <td>False</td>\n",
       "      <td>False</td>\n",
       "      <td>True</td>\n",
       "      <td>False</td>\n",
       "      <td>True</td>\n",
       "      <td>False</td>\n",
       "      <td>False</td>\n",
       "      <td>...</td>\n",
       "      <td>False</td>\n",
       "      <td>False</td>\n",
       "      <td>False</td>\n",
       "      <td>False</td>\n",
       "      <td>True</td>\n",
       "      <td>False</td>\n",
       "      <td>False</td>\n",
       "      <td>False</td>\n",
       "      <td>True</td>\n",
       "      <td>True</td>\n",
       "    </tr>\n",
       "  </tbody>\n",
       "</table>\n",
       "<p>1 rows × 96 columns</p>\n",
       "</div>"
      ],
      "text/plain": [
       "   18plus  19plus  21plus  AcceptsInsurance   BYOB  BikeParking  \\\n",
       "0   False   False   False             False  False         True   \n",
       "\n",
       "   BusinessAcceptsBitcoin  BusinessAcceptsCreditCards  ByAppointmentOnly  \\\n",
       "0                   False                        True              False   \n",
       "\n",
       "   Caters   ...     vegan  vegetarian  very_loud  video  wednesday    yes  \\\n",
       "0   False   ...     False       False      False  False       True  False   \n",
       "\n",
       "   yes_corkage  yes_free  Noise  Alcohol  \n",
       "0        False     False   True     True  \n",
       "\n",
       "[1 rows x 96 columns]"
      ]
     },
     "execution_count": 190,
     "metadata": {},
     "output_type": "execute_result"
    }
   ],
   "source": [
    "corr_mat_df.head(1)"
   ]
  },
  {
   "cell_type": "code",
   "execution_count": 21,
   "metadata": {},
   "outputs": [
    {
     "name": "stdout",
     "output_type": "stream",
     "text": [
      "{'BikeParking', 'RestaurantsPriceRange2', 'HappyHour', 'WheelchairAccessible', 'RestaurantsAttire', 'Caters', 'AgesAllowed', 'HasTV', 'Music', 'RestaurantsCounterService', 'RestaurantsGoodForGroups', 'GoodForKids', 'BYOBCorkage', 'WiFi', 'NoiseLevel', 'RestaurantsReservations', 'BusinessAcceptsBitcoin', 'Open24Hours', 'Smoking', 'ByAppointmentOnly', 'GoodForDancing', 'CoatCheck', 'Corkage', 'RestaurantsTableService', 'GoodForMeal', 'BYOB', 'DriveThru', 'BestNights', 'DogsAllowed', 'BusinessParking', 'BusinessAcceptsCreditCards', 'RestaurantsDelivery', 'AcceptsInsurance', 'DietaryRestrictions', 'OutdoorSeating', 'Alcohol', 'RestaurantsTakeOut', 'HairSpecializesIn', 'Ambience'}\n",
      "39\n"
     ]
    }
   ],
   "source": [
    "attr = []\n",
    "for r in food_places:\n",
    "    attr += r['attributes']\n",
    "print(set(attr))\n",
    "print(len(set(attr)))"
   ]
  },
  {
   "cell_type": "code",
   "execution_count": 46,
   "metadata": {},
   "outputs": [
    {
     "name": "stdout",
     "output_type": "stream",
     "text": [
      "{'business_id': 'PfOCPjBrlQAnz__NXj9h_w', 'name': 'Brick House Tavern + Tap', 'neighborhood': '', 'address': '581 Howe Ave', 'city': 'Cuyahoga Falls', 'state': 'OH', 'postal_code': '44221', 'latitude': 41.1195346, 'longitude': -81.4756898, 'stars': 3.5, 'review_count': 116, 'is_open': 1, 'attributes': {'Alcohol': 'full_bar', 'HasTV': True, 'NoiseLevel': 'average', 'RestaurantsAttire': 'casual', 'BusinessAcceptsCreditCards': True, 'Music': {'dj': False, 'background_music': True, 'no_music': False, 'karaoke': False, 'live': False, 'video': False, 'jukebox': False}, 'Ambience': {'romantic': False, 'intimate': False, 'classy': False, 'hipster': False, 'divey': False, 'touristy': False, 'trendy': False, 'upscale': False, 'casual': True}, 'RestaurantsGoodForGroups': True, 'Caters': False, 'WiFi': 'free', 'RestaurantsReservations': False, 'BikeParking': True, 'RestaurantsTakeOut': True, 'GoodForKids': True, 'HappyHour': True, 'GoodForDancing': False, 'RestaurantsTableService': True, 'OutdoorSeating': True, 'RestaurantsPriceRange2': 2, 'RestaurantsDelivery': False, 'BestNights': {'monday': False, 'tuesday': False, 'friday': True, 'wednesday': True, 'thursday': False, 'sunday': False, 'saturday': True}, 'GoodForMeal': {'dessert': False, 'latenight': True, 'lunch': False, 'dinner': True, 'breakfast': False, 'brunch': False}, 'BusinessParking': {'garage': False, 'street': False, 'validated': False, 'lot': True, 'valet': False}, 'CoatCheck': False, 'Smoking': 'outdoor', 'DriveThru': False}, 'categories': ['American (New)', 'Nightlife', 'Bars', 'Sandwiches', 'American (Traditional)', 'Burgers', 'Restaurants'], 'hours': {'Monday': '11:00-1:00', 'Tuesday': '11:00-1:00', 'Friday': '11:00-1:00', 'Wednesday': '11:00-1:00', 'Thursday': '11:00-1:00', 'Sunday': '11:00-0:00', 'Saturday': '11:00-2:00'}}\n"
     ]
    }
   ],
   "source": [
    "for p in food_places[:1]:\n",
    "    print(p)"
   ]
  },
  {
   "cell_type": "code",
   "execution_count": 22,
   "metadata": {},
   "outputs": [
    {
     "name": "stdout",
     "output_type": "stream",
     "text": [
      "54618\n"
     ]
    }
   ],
   "source": [
    "review_count = []\n",
    "\n",
    "for b in restaurants:\n",
    "        review_count.append(b['review_count'])\n",
    "\n",
    "print(len(review_count))"
   ]
  },
  {
   "cell_type": "code",
   "execution_count": 22,
   "metadata": {},
   "outputs": [
    {
     "data": {
      "text/plain": [
       "<matplotlib.axes._subplots.AxesSubplot at 0x2ba2517ec50>"
      ]
     },
     "execution_count": 22,
     "metadata": {},
     "output_type": "execute_result"
    },
    {
     "data": {
      "image/png": "[encoded data removed]",
      "text/plain": [
       "<matplotlib.figure.Figure at 0x2ba2517e710>"
      ]
     },
     "metadata": {},
     "output_type": "display_data"
    }
   ],
   "source": [
    "sns.distplot(review_count)"
   ]
  },
  {
   "cell_type": "code",
   "execution_count": 23,
   "metadata": {},
   "outputs": [
    {
     "data": {
      "image/png": "[encoded data removed]",
      "text/plain": [
       "<matplotlib.figure.Figure at 0x255a60cea20>"
      ]
     },
     "metadata": {},
     "output_type": "display_data"
    }
   ],
   "source": [
    "y, bins, patches = plt.hist(review_count, 12, log=True, facecolor='#6699cc', alpha=0.45)"
   ]
  },
  {
   "cell_type": "code",
   "execution_count": 24,
   "metadata": {},
   "outputs": [],
   "source": [
    "avg_stars = []\n",
    "for u in users:\n",
    "    avg_stars.append(u['average_stars'])"
   ]
  },
  {
   "cell_type": "code",
   "execution_count": 25,
   "metadata": {},
   "outputs": [
    {
     "data": {
      "image/png": "[encoded data removed]",
      "text/plain": [
       "<matplotlib.figure.Figure at 0x255a64387b8>"
      ]
     },
     "metadata": {},
     "output_type": "display_data"
    }
   ],
   "source": [
    "y, bins, patches = plt.hist(avg_stars, 12, log=False, facecolor='#6699cc', alpha=0.45)"
   ]
  },
  {
   "cell_type": "code",
   "execution_count": 26,
   "metadata": {},
   "outputs": [
    {
     "name": "stdout",
     "output_type": "stream",
     "text": [
      "1326101\n"
     ]
    }
   ],
   "source": [
    "friend_counts = []\n",
    "for user in users:\n",
    "    friend_counts.append(len(user[\"friends\"]))\n",
    "\n",
    "print(len(friend_counts))"
   ]
  },
  {
   "cell_type": "code",
   "execution_count": 28,
   "metadata": {},
   "outputs": [
    {
     "data": {
      "image/png": "[encoded data removed]",
      "text/plain": [
       "<matplotlib.figure.Figure at 0x255a67a0b00>"
      ]
     },
     "metadata": {},
     "output_type": "display_data"
    }
   ],
   "source": [
    "nonzero_friend_counts = [c for c in friend_counts if c>0]\n",
    "y, bins, patches = plt.hist(nonzero_friend_counts, 12, log=True, facecolor='#6699cc', alpha=0.45)"
   ]
  },
  {
   "cell_type": "code",
   "execution_count": 29,
   "metadata": {},
   "outputs": [],
   "source": [
    "review_count_by_elite_years = []\n",
    "for i in range(15):\n",
    "    review_count_by_elite_years.append([])"
   ]
  },
  {
   "cell_type": "code",
   "execution_count": 30,
   "metadata": {},
   "outputs": [],
   "source": [
    "for user in users:\n",
    "    elite_years = len(user['elite'])\n",
    "    review_count_by_elite_years[elite_years].append(user['review_count'])"
   ]
  },
  {
   "cell_type": "code",
   "execution_count": 31,
   "metadata": {},
   "outputs": [],
   "source": [
    "elite = sum(len(review_count_by_elite_years[i]) for i in range(1,len(review_count_by_elite_years)))"
   ]
  },
  {
   "cell_type": "code",
   "execution_count": 32,
   "metadata": {},
   "outputs": [
    {
     "data": {
      "image/png": "[encoded data removed]",
      "text/plain": [
       "<matplotlib.figure.Figure at 0x255a6990358>"
      ]
     },
     "metadata": {},
     "output_type": "display_data"
    }
   ],
   "source": [
    "plt.boxplot(review_count_by_elite_years)\n",
    "plt.axis([0,13,0,3000])\n",
    "plt.ylabel('reviews')\n",
    "plt.xlabel('years of elite status')\n",
    "plt.title('Number of reviews by elite status')\n",
    "plt.grid(True)\n",
    "plt.show()"
   ]
  },
  {
   "cell_type": "code",
   "execution_count": 33,
   "metadata": {},
   "outputs": [
    {
     "data": {
      "image/png": "[encoded data removed]",
      "text/plain": [
       "<matplotlib.figure.Figure at 0x255a780b0b8>"
      ]
     },
     "metadata": {},
     "output_type": "display_data"
    }
   ],
   "source": [
    "review_counts = [user['review_count'] for user in users if user['review_count']>0 and user['review_count']<1000]\n",
    "y, bins, patches = plt.hist(review_counts, 16, log=True, facecolor='#6699cc', alpha=0.50)"
   ]
  },
  {
   "cell_type": "code",
   "execution_count": 34,
   "metadata": {},
   "outputs": [
    {
     "name": "stdout",
     "output_type": "stream",
     "text": [
      "54618\n"
     ]
    }
   ],
   "source": [
    "def get_noise_level(NL):\n",
    "    if (NL == \"quiet\"):\n",
    "        return 0\n",
    "    if (NL == \"average\"):\n",
    "        return 1\n",
    "    if (NL == 'loud'):\n",
    "        return 1\n",
    "    if (NL == 'very_loud'):\n",
    "        return 1\n",
    "    print(NL)\n",
    "    return 0\n",
    "\n",
    "def get_alcohol_level(AC):\n",
    "    if (AC == 'full_bar'):\n",
    "        return 1\n",
    "    if (AC == 'beer_and_wine'):\n",
    "        return 1\n",
    "    if (AC == 'none'):\n",
    "        return 0\n",
    "    print(AC)\n",
    "    return 0\n",
    "\n",
    "def get_smoke_level(SM):\n",
    "    if (SM == 'no'):\n",
    "        return 0\n",
    "    if (SM == 'yes'):\n",
    "        return 1\n",
    "    if (SM == 'outdoor'):\n",
    "        return 1\n",
    "    print(SM)\n",
    "    return 0\n",
    "\n",
    "business_categories = []\n",
    "\n",
    "for b in restaurants:\n",
    "        attr = b['attributes']\n",
    "        if 'Alcohol' in attr:\n",
    "            alc_lvl = get_alcohol_level(attr['Alcohol'])\n",
    "        else:\n",
    "            alc_lvl = 0\n",
    "            \n",
    "        if 'NoiseLevel' in attr:\n",
    "            noise_lvl = get_noise_level(attr['NoiseLevel'])\n",
    "        else:\n",
    "            noise_lvl = 0\n",
    "            \n",
    "        if 'Smoking' in attr:\n",
    "            smoke_lvl = get_smoke_level(attr['Smoking'])\n",
    "        else:\n",
    "            smoke_lvl = 0\n",
    "\n",
    "        business_categories.append({\n",
    "            'Alcohol': alc_lvl,\n",
    "            'NoiseLevel': noise_lvl,\n",
    "            'Smoking': smoke_lvl\n",
    "        })\n",
    "\n",
    "print(len(business_categories))"
   ]
  },
  {
   "cell_type": "code",
   "execution_count": 60,
   "metadata": {},
   "outputs": [
    {
     "data": {
      "text/html": [
       "<div>\n",
       "<style scoped>\n",
       "    .dataframe tbody tr th:only-of-type {\n",
       "        vertical-align: middle;\n",
       "    }\n",
       "\n",
       "    .dataframe tbody tr th {\n",
       "        vertical-align: top;\n",
       "    }\n",
       "\n",
       "    .dataframe thead th {\n",
       "        text-align: right;\n",
       "    }\n",
       "</style>\n",
       "<table border=\"1\" class=\"dataframe\">\n",
       "  <thead>\n",
       "    <tr style=\"text-align: right;\">\n",
       "      <th></th>\n",
       "      <th>Alcohol</th>\n",
       "      <th>NoiseLevel</th>\n",
       "      <th>Smoking</th>\n",
       "    </tr>\n",
       "  </thead>\n",
       "  <tbody>\n",
       "    <tr>\n",
       "      <th>Alcohol</th>\n",
       "      <td>1.000000</td>\n",
       "      <td>0.466476</td>\n",
       "      <td>0.330684</td>\n",
       "    </tr>\n",
       "    <tr>\n",
       "      <th>NoiseLevel</th>\n",
       "      <td>0.466476</td>\n",
       "      <td>1.000000</td>\n",
       "      <td>0.211177</td>\n",
       "    </tr>\n",
       "    <tr>\n",
       "      <th>Smoking</th>\n",
       "      <td>0.330684</td>\n",
       "      <td>0.211177</td>\n",
       "      <td>1.000000</td>\n",
       "    </tr>\n",
       "  </tbody>\n",
       "</table>\n",
       "</div>"
      ],
      "text/plain": [
       "             Alcohol  NoiseLevel   Smoking\n",
       "Alcohol     1.000000    0.466476  0.330684\n",
       "NoiseLevel  0.466476    1.000000  0.211177\n",
       "Smoking     0.330684    0.211177  1.000000"
      ]
     },
     "execution_count": 60,
     "metadata": {},
     "output_type": "execute_result"
    }
   ],
   "source": [
    "business_categories_df = pd.DataFrame(business_categories)\n",
    "business_categories_df.corr()"
   ]
  },
  {
   "cell_type": "code",
   "execution_count": 50,
   "metadata": {},
   "outputs": [
    {
     "data": {
      "text/html": [
       "<div>\n",
       "<style scoped>\n",
       "    .dataframe tbody tr th:only-of-type {\n",
       "        vertical-align: middle;\n",
       "    }\n",
       "\n",
       "    .dataframe tbody tr th {\n",
       "        vertical-align: top;\n",
       "    }\n",
       "\n",
       "    .dataframe thead th {\n",
       "        text-align: right;\n",
       "    }\n",
       "</style>\n",
       "<table border=\"1\" class=\"dataframe\">\n",
       "  <thead>\n",
       "    <tr style=\"text-align: right;\">\n",
       "      <th></th>\n",
       "      <th>Alcohol</th>\n",
       "      <th>NoiseLevel</th>\n",
       "    </tr>\n",
       "  </thead>\n",
       "  <tbody>\n",
       "    <tr>\n",
       "      <th>0</th>\n",
       "      <td>1</td>\n",
       "      <td>1</td>\n",
       "    </tr>\n",
       "    <tr>\n",
       "      <th>1</th>\n",
       "      <td>1</td>\n",
       "      <td>0</td>\n",
       "    </tr>\n",
       "    <tr>\n",
       "      <th>2</th>\n",
       "      <td>0</td>\n",
       "      <td>0</td>\n",
       "    </tr>\n",
       "    <tr>\n",
       "      <th>3</th>\n",
       "      <td>0</td>\n",
       "      <td>0</td>\n",
       "    </tr>\n",
       "    <tr>\n",
       "      <th>4</th>\n",
       "      <td>0</td>\n",
       "      <td>0</td>\n",
       "    </tr>\n",
       "  </tbody>\n",
       "</table>\n",
       "</div>"
      ],
      "text/plain": [
       "   Alcohol  NoiseLevel\n",
       "0        1           1\n",
       "1        1           0\n",
       "2        0           0\n",
       "3        0           0\n",
       "4        0           0"
      ]
     },
     "execution_count": 50,
     "metadata": {},
     "output_type": "execute_result"
    }
   ],
   "source": [
    "business_categories_df.head(5)"
   ]
  },
  {
   "cell_type": "code",
   "execution_count": null,
   "metadata": {},
   "outputs": [],
   "source": [
    "business_categories_df.plot(x='Alcohol', y='NoiseLevel', style='o')  \n",
    "plt.title('Alcohol vs NoiseLevel') \n",
    "plt.xlabel('Alcohol')  \n",
    "plt.ylabel('NoiseLevel')\n",
    "plt.show()"
   ]
  },
  {
   "cell_type": "code",
   "execution_count": null,
   "metadata": {},
   "outputs": [],
   "source": [
    "for b in business:\n",
    "    if 'Restaurants' in b['categories']:\n",
    "        print(b['attributes'])\n",
    "        break"
   ]
  },
  {
   "cell_type": "code",
   "execution_count": 76,
   "metadata": {},
   "outputs": [
    {
     "name": "stdout",
     "output_type": "stream",
     "text": [
      "81122\n",
      "{'BusinessAcceptsCreditCards': True, 'RestaurantsPriceRange2': 2, 'BusinessParking': {'garage': False, 'street': False, 'validated': False, 'lot': False, 'valet': False}}\n",
      "{'BusinessAcceptsCreditCards': True, 'RestaurantsPriceRange2': 2, 'BusinessParking': {'garage': False, 'street': False, 'validated': False, 'lot': False, 'valet': False}}\n",
      "{'BusinessAcceptsCreditCards': True, 'RestaurantsPriceRange2': 2, 'BusinessParking': {'garage': False, 'street': False, 'validated': False, 'lot': False, 'valet': False}}\n",
      "{'BusinessAcceptsCreditCards': True, 'RestaurantsPriceRange2': 2, 'BusinessParking': {'garage': False, 'street': False, 'validated': False, 'lot': False, 'valet': False}}\n",
      "{'BusinessAcceptsCreditCards': True, 'RestaurantsPriceRange2': 2, 'BusinessParking': {'garage': False, 'street': False, 'validated': False, 'lot': False, 'valet': False}}\n",
      "{'BusinessAcceptsCreditCards': True, 'RestaurantsPriceRange2': 2, 'BusinessParking': {'garage': False, 'street': False, 'validated': False, 'lot': False, 'valet': False}}\n",
      "{'BusinessAcceptsCreditCards': True, 'RestaurantsPriceRange2': 2, 'BusinessParking': {'garage': False, 'street': False, 'validated': False, 'lot': False, 'valet': False}}\n",
      "{'BusinessAcceptsCreditCards': True, 'RestaurantsPriceRange2': 2, 'BusinessParking': {'garage': False, 'street': False, 'validated': False, 'lot': False, 'valet': False}}\n",
      "{'BusinessAcceptsCreditCards': True, 'RestaurantsPriceRange2': 2, 'BusinessParking': {'garage': False, 'street': False, 'validated': False, 'lot': False, 'valet': False}}\n",
      "{'BusinessAcceptsCreditCards': True, 'RestaurantsPriceRange2': 2, 'BusinessParking': {'garage': False, 'street': False, 'validated': False, 'lot': False, 'valet': False}}\n",
      "{'BusinessAcceptsCreditCards': True, 'RestaurantsPriceRange2': 2, 'BusinessParking': {'garage': False, 'street': False, 'validated': False, 'lot': False, 'valet': False}}\n",
      "{'BusinessAcceptsCreditCards': True, 'RestaurantsPriceRange2': 2, 'BusinessParking': {'garage': False, 'street': False, 'validated': False, 'lot': False, 'valet': False}}\n",
      "{'BusinessAcceptsCreditCards': True, 'RestaurantsPriceRange2': 2, 'BusinessParking': {'garage': False, 'street': False, 'validated': False, 'lot': False, 'valet': False}}\n",
      "{'BusinessAcceptsCreditCards': True, 'RestaurantsPriceRange2': 2, 'BusinessParking': {'garage': False, 'street': False, 'validated': False, 'lot': False, 'valet': False}}\n",
      "{'BusinessAcceptsCreditCards': True, 'RestaurantsPriceRange2': 2, 'BusinessParking': {'garage': False, 'street': False, 'validated': False, 'lot': False, 'valet': False}}\n",
      "{'BusinessAcceptsCreditCards': True, 'RestaurantsPriceRange2': 2, 'BusinessParking': {'garage': False, 'street': False, 'validated': False, 'lot': False, 'valet': False}}\n",
      "{'BusinessAcceptsCreditCards': True, 'RestaurantsPriceRange2': 2, 'BusinessParking': {'garage': False, 'street': False, 'validated': False, 'lot': False, 'valet': False}}\n",
      "{'BusinessAcceptsCreditCards': True, 'RestaurantsPriceRange2': 2, 'BusinessParking': {'garage': False, 'street': False, 'validated': False, 'lot': False, 'valet': False}}\n",
      "{'BusinessAcceptsCreditCards': True, 'RestaurantsPriceRange2': 2, 'BusinessParking': {'garage': False, 'street': False, 'validated': False, 'lot': False, 'valet': False}}\n",
      "{'BusinessAcceptsCreditCards': True, 'RestaurantsPriceRange2': 2, 'BusinessParking': {'garage': False, 'street': False, 'validated': False, 'lot': False, 'valet': False}}\n",
      "{'BusinessAcceptsCreditCards': True, 'RestaurantsPriceRange2': 2, 'BusinessParking': {'garage': False, 'street': False, 'validated': False, 'lot': False, 'valet': False}}\n",
      "{'BusinessAcceptsCreditCards': True, 'RestaurantsPriceRange2': 2, 'BusinessParking': {'garage': False, 'street': False, 'validated': False, 'lot': False, 'valet': False}}\n",
      "{'BusinessAcceptsCreditCards': True, 'RestaurantsPriceRange2': 2, 'BusinessParking': {'garage': False, 'street': False, 'validated': False, 'lot': False, 'valet': False}}\n",
      "{'BusinessAcceptsCreditCards': True, 'RestaurantsPriceRange2': 2, 'BusinessParking': {'garage': False, 'street': False, 'validated': False, 'lot': False, 'valet': False}}\n",
      "{'BusinessAcceptsCreditCards': True, 'RestaurantsPriceRange2': 2, 'BusinessParking': {'garage': False, 'street': False, 'validated': False, 'lot': False, 'valet': False}}\n",
      "{'BusinessAcceptsCreditCards': True, 'RestaurantsPriceRange2': 2, 'BusinessParking': {'garage': False, 'street': False, 'validated': False, 'lot': False, 'valet': False}}\n",
      "{'BusinessAcceptsCreditCards': True, 'RestaurantsPriceRange2': 2, 'BusinessParking': {'garage': False, 'street': False, 'validated': False, 'lot': False, 'valet': False}}\n",
      "{'BusinessAcceptsCreditCards': True, 'RestaurantsPriceRange2': 2, 'BusinessParking': {'garage': False, 'street': False, 'validated': False, 'lot': False, 'valet': False}}\n",
      "{'BusinessAcceptsCreditCards': True, 'RestaurantsPriceRange2': 2, 'BusinessParking': {'garage': False, 'street': False, 'validated': False, 'lot': False, 'valet': False}}\n",
      "{'BusinessAcceptsCreditCards': True, 'RestaurantsPriceRange2': 2, 'BusinessParking': {'garage': False, 'street': False, 'validated': False, 'lot': False, 'valet': False}}\n",
      "{'BusinessAcceptsCreditCards': True, 'RestaurantsPriceRange2': 2, 'BusinessParking': {'garage': False, 'street': False, 'validated': False, 'lot': False, 'valet': False}}\n",
      "{'BusinessAcceptsCreditCards': True, 'RestaurantsPriceRange2': 2, 'BusinessParking': {'garage': False, 'street': False, 'validated': False, 'lot': False, 'valet': False}}\n",
      "{'BusinessAcceptsCreditCards': True, 'RestaurantsPriceRange2': 2, 'BusinessParking': {'garage': False, 'street': False, 'validated': False, 'lot': False, 'valet': False}}\n",
      "{'BusinessAcceptsCreditCards': True, 'RestaurantsPriceRange2': 2, 'BusinessParking': {'garage': False, 'street': False, 'validated': False, 'lot': False, 'valet': False}}\n",
      "{'BusinessAcceptsCreditCards': True, 'RestaurantsPriceRange2': 2, 'BusinessParking': {'garage': False, 'street': False, 'validated': False, 'lot': False, 'valet': False}}\n",
      "{'BusinessAcceptsCreditCards': True, 'RestaurantsPriceRange2': 2, 'BusinessParking': {'garage': False, 'street': False, 'validated': False, 'lot': False, 'valet': False}}\n",
      "{'BusinessAcceptsCreditCards': True, 'RestaurantsPriceRange2': 2, 'BusinessParking': {'garage': False, 'street': False, 'validated': False, 'lot': False, 'valet': False}}\n",
      "{'BusinessAcceptsCreditCards': True, 'RestaurantsPriceRange2': 2, 'BusinessParking': {'garage': False, 'street': False, 'validated': False, 'lot': False, 'valet': False}}\n",
      "{'BusinessAcceptsCreditCards': True, 'RestaurantsPriceRange2': 2, 'BusinessParking': {'garage': False, 'street': False, 'validated': False, 'lot': False, 'valet': False}}\n",
      "{'BusinessAcceptsCreditCards': True, 'RestaurantsPriceRange2': 2, 'BusinessParking': {'garage': False, 'street': False, 'validated': False, 'lot': False, 'valet': False}}\n",
      "{'BusinessAcceptsCreditCards': True, 'RestaurantsPriceRange2': 2, 'BusinessParking': {'garage': False, 'street': False, 'validated': False, 'lot': False, 'valet': False}}\n",
      "{'BusinessAcceptsCreditCards': True, 'RestaurantsPriceRange2': 2, 'BusinessParking': {'garage': False, 'street': False, 'validated': False, 'lot': False, 'valet': False}}\n",
      "{'BusinessAcceptsCreditCards': True, 'RestaurantsPriceRange2': 2, 'BusinessParking': {'garage': False, 'street': False, 'validated': False, 'lot': False, 'valet': False}}\n",
      "{'BusinessAcceptsCreditCards': True, 'RestaurantsPriceRange2': 2, 'BusinessParking': {'garage': False, 'street': False, 'validated': False, 'lot': False, 'valet': False}}\n",
      "{'BusinessAcceptsCreditCards': True, 'RestaurantsPriceRange2': 2, 'BusinessParking': {'garage': False, 'street': False, 'validated': False, 'lot': False, 'valet': False}}\n",
      "{'BusinessAcceptsCreditCards': True, 'RestaurantsPriceRange2': 2, 'BusinessParking': {'garage': False, 'street': False, 'validated': False, 'lot': False, 'valet': False}}\n",
      "{'BusinessAcceptsCreditCards': True, 'RestaurantsPriceRange2': 2, 'BusinessParking': {'garage': False, 'street': False, 'validated': False, 'lot': False, 'valet': False}}\n",
      "{'BusinessAcceptsCreditCards': True, 'RestaurantsPriceRange2': 2, 'BusinessParking': {'garage': False, 'street': False, 'validated': False, 'lot': False, 'valet': False}}\n",
      "{'BusinessAcceptsCreditCards': True, 'RestaurantsPriceRange2': 2, 'BusinessParking': {'garage': False, 'street': False, 'validated': False, 'lot': False, 'valet': False}}\n",
      "{'BusinessAcceptsCreditCards': True, 'RestaurantsPriceRange2': 2, 'BusinessParking': {'garage': False, 'street': False, 'validated': False, 'lot': False, 'valet': False}}\n",
      "{'BusinessAcceptsCreditCards': True, 'RestaurantsPriceRange2': 2, 'BusinessParking': {'garage': False, 'street': False, 'validated': False, 'lot': False, 'valet': False}}\n",
      "{'BusinessAcceptsCreditCards': True, 'RestaurantsPriceRange2': 2, 'BusinessParking': {'garage': False, 'street': False, 'validated': False, 'lot': False, 'valet': False}}\n",
      "{'BusinessAcceptsCreditCards': True, 'RestaurantsPriceRange2': 2, 'BusinessParking': {'garage': False, 'street': False, 'validated': False, 'lot': False, 'valet': False}}\n",
      "{'BusinessAcceptsCreditCards': True, 'RestaurantsPriceRange2': 2, 'BusinessParking': {'garage': False, 'street': False, 'validated': False, 'lot': False, 'valet': False}}\n",
      "{'BusinessAcceptsCreditCards': True, 'RestaurantsPriceRange2': 2, 'BusinessParking': {'garage': False, 'street': False, 'validated': False, 'lot': False, 'valet': False}}\n",
      "{'BusinessAcceptsCreditCards': True, 'RestaurantsPriceRange2': 2, 'BusinessParking': {'garage': False, 'street': False, 'validated': False, 'lot': False, 'valet': False}}\n",
      "{'BusinessAcceptsCreditCards': True, 'RestaurantsPriceRange2': 2, 'BusinessParking': {'garage': False, 'street': False, 'validated': False, 'lot': False, 'valet': False}}\n",
      "{'BusinessAcceptsCreditCards': True, 'RestaurantsPriceRange2': 2, 'BusinessParking': {'garage': False, 'street': False, 'validated': False, 'lot': False, 'valet': False}}\n",
      "{'BusinessAcceptsCreditCards': True, 'RestaurantsPriceRange2': 2, 'BusinessParking': {'garage': False, 'street': False, 'validated': False, 'lot': False, 'valet': False}}\n",
      "{'BusinessAcceptsCreditCards': True, 'RestaurantsPriceRange2': 2, 'BusinessParking': {'garage': False, 'street': False, 'validated': False, 'lot': False, 'valet': False}}\n",
      "{'BusinessAcceptsCreditCards': True, 'RestaurantsPriceRange2': 2, 'BusinessParking': {'garage': False, 'street': False, 'validated': False, 'lot': False, 'valet': False}}\n",
      "{'BusinessAcceptsCreditCards': True, 'RestaurantsPriceRange2': 2, 'BusinessParking': {'garage': False, 'street': False, 'validated': False, 'lot': False, 'valet': False}}\n",
      "{'BusinessAcceptsCreditCards': True, 'RestaurantsPriceRange2': 2, 'BusinessParking': {'garage': False, 'street': False, 'validated': False, 'lot': False, 'valet': False}}\n",
      "{'BusinessAcceptsCreditCards': True, 'RestaurantsPriceRange2': 2, 'BusinessParking': {'garage': False, 'street': False, 'validated': False, 'lot': False, 'valet': False}}\n",
      "{'BusinessAcceptsCreditCards': True, 'RestaurantsPriceRange2': 2, 'BusinessParking': {'garage': False, 'street': False, 'validated': False, 'lot': False, 'valet': False}}\n",
      "{'BusinessAcceptsCreditCards': True, 'RestaurantsPriceRange2': 2, 'BusinessParking': {'garage': False, 'street': False, 'validated': False, 'lot': False, 'valet': False}}\n",
      "{'BusinessAcceptsCreditCards': True, 'RestaurantsPriceRange2': 2, 'BusinessParking': {'garage': False, 'street': False, 'validated': False, 'lot': False, 'valet': False}}\n",
      "{'BusinessAcceptsCreditCards': True, 'RestaurantsPriceRange2': 2, 'BusinessParking': {'garage': False, 'street': False, 'validated': False, 'lot': False, 'valet': False}}\n",
      "{'BusinessAcceptsCreditCards': True, 'RestaurantsPriceRange2': 2, 'BusinessParking': {'garage': False, 'street': False, 'validated': False, 'lot': False, 'valet': False}}\n",
      "{'BusinessAcceptsCreditCards': True, 'RestaurantsPriceRange2': 2, 'BusinessParking': {'garage': False, 'street': False, 'validated': False, 'lot': False, 'valet': False}}\n",
      "{'BusinessAcceptsCreditCards': True, 'RestaurantsPriceRange2': 2, 'BusinessParking': {'garage': False, 'street': False, 'validated': False, 'lot': False, 'valet': False}}\n",
      "{'BusinessAcceptsCreditCards': True, 'RestaurantsPriceRange2': 2, 'BusinessParking': {'garage': False, 'street': False, 'validated': False, 'lot': False, 'valet': False}}\n",
      "{'BusinessAcceptsCreditCards': True, 'RestaurantsPriceRange2': 2, 'BusinessParking': {'garage': False, 'street': False, 'validated': False, 'lot': False, 'valet': False}}\n",
      "{'BusinessAcceptsCreditCards': True, 'RestaurantsPriceRange2': 2, 'BusinessParking': {'garage': False, 'street': False, 'validated': False, 'lot': False, 'valet': False}}\n",
      "{'BusinessAcceptsCreditCards': True, 'RestaurantsPriceRange2': 2, 'BusinessParking': {'garage': False, 'street': False, 'validated': False, 'lot': False, 'valet': False}}\n",
      "{'BusinessAcceptsCreditCards': True, 'RestaurantsPriceRange2': 2, 'BusinessParking': {'garage': False, 'street': False, 'validated': False, 'lot': False, 'valet': False}}\n",
      "{'BusinessAcceptsCreditCards': True, 'RestaurantsPriceRange2': 2, 'BusinessParking': {'garage': False, 'street': False, 'validated': False, 'lot': False, 'valet': False}}\n",
      "{'BusinessAcceptsCreditCards': True, 'RestaurantsPriceRange2': 2, 'BusinessParking': {'garage': False, 'street': False, 'validated': False, 'lot': False, 'valet': False}}\n",
      "{'BusinessAcceptsCreditCards': True, 'RestaurantsPriceRange2': 2, 'BusinessParking': {'garage': False, 'street': False, 'validated': False, 'lot': False, 'valet': False}}\n",
      "{'BusinessAcceptsCreditCards': True, 'RestaurantsPriceRange2': 2, 'BusinessParking': {'garage': False, 'street': False, 'validated': False, 'lot': False, 'valet': False}}\n",
      "{'BusinessAcceptsCreditCards': True, 'RestaurantsPriceRange2': 2, 'BusinessParking': {'garage': False, 'street': False, 'validated': False, 'lot': False, 'valet': False}}\n",
      "{'BusinessAcceptsCreditCards': True, 'RestaurantsPriceRange2': 2, 'BusinessParking': {'garage': False, 'street': False, 'validated': False, 'lot': False, 'valet': False}}\n",
      "{'BusinessAcceptsCreditCards': True, 'RestaurantsPriceRange2': 2, 'BusinessParking': {'garage': False, 'street': False, 'validated': False, 'lot': False, 'valet': False}}\n",
      "{'BusinessAcceptsCreditCards': True, 'RestaurantsPriceRange2': 2, 'BusinessParking': {'garage': False, 'street': False, 'validated': False, 'lot': False, 'valet': False}}\n",
      "{'BusinessAcceptsCreditCards': True, 'RestaurantsPriceRange2': 2, 'BusinessParking': {'garage': False, 'street': False, 'validated': False, 'lot': False, 'valet': False}}\n",
      "{'BusinessAcceptsCreditCards': True, 'RestaurantsPriceRange2': 2, 'BusinessParking': {'garage': False, 'street': False, 'validated': False, 'lot': False, 'valet': False}}\n",
      "{'BusinessAcceptsCreditCards': True, 'RestaurantsPriceRange2': 2, 'BusinessParking': {'garage': False, 'street': False, 'validated': False, 'lot': False, 'valet': False}}\n",
      "{'BusinessAcceptsCreditCards': True, 'RestaurantsPriceRange2': 2, 'BusinessParking': {'garage': False, 'street': False, 'validated': False, 'lot': False, 'valet': False}}\n",
      "{'BusinessAcceptsCreditCards': True, 'RestaurantsPriceRange2': 2, 'BusinessParking': {'garage': False, 'street': False, 'validated': False, 'lot': False, 'valet': False}}\n",
      "{'BusinessAcceptsCreditCards': True, 'RestaurantsPriceRange2': 2, 'BusinessParking': {'garage': False, 'street': False, 'validated': False, 'lot': False, 'valet': False}}\n",
      "{'BusinessAcceptsCreditCards': True, 'RestaurantsPriceRange2': 2, 'BusinessParking': {'garage': False, 'street': False, 'validated': False, 'lot': False, 'valet': False}}\n",
      "{'BusinessAcceptsCreditCards': True, 'RestaurantsPriceRange2': 2, 'BusinessParking': {'garage': False, 'street': False, 'validated': False, 'lot': False, 'valet': False}}\n",
      "{'BusinessAcceptsCreditCards': True, 'RestaurantsPriceRange2': 2, 'BusinessParking': {'garage': False, 'street': False, 'validated': False, 'lot': False, 'valet': False}}\n",
      "{'BusinessAcceptsCreditCards': True, 'RestaurantsPriceRange2': 2, 'BusinessParking': {'garage': False, 'street': False, 'validated': False, 'lot': False, 'valet': False}}\n",
      "{'BusinessAcceptsCreditCards': True, 'RestaurantsPriceRange2': 2, 'BusinessParking': {'garage': False, 'street': False, 'validated': False, 'lot': False, 'valet': False}}\n",
      "{'BusinessAcceptsCreditCards': True, 'RestaurantsPriceRange2': 2, 'BusinessParking': {'garage': False, 'street': False, 'validated': False, 'lot': False, 'valet': False}}\n",
      "{'BusinessAcceptsCreditCards': True, 'RestaurantsPriceRange2': 2, 'BusinessParking': {'garage': False, 'street': False, 'validated': False, 'lot': False, 'valet': False}}\n",
      "{'BusinessAcceptsCreditCards': True, 'RestaurantsPriceRange2': 2, 'BusinessParking': {'garage': False, 'street': False, 'validated': False, 'lot': False, 'valet': False}}\n",
      "{'BusinessAcceptsCreditCards': True, 'RestaurantsPriceRange2': 2, 'BusinessParking': {'garage': False, 'street': False, 'validated': False, 'lot': False, 'valet': False}}\n",
      "{'BusinessAcceptsCreditCards': True, 'RestaurantsPriceRange2': 2, 'BusinessParking': {'garage': False, 'street': False, 'validated': False, 'lot': False, 'valet': False}}\n",
      "set()\n"
     ]
    }
   ],
   "source": [
    "# Print all attributes of a restaurant:\n",
    "attr = []\n",
    "print(len(restaurants))\n",
    "c = 0\n",
    "for r in restaurants :\n",
    "    c = c + 1\n",
    "    a = b['attributes']\n",
    "    print(a)\n",
    "    if (c == 100):\n",
    "        break\n",
    "\n",
    "print(set(attr))"
   ]
  },
  {
   "cell_type": "code",
   "execution_count": 82,
   "metadata": {},
   "outputs": [],
   "source": [
    "d = []\n",
    "d.append"
   ]
  },
  {
   "cell_type": "code",
   "execution_count": null,
   "metadata": {},
   "outputs": [],
   "source": []
  }
 ],
 "metadata": {
  "kernelspec": {
   "display_name": "Python 3",
   "language": "python",
   "name": "python3"
  },
  "language_info": {
   "codemirror_mode": {
    "name": "ipython",
    "version": 3
   },
   "file_extension": ".py",
   "mimetype": "text/x-python",
   "name": "python",
   "nbconvert_exporter": "python",
   "pygments_lexer": "ipython3",
   "version": "3.6.4"
  }
 },
 "nbformat": 4,
 "nbformat_minor": 2
}
