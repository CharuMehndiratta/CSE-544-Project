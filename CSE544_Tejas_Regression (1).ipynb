{
 "cells": [
  {
   "cell_type": "code",
   "execution_count": 1,
   "metadata": {},
   "outputs": [
    {
     "name": "stderr",
     "output_type": "stream",
     "text": [
      "C:\\Users\\Nisha\\Anaconda2\\envs\\py36\\lib\\site-packages\\sklearn\\cross_validation.py:41: DeprecationWarning: This module was deprecated in version 0.18 in favor of the model_selection module into which all the refactored classes and functions are moved. Also note that the interface of the new CV iterators are different from that of this module. This module will be removed in 0.20.\n",
      "  \"This module will be removed in 0.20.\", DeprecationWarning)\n"
     ]
    }
   ],
   "source": [
    "import pandas as pd\n",
    "import numpy as np\n",
    "import pickle as pkl\n",
    "from sklearn.cross_validation import train_test_split\n",
    "from sklearn import linear_model\n",
    "import matplotlib.pyplot as plt"
   ]
  },
  {
   "cell_type": "code",
   "execution_count": 2,
   "metadata": {},
   "outputs": [],
   "source": [
    "def load_pickles(path):\n",
    "    business = pd.read_pickle(path)\n",
    "    return business"
   ]
  },
  {
   "cell_type": "code",
   "execution_count": 4,
   "metadata": {},
   "outputs": [],
   "source": [
    "business_path = \"C:/Users/Nisha/Downloads/CSE-544-Project-master/CSE-544-Project-master/business.pickle\"\n",
    "bcategories_path = \"C:/Users/Nisha/Downloads/CSE-544-Project-master/CSE-544-Project-master/business_categories.pickle\"\n",
    "business_attributes_path = \"C:/Users/Nisha/Downloads/CSE-544-Project-master/CSE-544-Project-master/business_attribute.pickle\" \n",
    "\n",
    "business=load_pickles(business_path)\n",
    "business_category = load_pickles(bcategories_path)\n",
    "business_attributes= load_pickles(business_attributes_path)\n",
    "photos = load_pickles(\"C:/Users/Nisha/photos.pickle\")"
   ]
  },
  {
   "cell_type": "code",
   "execution_count": 8,
   "metadata": {},
   "outputs": [],
   "source": [
    "photos = pd.DataFrame(data=photos)"
   ]
  },
  {
   "cell_type": "code",
   "execution_count": 36,
   "metadata": {},
   "outputs": [],
   "source": [
    "business=pd.DataFrame(data=business)\n",
    "business_category=pd.DataFrame(data=business_category)\n",
    "business_attributes=pd.DataFrame(data=business_attributes)\n",
    "#business_new = pd.merge(business,business_category,on='business_id')\n",
    "#print(business_category)\n",
    "#category_count = business_category.groupby('business_id').size()\n",
    "X = pd.DataFrame()\n",
    "\n",
    "#X['review_count'] = business['review_count']\n",
    "#X['alcohol'] = business_attributes['Alcohol']\n",
    "#X['HappyHour'] = business_attributes['HappyHour']\n",
    "#X['WiFi']  = business_attributes['WiFi']\n",
    "#X['OutdoorSeating'] = business_attributes['OutdoorSeating']\n",
    "#print(X.shape)"
   ]
  },
  {
   "cell_type": "code",
   "execution_count": 23,
   "metadata": {},
   "outputs": [
    {
     "name": "stdout",
     "output_type": "stream",
     "text": [
      "Finding restaurants..\n"
     ]
    }
   ],
   "source": [
    "print(\"Finding restaurants..\")\n",
    "restaurants_df = business_category[business_category['category_name'] == 'Restaurants']\n",
    "restaurant_attributes = pd.merge(restaurants_df,business_attributes,on='business_id') #Restaurants with business id and attributes\n",
    "\n",
    "restaurants = pd.merge(restaurants_df,business,on='business_id')\n",
    "restaurant_review_count = pd.DataFrame()\n",
    "restaurant_review_count['review_count'] = restaurants['review_count']\n",
    "restaurant_review_count['business_id'] = restaurants['business_id'] #Restaurants with their business id and review count\n"
   ]
  },
  {
   "cell_type": "code",
   "execution_count": 81,
   "metadata": {},
   "outputs": [
    {
     "name": "stdout",
     "output_type": "stream",
     "text": [
      "54618\n"
     ]
    }
   ],
   "source": [
    "temp_attributes = pd.DataFrame()\n",
    "temp_attributes['alcohol'] = restaurant_attributes['Alcohol']\n",
    "temp_attributes['HappyHour'] = restaurant_attributes['HappyHour']\n",
    "temp_attributes['WiFi']  = restaurant_attributes['WiFi']\n",
    "temp_attributes['OutdoorSeating'] = restaurant_attributes['OutdoorSeating']\n",
    "temp_attributes['business_id'] = restaurant_attributes['business_id']\n",
    "print(len(temp_attributes))"
   ]
  },
  {
   "cell_type": "code",
   "execution_count": 84,
   "metadata": {},
   "outputs": [
    {
     "name": "stdout",
     "output_type": "stream",
     "text": [
      "54618\n"
     ]
    }
   ],
   "source": [
    "restaurants_photos = photos.groupby('business_id')['photo_id'].size().reset_index()\n",
    "restaurants_photos.columns = ['business_id','num_of_photos']\n",
    "\n",
    "x1 = pd.merge(restaurant_review_count,temp_attributes,on='business_id')\n",
    "x2 = pd.merge(x1,restaurants_photos,on='business_id', how='left')\n",
    "print(len(x2))"
   ]
  },
  {
   "cell_type": "code",
   "execution_count": 85,
   "metadata": {},
   "outputs": [
    {
     "name": "stdout",
     "output_type": "stream",
     "text": [
      "54618\n"
     ]
    }
   ],
   "source": [
    "x_temp = x2[['alcohol','HappyHour','WiFi','OutdoorSeating']]\n",
    "x = pd.get_dummies(x_temp,drop_first=True)\n",
    "print(len(x))"
   ]
  },
  {
   "cell_type": "code",
   "execution_count": 76,
   "metadata": {},
   "outputs": [
    {
     "name": "stdout",
     "output_type": "stream",
     "text": [
      "54618\n"
     ]
    }
   ],
   "source": [
    "#temp_business_attributes = business_attributes\n",
    "#temp_business_attributes = temp_business_attributes.drop(columns=['business_id'])\n",
    "\n",
    "#X = pd.DataFrame(X).as_matrix()\n",
    "Y = pd.DataFrame(restaurants['stars'])\n",
    "\n",
    "print(len(Y))"
   ]
  },
  {
   "cell_type": "code",
   "execution_count": 182,
   "metadata": {},
   "outputs": [],
   "source": [
    "\"\"\"\n",
    "zeros = 0\n",
    "ones = 0\n",
    "\n",
    "for i in range(len(X)):\n",
    "    for j in range(len(X[0])):\n",
    "        if X[i][j] == False:\n",
    "            zeros = zeros + 1\n",
    "            X[i][j]=0\n",
    "        else:\n",
    "            ones = ones + 1\n",
    "            X[i][j]=1\n",
    "indices = ['AcceptsInsurance', 'AgesAllowed', 'Alcohol', 'BYOB', 'BYOBCorkage',\n",
    "       'BikeParking', 'BusinessAcceptsBitcoin', 'BusinessAcceptsCreditCards',\n",
    "       'ByAppointmentOnly', 'Caters', 'CoatCheck', 'Corkage', 'DogsAllowed',\n",
    "       'DriveThru', 'GoodForDancing', 'GoodForKids', 'HappyHour', 'HasTV',\n",
    "       'NoiseLevel', 'Open24Hours', 'OutdoorSeating', 'RestaurantsAttire',\n",
    "       'RestaurantsCounterService', 'RestaurantsDelivery',\n",
    "       'RestaurantsGoodForGroups', 'RestaurantsPriceRange2',\n",
    "       'RestaurantsReservations', 'RestaurantsTableService',\n",
    "       'RestaurantsTakeOut', 'Smoking', 'WheelchairAccessible', 'WiFi',\n",
    "       'africanamerican', 'asian', 'background_music', 'breakfast', 'brunch',\n",
    "       'casual', 'classy', 'coloring', 'curly', 'dairy-free',\n",
    "       'dessert', 'dinner', 'divey', 'dj', 'extensions', 'friday', 'garage',\n",
    "       'gluten-free', 'halal', 'hipster', 'intimate', 'jukebox', 'karaoke',\n",
    "       'kids', 'kosher', 'latenight', 'live', 'lot', 'lunch', 'monday',\n",
    "       'no_music', 'perms', 'romantic', 'saturday', 'soy-free',\n",
    "       'straightperms', 'street', 'sunday', 'thursday', 'touristy', 'trendy',\n",
    "       'tuesday', 'upscale', 'valet', 'validated', 'vegan', 'vegetarian',\n",
    "       'video', 'wednesday']\n",
    "#X = pd.DataFrame(X_temp)\n",
    "#X.columns = indices\n",
    "#X=X.loc[:,['Alcohol','HappyHour','WiFi','Smoking','OutdoorSeating','GoodForKids']]\n",
    "\n",
    "\"\"\"\n"
   ]
  },
  {
   "cell_type": "code",
   "execution_count": 185,
   "metadata": {},
   "outputs": [],
   "source": [
    "#X = X.reshape(-1, 1)\n",
    "#print(X)\n",
    "#X = pd.DataFrame(X)\n",
    "\n",
    "#X['review_count'] = business['review_count']"
   ]
  },
  {
   "cell_type": "code",
   "execution_count": 139,
   "metadata": {},
   "outputs": [
    {
     "data": {
      "text/plain": [
       "array([[-0.07562018,  0.10112202,  0.15949111,  0.03874552, -0.00654609,\n",
       "         0.15575311,  0.11159047, -0.07134761]])"
      ]
     },
     "execution_count": 139,
     "metadata": {},
     "output_type": "execute_result"
    }
   ],
   "source": [
    "lm.coef_"
   ]
  },
  {
   "cell_type": "code",
   "execution_count": 140,
   "metadata": {},
   "outputs": [],
   "source": [
    "X_train, X_test, y_train, y_test = train_test_split(x,Y,test_size=0.10, random_state=15)\n"
   ]
  },
  {
   "cell_type": "code",
   "execution_count": 114,
   "metadata": {},
   "outputs": [],
   "source": [
    "lm = linear_model.LinearRegression()\n",
    "model = lm.fit(X_train,y_train)\n",
    "\n",
    "predictions = lm.predict(X_test)"
   ]
  },
  {
   "cell_type": "code",
   "execution_count": 115,
   "metadata": {},
   "outputs": [
    {
     "data": {
      "text/plain": [
       "array([[3.57302515],\n",
       "       [3.31241202],\n",
       "       [3.53241248],\n",
       "       ...,\n",
       "       [3.46816513],\n",
       "       [3.27553735],\n",
       "       [3.31241202]])"
      ]
     },
     "execution_count": 115,
     "metadata": {},
     "output_type": "execute_result"
    }
   ],
   "source": [
    "predictions"
   ]
  },
  {
   "cell_type": "code",
   "execution_count": 116,
   "metadata": {},
   "outputs": [],
   "source": [
    "def compute_sse_mape(Y_hat,Y_true):\n",
    "    \n",
    "    error = Y_true - Y_hat\n",
    "    error_t = np.transpose(error)\n",
    "    sse = np.dot(error_t,error)\n",
    "    \n",
    "    y_hat = np.array(Y_hat)\n",
    "    y_true = np.array(Y_true)\n",
    "    \n",
    "    sum_errors = 0\n",
    "    \n",
    "    for y_hat_i,y_true_i in zip(y_hat,y_true):\n",
    "        error = float(y_true_i-y_hat_i)\n",
    "        error_norm = np.absolute(error/float(y_true_i))*100\n",
    "        sum_errors += error_norm\n",
    "            \n",
    "    n = Y_true.shape[0]\n",
    "    mape = (1/float(n))*sum_errors\n",
    "    return mape,float(sse)\n"
   ]
  },
  {
   "cell_type": "code",
   "execution_count": 137,
   "metadata": {},
   "outputs": [
    {
     "data": {
      "text/plain": [
       "21.859896086509107"
      ]
     },
     "execution_count": 137,
     "metadata": {},
     "output_type": "execute_result"
    }
   ],
   "source": [
    "y_test = np.array(y_test)\n",
    "\n",
    "mape,sse = compute_sse_mape(predictions,y_test)\n",
    "\n",
    "mape"
   ]
  },
  {
   "cell_type": "code",
   "execution_count": 136,
   "metadata": {},
   "outputs": [
    {
     "data": {
      "image/png": "[encoded data removed]",
      "text/plain": [
       "<Figure size 432x288 with 1 Axes>"
      ]
     },
     "metadata": {},
     "output_type": "display_data"
    }
   ],
   "source": [
    "y_new  = []\n",
    "y_hat = []\n",
    "\n",
    "for sublist in y_test:\n",
    "    for item in sublist:\n",
    "        y_new.append(item)\n",
    "\n",
    "for sublist in predictions:\n",
    "    for item in sublist:\n",
    "        y_hat.append(item)\n",
    "        \n",
    "plt.plot(y_new[0:10],'ro')\n",
    "plt.plot(y_hat[0:10],'bo')\n",
    "plt.show()\n"
   ]
  },
  {
   "cell_type": "code",
   "execution_count": null,
   "metadata": {},
   "outputs": [],
   "source": []
  },
  {
   "cell_type": "code",
   "execution_count": null,
   "metadata": {},
   "outputs": [],
   "source": []
  }
 ],
 "metadata": {
  "kernelspec": {
   "display_name": "Python 3",
   "language": "python",
   "name": "python3"
  },
  "language_info": {
   "codemirror_mode": {
    "name": "ipython",
    "version": 3
   },
   "file_extension": ".py",
   "mimetype": "text/x-python",
   "name": "python",
   "nbconvert_exporter": "python",
   "pygments_lexer": "ipython3",
   "version": "3.6.5"
  }
 },
 "nbformat": 4,
 "nbformat_minor": 2
}
